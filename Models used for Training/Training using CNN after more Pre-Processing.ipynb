{
 "cells": [
  {
   "cell_type": "code",
   "execution_count": 1,
   "id": "70eed7ec",
   "metadata": {},
   "outputs": [],
   "source": [
    "import numpy as np\n",
    "import pandas as pd\n",
    "import seaborn as sns\n",
    "import matplotlib.pyplot as plt\n",
    "%matplotlib inline\n",
    "from sklearn.preprocessing import LabelEncoder\n",
    "from sklearn.preprocessing import StandardScaler\n",
    "from sklearn.linear_model import LogisticRegression\n",
    "from sklearn.model_selection import KFold, StratifiedKFold, train_test_split\n",
    "from sklearn.metrics import roc_auc_score, accuracy_score, confusion_matrix, roc_curve, precision_score, recall_score, precision_recall_curve\n",
    "import warnings\n",
    "warnings.simplefilter(action='ignore', category=FutureWarning)\n",
    "warnings.simplefilter(action='ignore', category=UserWarning)"
   ]
  },
  {
   "cell_type": "code",
   "execution_count": 2,
   "id": "d155b366",
   "metadata": {},
   "outputs": [
    {
     "data": {
      "text/html": [
       "<div>\n",
       "<style scoped>\n",
       "    .dataframe tbody tr th:only-of-type {\n",
       "        vertical-align: middle;\n",
       "    }\n",
       "\n",
       "    .dataframe tbody tr th {\n",
       "        vertical-align: top;\n",
       "    }\n",
       "\n",
       "    .dataframe thead th {\n",
       "        text-align: right;\n",
       "    }\n",
       "</style>\n",
       "<table border=\"1\" class=\"dataframe\">\n",
       "  <thead>\n",
       "    <tr style=\"text-align: right;\">\n",
       "      <th></th>\n",
       "      <th>ID</th>\n",
       "      <th>Office_PIN</th>\n",
       "      <th>Application_Receipt_Date</th>\n",
       "      <th>Applicant_City_PIN</th>\n",
       "      <th>Applicant_Gender</th>\n",
       "      <th>Applicant_BirthDate</th>\n",
       "      <th>Applicant_Marital_Status</th>\n",
       "      <th>Applicant_Occupation</th>\n",
       "      <th>Applicant_Qualification</th>\n",
       "      <th>Manager_DOJ</th>\n",
       "      <th>...</th>\n",
       "      <th>Manager_Status</th>\n",
       "      <th>Manager_Gender</th>\n",
       "      <th>Manager_DoB</th>\n",
       "      <th>Manager_Num_Application</th>\n",
       "      <th>Manager_Num_Coded</th>\n",
       "      <th>Manager_Business</th>\n",
       "      <th>Manager_Num_Products</th>\n",
       "      <th>Manager_Business2</th>\n",
       "      <th>Manager_Num_Products2</th>\n",
       "      <th>Business_Sourced</th>\n",
       "    </tr>\n",
       "  </thead>\n",
       "  <tbody>\n",
       "    <tr>\n",
       "      <th>0</th>\n",
       "      <td>FIN1000001</td>\n",
       "      <td>842001</td>\n",
       "      <td>4/16/2007</td>\n",
       "      <td>844120.0</td>\n",
       "      <td>M</td>\n",
       "      <td>12/19/1971</td>\n",
       "      <td>M</td>\n",
       "      <td>Others</td>\n",
       "      <td>Graduate</td>\n",
       "      <td>11/10/2005</td>\n",
       "      <td>...</td>\n",
       "      <td>Confirmation</td>\n",
       "      <td>M</td>\n",
       "      <td>2/17/1978</td>\n",
       "      <td>2.0</td>\n",
       "      <td>1.0</td>\n",
       "      <td>335249.0</td>\n",
       "      <td>28.0</td>\n",
       "      <td>335249.0</td>\n",
       "      <td>28.0</td>\n",
       "      <td>0</td>\n",
       "    </tr>\n",
       "    <tr>\n",
       "      <th>1</th>\n",
       "      <td>FIN1000002</td>\n",
       "      <td>842001</td>\n",
       "      <td>4/16/2007</td>\n",
       "      <td>844111.0</td>\n",
       "      <td>M</td>\n",
       "      <td>2/17/1983</td>\n",
       "      <td>S</td>\n",
       "      <td>Others</td>\n",
       "      <td>Class XII</td>\n",
       "      <td>11/10/2005</td>\n",
       "      <td>...</td>\n",
       "      <td>Confirmation</td>\n",
       "      <td>M</td>\n",
       "      <td>2/17/1978</td>\n",
       "      <td>2.0</td>\n",
       "      <td>1.0</td>\n",
       "      <td>335249.0</td>\n",
       "      <td>28.0</td>\n",
       "      <td>335249.0</td>\n",
       "      <td>28.0</td>\n",
       "      <td>1</td>\n",
       "    </tr>\n",
       "    <tr>\n",
       "      <th>2</th>\n",
       "      <td>FIN1000003</td>\n",
       "      <td>800001</td>\n",
       "      <td>4/16/2007</td>\n",
       "      <td>844101.0</td>\n",
       "      <td>M</td>\n",
       "      <td>1/16/1966</td>\n",
       "      <td>M</td>\n",
       "      <td>Business</td>\n",
       "      <td>Class XII</td>\n",
       "      <td>5/27/2006</td>\n",
       "      <td>...</td>\n",
       "      <td>Confirmation</td>\n",
       "      <td>M</td>\n",
       "      <td>3/3/1969</td>\n",
       "      <td>0.0</td>\n",
       "      <td>0.0</td>\n",
       "      <td>357184.0</td>\n",
       "      <td>24.0</td>\n",
       "      <td>357184.0</td>\n",
       "      <td>24.0</td>\n",
       "      <td>0</td>\n",
       "    </tr>\n",
       "    <tr>\n",
       "      <th>3</th>\n",
       "      <td>FIN1000004</td>\n",
       "      <td>814112</td>\n",
       "      <td>4/16/2007</td>\n",
       "      <td>814112.0</td>\n",
       "      <td>M</td>\n",
       "      <td>2/3/1988</td>\n",
       "      <td>S</td>\n",
       "      <td>Salaried</td>\n",
       "      <td>Class XII</td>\n",
       "      <td>8/21/2003</td>\n",
       "      <td>...</td>\n",
       "      <td>Confirmation</td>\n",
       "      <td>F</td>\n",
       "      <td>8/14/1978</td>\n",
       "      <td>0.0</td>\n",
       "      <td>0.0</td>\n",
       "      <td>318356.0</td>\n",
       "      <td>22.0</td>\n",
       "      <td>318356.0</td>\n",
       "      <td>22.0</td>\n",
       "      <td>0</td>\n",
       "    </tr>\n",
       "    <tr>\n",
       "      <th>4</th>\n",
       "      <td>FIN1000005</td>\n",
       "      <td>814112</td>\n",
       "      <td>4/16/2007</td>\n",
       "      <td>815351.0</td>\n",
       "      <td>M</td>\n",
       "      <td>7/4/1985</td>\n",
       "      <td>M</td>\n",
       "      <td>Others</td>\n",
       "      <td>Class XII</td>\n",
       "      <td>5/8/2006</td>\n",
       "      <td>...</td>\n",
       "      <td>Confirmation</td>\n",
       "      <td>M</td>\n",
       "      <td>2/7/1971</td>\n",
       "      <td>2.0</td>\n",
       "      <td>1.0</td>\n",
       "      <td>230402.0</td>\n",
       "      <td>17.0</td>\n",
       "      <td>230402.0</td>\n",
       "      <td>17.0</td>\n",
       "      <td>0</td>\n",
       "    </tr>\n",
       "    <tr>\n",
       "      <th>...</th>\n",
       "      <td>...</td>\n",
       "      <td>...</td>\n",
       "      <td>...</td>\n",
       "      <td>...</td>\n",
       "      <td>...</td>\n",
       "      <td>...</td>\n",
       "      <td>...</td>\n",
       "      <td>...</td>\n",
       "      <td>...</td>\n",
       "      <td>...</td>\n",
       "      <td>...</td>\n",
       "      <td>...</td>\n",
       "      <td>...</td>\n",
       "      <td>...</td>\n",
       "      <td>...</td>\n",
       "      <td>...</td>\n",
       "      <td>...</td>\n",
       "      <td>...</td>\n",
       "      <td>...</td>\n",
       "      <td>...</td>\n",
       "      <td>...</td>\n",
       "    </tr>\n",
       "    <tr>\n",
       "      <th>95</th>\n",
       "      <td>FIN1000096</td>\n",
       "      <td>226001</td>\n",
       "      <td>4/17/2007</td>\n",
       "      <td>261001.0</td>\n",
       "      <td>F</td>\n",
       "      <td>7/8/1964</td>\n",
       "      <td>M</td>\n",
       "      <td>Others</td>\n",
       "      <td>Graduate</td>\n",
       "      <td>9/5/2006</td>\n",
       "      <td>...</td>\n",
       "      <td>Confirmation</td>\n",
       "      <td>M</td>\n",
       "      <td>12/16/1960</td>\n",
       "      <td>0.0</td>\n",
       "      <td>1.0</td>\n",
       "      <td>57320.0</td>\n",
       "      <td>4.0</td>\n",
       "      <td>57320.0</td>\n",
       "      <td>4.0</td>\n",
       "      <td>0</td>\n",
       "    </tr>\n",
       "    <tr>\n",
       "      <th>96</th>\n",
       "      <td>FIN1000097</td>\n",
       "      <td>284001</td>\n",
       "      <td>4/17/2007</td>\n",
       "      <td>284202.0</td>\n",
       "      <td>M</td>\n",
       "      <td>7/3/1987</td>\n",
       "      <td>S</td>\n",
       "      <td>Others</td>\n",
       "      <td>Class X</td>\n",
       "      <td>5/8/2006</td>\n",
       "      <td>...</td>\n",
       "      <td>Confirmation</td>\n",
       "      <td>M</td>\n",
       "      <td>8/23/1967</td>\n",
       "      <td>1.0</td>\n",
       "      <td>1.0</td>\n",
       "      <td>171830.0</td>\n",
       "      <td>16.0</td>\n",
       "      <td>171830.0</td>\n",
       "      <td>16.0</td>\n",
       "      <td>0</td>\n",
       "    </tr>\n",
       "    <tr>\n",
       "      <th>97</th>\n",
       "      <td>FIN1000098</td>\n",
       "      <td>226001</td>\n",
       "      <td>4/17/2007</td>\n",
       "      <td>261001.0</td>\n",
       "      <td>M</td>\n",
       "      <td>5/20/1978</td>\n",
       "      <td>M</td>\n",
       "      <td>Business</td>\n",
       "      <td>Graduate</td>\n",
       "      <td>5/25/2006</td>\n",
       "      <td>...</td>\n",
       "      <td>Confirmation</td>\n",
       "      <td>M</td>\n",
       "      <td>11/7/1979</td>\n",
       "      <td>0.0</td>\n",
       "      <td>0.0</td>\n",
       "      <td>41810.0</td>\n",
       "      <td>4.0</td>\n",
       "      <td>41810.0</td>\n",
       "      <td>4.0</td>\n",
       "      <td>0</td>\n",
       "    </tr>\n",
       "    <tr>\n",
       "      <th>98</th>\n",
       "      <td>FIN1000099</td>\n",
       "      <td>226001</td>\n",
       "      <td>4/17/2007</td>\n",
       "      <td>226001.0</td>\n",
       "      <td>F</td>\n",
       "      <td>8/17/1982</td>\n",
       "      <td>S</td>\n",
       "      <td>Business</td>\n",
       "      <td>Class XII</td>\n",
       "      <td>11/15/2006</td>\n",
       "      <td>...</td>\n",
       "      <td>Confirmation</td>\n",
       "      <td>M</td>\n",
       "      <td>7/8/1977</td>\n",
       "      <td>0.0</td>\n",
       "      <td>1.0</td>\n",
       "      <td>115986.0</td>\n",
       "      <td>8.0</td>\n",
       "      <td>115986.0</td>\n",
       "      <td>8.0</td>\n",
       "      <td>0</td>\n",
       "    </tr>\n",
       "    <tr>\n",
       "      <th>99</th>\n",
       "      <td>FIN1000100</td>\n",
       "      <td>851101</td>\n",
       "      <td>4/17/2007</td>\n",
       "      <td>851112.0</td>\n",
       "      <td>M</td>\n",
       "      <td>1/3/1958</td>\n",
       "      <td>M</td>\n",
       "      <td>Others</td>\n",
       "      <td>Class XII</td>\n",
       "      <td>NaN</td>\n",
       "      <td>...</td>\n",
       "      <td>NaN</td>\n",
       "      <td>NaN</td>\n",
       "      <td>NaN</td>\n",
       "      <td>NaN</td>\n",
       "      <td>NaN</td>\n",
       "      <td>NaN</td>\n",
       "      <td>NaN</td>\n",
       "      <td>NaN</td>\n",
       "      <td>NaN</td>\n",
       "      <td>0</td>\n",
       "    </tr>\n",
       "  </tbody>\n",
       "</table>\n",
       "<p>100 rows × 23 columns</p>\n",
       "</div>"
      ],
      "text/plain": [
       "            ID  Office_PIN Application_Receipt_Date  Applicant_City_PIN  \\\n",
       "0   FIN1000001      842001                4/16/2007            844120.0   \n",
       "1   FIN1000002      842001                4/16/2007            844111.0   \n",
       "2   FIN1000003      800001                4/16/2007            844101.0   \n",
       "3   FIN1000004      814112                4/16/2007            814112.0   \n",
       "4   FIN1000005      814112                4/16/2007            815351.0   \n",
       "..         ...         ...                      ...                 ...   \n",
       "95  FIN1000096      226001                4/17/2007            261001.0   \n",
       "96  FIN1000097      284001                4/17/2007            284202.0   \n",
       "97  FIN1000098      226001                4/17/2007            261001.0   \n",
       "98  FIN1000099      226001                4/17/2007            226001.0   \n",
       "99  FIN1000100      851101                4/17/2007            851112.0   \n",
       "\n",
       "   Applicant_Gender Applicant_BirthDate Applicant_Marital_Status  \\\n",
       "0                 M          12/19/1971                        M   \n",
       "1                 M           2/17/1983                        S   \n",
       "2                 M           1/16/1966                        M   \n",
       "3                 M            2/3/1988                        S   \n",
       "4                 M            7/4/1985                        M   \n",
       "..              ...                 ...                      ...   \n",
       "95                F            7/8/1964                        M   \n",
       "96                M            7/3/1987                        S   \n",
       "97                M           5/20/1978                        M   \n",
       "98                F           8/17/1982                        S   \n",
       "99                M            1/3/1958                        M   \n",
       "\n",
       "   Applicant_Occupation Applicant_Qualification Manager_DOJ  ...  \\\n",
       "0                Others                Graduate  11/10/2005  ...   \n",
       "1                Others               Class XII  11/10/2005  ...   \n",
       "2              Business               Class XII   5/27/2006  ...   \n",
       "3              Salaried               Class XII   8/21/2003  ...   \n",
       "4                Others               Class XII    5/8/2006  ...   \n",
       "..                  ...                     ...         ...  ...   \n",
       "95               Others                Graduate    9/5/2006  ...   \n",
       "96               Others                 Class X    5/8/2006  ...   \n",
       "97             Business                Graduate   5/25/2006  ...   \n",
       "98             Business               Class XII  11/15/2006  ...   \n",
       "99               Others               Class XII         NaN  ...   \n",
       "\n",
       "   Manager_Status Manager_Gender  Manager_DoB Manager_Num_Application  \\\n",
       "0    Confirmation              M    2/17/1978                     2.0   \n",
       "1    Confirmation              M    2/17/1978                     2.0   \n",
       "2    Confirmation              M     3/3/1969                     0.0   \n",
       "3    Confirmation              F    8/14/1978                     0.0   \n",
       "4    Confirmation              M     2/7/1971                     2.0   \n",
       "..            ...            ...          ...                     ...   \n",
       "95   Confirmation              M   12/16/1960                     0.0   \n",
       "96   Confirmation              M    8/23/1967                     1.0   \n",
       "97   Confirmation              M    11/7/1979                     0.0   \n",
       "98   Confirmation              M     7/8/1977                     0.0   \n",
       "99            NaN            NaN          NaN                     NaN   \n",
       "\n",
       "   Manager_Num_Coded Manager_Business  Manager_Num_Products  \\\n",
       "0                1.0         335249.0                  28.0   \n",
       "1                1.0         335249.0                  28.0   \n",
       "2                0.0         357184.0                  24.0   \n",
       "3                0.0         318356.0                  22.0   \n",
       "4                1.0         230402.0                  17.0   \n",
       "..               ...              ...                   ...   \n",
       "95               1.0          57320.0                   4.0   \n",
       "96               1.0         171830.0                  16.0   \n",
       "97               0.0          41810.0                   4.0   \n",
       "98               1.0         115986.0                   8.0   \n",
       "99               NaN              NaN                   NaN   \n",
       "\n",
       "    Manager_Business2  Manager_Num_Products2  Business_Sourced  \n",
       "0            335249.0                   28.0                 0  \n",
       "1            335249.0                   28.0                 1  \n",
       "2            357184.0                   24.0                 0  \n",
       "3            318356.0                   22.0                 0  \n",
       "4            230402.0                   17.0                 0  \n",
       "..                ...                    ...               ...  \n",
       "95            57320.0                    4.0                 0  \n",
       "96           171830.0                   16.0                 0  \n",
       "97            41810.0                    4.0                 0  \n",
       "98           115986.0                    8.0                 0  \n",
       "99                NaN                    NaN                 0  \n",
       "\n",
       "[100 rows x 23 columns]"
      ]
     },
     "execution_count": 2,
     "metadata": {},
     "output_type": "execute_result"
    }
   ],
   "source": [
    "train_data = pd.read_csv(\"Train_Data.csv\")\n",
    "train_data.head(100)"
   ]
  },
  {
   "cell_type": "code",
   "execution_count": 3,
   "id": "737fbeac",
   "metadata": {},
   "outputs": [
    {
     "data": {
      "text/html": [
       "<div>\n",
       "<style scoped>\n",
       "    .dataframe tbody tr th:only-of-type {\n",
       "        vertical-align: middle;\n",
       "    }\n",
       "\n",
       "    .dataframe tbody tr th {\n",
       "        vertical-align: top;\n",
       "    }\n",
       "\n",
       "    .dataframe thead th {\n",
       "        text-align: right;\n",
       "    }\n",
       "</style>\n",
       "<table border=\"1\" class=\"dataframe\">\n",
       "  <thead>\n",
       "    <tr style=\"text-align: right;\">\n",
       "      <th></th>\n",
       "      <th>ID</th>\n",
       "      <th>Office_PIN</th>\n",
       "      <th>Application_Receipt_Date</th>\n",
       "      <th>Applicant_City_PIN</th>\n",
       "      <th>Applicant_Gender</th>\n",
       "      <th>Applicant_BirthDate</th>\n",
       "      <th>Applicant_Marital_Status</th>\n",
       "      <th>Applicant_Occupation</th>\n",
       "      <th>Applicant_Qualification</th>\n",
       "      <th>Manager_DOJ</th>\n",
       "      <th>...</th>\n",
       "      <th>Manager_Grade</th>\n",
       "      <th>Manager_Status</th>\n",
       "      <th>Manager_Gender</th>\n",
       "      <th>Manager_DoB</th>\n",
       "      <th>Manager_Num_Application</th>\n",
       "      <th>Manager_Num_Coded</th>\n",
       "      <th>Manager_Business</th>\n",
       "      <th>Manager_Num_Products</th>\n",
       "      <th>Manager_Business2</th>\n",
       "      <th>Manager_Num_Products2</th>\n",
       "    </tr>\n",
       "  </thead>\n",
       "  <tbody>\n",
       "    <tr>\n",
       "      <th>0</th>\n",
       "      <td>FIN1009528</td>\n",
       "      <td>284001</td>\n",
       "      <td>7/2/2008</td>\n",
       "      <td>284001.0</td>\n",
       "      <td>M</td>\n",
       "      <td>8/5/1982</td>\n",
       "      <td>S</td>\n",
       "      <td>Salaried</td>\n",
       "      <td>Graduate</td>\n",
       "      <td>5/26/2008</td>\n",
       "      <td>...</td>\n",
       "      <td>2.0</td>\n",
       "      <td>Probation</td>\n",
       "      <td>F</td>\n",
       "      <td>10/14/1978</td>\n",
       "      <td>1.0</td>\n",
       "      <td>0.0</td>\n",
       "      <td>0.0</td>\n",
       "      <td>0.0</td>\n",
       "      <td>0.0</td>\n",
       "      <td>0.0</td>\n",
       "    </tr>\n",
       "    <tr>\n",
       "      <th>1</th>\n",
       "      <td>FIN1009529</td>\n",
       "      <td>800001</td>\n",
       "      <td>7/2/2008</td>\n",
       "      <td>800026.0</td>\n",
       "      <td>M</td>\n",
       "      <td>3/11/1968</td>\n",
       "      <td>M</td>\n",
       "      <td>Salaried</td>\n",
       "      <td>Graduate</td>\n",
       "      <td>6/24/2008</td>\n",
       "      <td>...</td>\n",
       "      <td>2.0</td>\n",
       "      <td>Probation</td>\n",
       "      <td>M</td>\n",
       "      <td>3/3/1971</td>\n",
       "      <td>2.0</td>\n",
       "      <td>0.0</td>\n",
       "      <td>0.0</td>\n",
       "      <td>0.0</td>\n",
       "      <td>0.0</td>\n",
       "      <td>0.0</td>\n",
       "    </tr>\n",
       "    <tr>\n",
       "      <th>2</th>\n",
       "      <td>FIN1009530</td>\n",
       "      <td>800001</td>\n",
       "      <td>7/2/2008</td>\n",
       "      <td>NaN</td>\n",
       "      <td>M</td>\n",
       "      <td>12/16/1984</td>\n",
       "      <td>S</td>\n",
       "      <td>NaN</td>\n",
       "      <td>Graduate</td>\n",
       "      <td>NaN</td>\n",
       "      <td>...</td>\n",
       "      <td>NaN</td>\n",
       "      <td>NaN</td>\n",
       "      <td>NaN</td>\n",
       "      <td>NaN</td>\n",
       "      <td>NaN</td>\n",
       "      <td>NaN</td>\n",
       "      <td>NaN</td>\n",
       "      <td>NaN</td>\n",
       "      <td>NaN</td>\n",
       "      <td>NaN</td>\n",
       "    </tr>\n",
       "    <tr>\n",
       "      <th>3</th>\n",
       "      <td>FIN1009531</td>\n",
       "      <td>800001</td>\n",
       "      <td>7/2/2008</td>\n",
       "      <td>844112.0</td>\n",
       "      <td>M</td>\n",
       "      <td>6/7/1971</td>\n",
       "      <td>S</td>\n",
       "      <td>Salaried</td>\n",
       "      <td>Graduate</td>\n",
       "      <td>NaN</td>\n",
       "      <td>...</td>\n",
       "      <td>NaN</td>\n",
       "      <td>NaN</td>\n",
       "      <td>NaN</td>\n",
       "      <td>NaN</td>\n",
       "      <td>NaN</td>\n",
       "      <td>NaN</td>\n",
       "      <td>NaN</td>\n",
       "      <td>NaN</td>\n",
       "      <td>NaN</td>\n",
       "      <td>NaN</td>\n",
       "    </tr>\n",
       "    <tr>\n",
       "      <th>4</th>\n",
       "      <td>FIN1009532</td>\n",
       "      <td>533101</td>\n",
       "      <td>7/2/2008</td>\n",
       "      <td>533102.0</td>\n",
       "      <td>M</td>\n",
       "      <td>7/22/1978</td>\n",
       "      <td>S</td>\n",
       "      <td>NaN</td>\n",
       "      <td>Masters of Business Administration</td>\n",
       "      <td>12/4/2007</td>\n",
       "      <td>...</td>\n",
       "      <td>3.0</td>\n",
       "      <td>Confirmation</td>\n",
       "      <td>M</td>\n",
       "      <td>6/23/1977</td>\n",
       "      <td>4.0</td>\n",
       "      <td>1.0</td>\n",
       "      <td>97352.0</td>\n",
       "      <td>3.0</td>\n",
       "      <td>97352.0</td>\n",
       "      <td>3.0</td>\n",
       "    </tr>\n",
       "    <tr>\n",
       "      <th>...</th>\n",
       "      <td>...</td>\n",
       "      <td>...</td>\n",
       "      <td>...</td>\n",
       "      <td>...</td>\n",
       "      <td>...</td>\n",
       "      <td>...</td>\n",
       "      <td>...</td>\n",
       "      <td>...</td>\n",
       "      <td>...</td>\n",
       "      <td>...</td>\n",
       "      <td>...</td>\n",
       "      <td>...</td>\n",
       "      <td>...</td>\n",
       "      <td>...</td>\n",
       "      <td>...</td>\n",
       "      <td>...</td>\n",
       "      <td>...</td>\n",
       "      <td>...</td>\n",
       "      <td>...</td>\n",
       "      <td>...</td>\n",
       "      <td>...</td>\n",
       "    </tr>\n",
       "    <tr>\n",
       "      <th>95</th>\n",
       "      <td>FIN1009623</td>\n",
       "      <td>422005</td>\n",
       "      <td>7/7/2008</td>\n",
       "      <td>422402.0</td>\n",
       "      <td>M</td>\n",
       "      <td>1/17/1979</td>\n",
       "      <td>M</td>\n",
       "      <td>Salaried</td>\n",
       "      <td>Graduate</td>\n",
       "      <td>11/30/2007</td>\n",
       "      <td>...</td>\n",
       "      <td>3.0</td>\n",
       "      <td>Confirmation</td>\n",
       "      <td>M</td>\n",
       "      <td>8/19/1975</td>\n",
       "      <td>4.0</td>\n",
       "      <td>3.0</td>\n",
       "      <td>1370358.0</td>\n",
       "      <td>6.0</td>\n",
       "      <td>1370358.0</td>\n",
       "      <td>6.0</td>\n",
       "    </tr>\n",
       "    <tr>\n",
       "      <th>96</th>\n",
       "      <td>FIN1009624</td>\n",
       "      <td>201301</td>\n",
       "      <td>7/7/2008</td>\n",
       "      <td>201012.0</td>\n",
       "      <td>F</td>\n",
       "      <td>7/22/1973</td>\n",
       "      <td>M</td>\n",
       "      <td>Others</td>\n",
       "      <td>Graduate</td>\n",
       "      <td>5/5/2008</td>\n",
       "      <td>...</td>\n",
       "      <td>4.0</td>\n",
       "      <td>Probation</td>\n",
       "      <td>M</td>\n",
       "      <td>6/25/1973</td>\n",
       "      <td>3.0</td>\n",
       "      <td>1.0</td>\n",
       "      <td>19230.0</td>\n",
       "      <td>1.0</td>\n",
       "      <td>19230.0</td>\n",
       "      <td>1.0</td>\n",
       "    </tr>\n",
       "    <tr>\n",
       "      <th>97</th>\n",
       "      <td>FIN1009625</td>\n",
       "      <td>121002</td>\n",
       "      <td>7/7/2008</td>\n",
       "      <td>121004.0</td>\n",
       "      <td>M</td>\n",
       "      <td>5/17/1967</td>\n",
       "      <td>M</td>\n",
       "      <td>Salaried</td>\n",
       "      <td>Graduate</td>\n",
       "      <td>4/28/2008</td>\n",
       "      <td>...</td>\n",
       "      <td>4.0</td>\n",
       "      <td>Probation</td>\n",
       "      <td>M</td>\n",
       "      <td>2/23/1972</td>\n",
       "      <td>5.0</td>\n",
       "      <td>0.0</td>\n",
       "      <td>0.0</td>\n",
       "      <td>0.0</td>\n",
       "      <td>0.0</td>\n",
       "      <td>0.0</td>\n",
       "    </tr>\n",
       "    <tr>\n",
       "      <th>98</th>\n",
       "      <td>FIN1009626</td>\n",
       "      <td>284001</td>\n",
       "      <td>7/7/2008</td>\n",
       "      <td>284003.0</td>\n",
       "      <td>M</td>\n",
       "      <td>3/27/1978</td>\n",
       "      <td>S</td>\n",
       "      <td>Salaried</td>\n",
       "      <td>Graduate</td>\n",
       "      <td>5/12/2008</td>\n",
       "      <td>...</td>\n",
       "      <td>4.0</td>\n",
       "      <td>Probation</td>\n",
       "      <td>M</td>\n",
       "      <td>3/25/1978</td>\n",
       "      <td>3.0</td>\n",
       "      <td>2.0</td>\n",
       "      <td>0.0</td>\n",
       "      <td>0.0</td>\n",
       "      <td>0.0</td>\n",
       "      <td>0.0</td>\n",
       "    </tr>\n",
       "    <tr>\n",
       "      <th>99</th>\n",
       "      <td>FIN1009627</td>\n",
       "      <td>476001</td>\n",
       "      <td>7/7/2008</td>\n",
       "      <td>476001.0</td>\n",
       "      <td>M</td>\n",
       "      <td>1/14/1977</td>\n",
       "      <td>M</td>\n",
       "      <td>Business</td>\n",
       "      <td>Masters of Business Administration</td>\n",
       "      <td>4/14/2008</td>\n",
       "      <td>...</td>\n",
       "      <td>4.0</td>\n",
       "      <td>Probation</td>\n",
       "      <td>M</td>\n",
       "      <td>7/9/1971</td>\n",
       "      <td>11.0</td>\n",
       "      <td>6.0</td>\n",
       "      <td>40533.0</td>\n",
       "      <td>2.0</td>\n",
       "      <td>40533.0</td>\n",
       "      <td>2.0</td>\n",
       "    </tr>\n",
       "  </tbody>\n",
       "</table>\n",
       "<p>100 rows × 22 columns</p>\n",
       "</div>"
      ],
      "text/plain": [
       "            ID  Office_PIN Application_Receipt_Date  Applicant_City_PIN  \\\n",
       "0   FIN1009528      284001                 7/2/2008            284001.0   \n",
       "1   FIN1009529      800001                 7/2/2008            800026.0   \n",
       "2   FIN1009530      800001                 7/2/2008                 NaN   \n",
       "3   FIN1009531      800001                 7/2/2008            844112.0   \n",
       "4   FIN1009532      533101                 7/2/2008            533102.0   \n",
       "..         ...         ...                      ...                 ...   \n",
       "95  FIN1009623      422005                 7/7/2008            422402.0   \n",
       "96  FIN1009624      201301                 7/7/2008            201012.0   \n",
       "97  FIN1009625      121002                 7/7/2008            121004.0   \n",
       "98  FIN1009626      284001                 7/7/2008            284003.0   \n",
       "99  FIN1009627      476001                 7/7/2008            476001.0   \n",
       "\n",
       "   Applicant_Gender Applicant_BirthDate Applicant_Marital_Status  \\\n",
       "0                 M            8/5/1982                        S   \n",
       "1                 M           3/11/1968                        M   \n",
       "2                 M          12/16/1984                        S   \n",
       "3                 M            6/7/1971                        S   \n",
       "4                 M           7/22/1978                        S   \n",
       "..              ...                 ...                      ...   \n",
       "95                M           1/17/1979                        M   \n",
       "96                F           7/22/1973                        M   \n",
       "97                M           5/17/1967                        M   \n",
       "98                M           3/27/1978                        S   \n",
       "99                M           1/14/1977                        M   \n",
       "\n",
       "   Applicant_Occupation             Applicant_Qualification Manager_DOJ  ...  \\\n",
       "0              Salaried                            Graduate   5/26/2008  ...   \n",
       "1              Salaried                            Graduate   6/24/2008  ...   \n",
       "2                   NaN                            Graduate         NaN  ...   \n",
       "3              Salaried                            Graduate         NaN  ...   \n",
       "4                   NaN  Masters of Business Administration   12/4/2007  ...   \n",
       "..                  ...                                 ...         ...  ...   \n",
       "95             Salaried                            Graduate  11/30/2007  ...   \n",
       "96               Others                            Graduate    5/5/2008  ...   \n",
       "97             Salaried                            Graduate   4/28/2008  ...   \n",
       "98             Salaried                            Graduate   5/12/2008  ...   \n",
       "99             Business  Masters of Business Administration   4/14/2008  ...   \n",
       "\n",
       "   Manager_Grade Manager_Status  Manager_Gender Manager_DoB  \\\n",
       "0            2.0      Probation               F  10/14/1978   \n",
       "1            2.0      Probation               M    3/3/1971   \n",
       "2            NaN            NaN             NaN         NaN   \n",
       "3            NaN            NaN             NaN         NaN   \n",
       "4            3.0   Confirmation               M   6/23/1977   \n",
       "..           ...            ...             ...         ...   \n",
       "95           3.0   Confirmation               M   8/19/1975   \n",
       "96           4.0      Probation               M   6/25/1973   \n",
       "97           4.0      Probation               M   2/23/1972   \n",
       "98           4.0      Probation               M   3/25/1978   \n",
       "99           4.0      Probation               M    7/9/1971   \n",
       "\n",
       "   Manager_Num_Application Manager_Num_Coded  Manager_Business  \\\n",
       "0                      1.0               0.0               0.0   \n",
       "1                      2.0               0.0               0.0   \n",
       "2                      NaN               NaN               NaN   \n",
       "3                      NaN               NaN               NaN   \n",
       "4                      4.0               1.0           97352.0   \n",
       "..                     ...               ...               ...   \n",
       "95                     4.0               3.0         1370358.0   \n",
       "96                     3.0               1.0           19230.0   \n",
       "97                     5.0               0.0               0.0   \n",
       "98                     3.0               2.0               0.0   \n",
       "99                    11.0               6.0           40533.0   \n",
       "\n",
       "    Manager_Num_Products  Manager_Business2  Manager_Num_Products2  \n",
       "0                    0.0                0.0                    0.0  \n",
       "1                    0.0                0.0                    0.0  \n",
       "2                    NaN                NaN                    NaN  \n",
       "3                    NaN                NaN                    NaN  \n",
       "4                    3.0            97352.0                    3.0  \n",
       "..                   ...                ...                    ...  \n",
       "95                   6.0          1370358.0                    6.0  \n",
       "96                   1.0            19230.0                    1.0  \n",
       "97                   0.0                0.0                    0.0  \n",
       "98                   0.0                0.0                    0.0  \n",
       "99                   2.0            40533.0                    2.0  \n",
       "\n",
       "[100 rows x 22 columns]"
      ]
     },
     "execution_count": 3,
     "metadata": {},
     "output_type": "execute_result"
    }
   ],
   "source": [
    "test_data = pd.read_csv(\"Test_Data.csv\")\n",
    "test_data.head(100)"
   ]
  },
  {
   "cell_type": "code",
   "execution_count": 4,
   "id": "21401d02",
   "metadata": {},
   "outputs": [
    {
     "data": {
      "text/plain": [
       "ID                                0\n",
       "Office_PIN                        0\n",
       "Application_Receipt_Date          0\n",
       "Applicant_City_PIN               97\n",
       "Applicant_Gender                 67\n",
       "Applicant_BirthDate              73\n",
       "Applicant_Marital_Status         73\n",
       "Applicant_Occupation           1221\n",
       "Applicant_Qualification          86\n",
       "Manager_DOJ                     683\n",
       "Manager_Joining_Designation     683\n",
       "Manager_Current_Designation     683\n",
       "Manager_Grade                   683\n",
       "Manager_Status                  683\n",
       "Manager_Gender                  683\n",
       "Manager_DoB                     683\n",
       "Manager_Num_Application         683\n",
       "Manager_Num_Coded               683\n",
       "Manager_Business                683\n",
       "Manager_Num_Products            683\n",
       "Manager_Business2               683\n",
       "Manager_Num_Products2           683\n",
       "Business_Sourced                  0\n",
       "dtype: int64"
      ]
     },
     "execution_count": 4,
     "metadata": {},
     "output_type": "execute_result"
    }
   ],
   "source": [
    "train_data.isnull().sum()"
   ]
  },
  {
   "cell_type": "code",
   "execution_count": 5,
   "id": "9adc69d1",
   "metadata": {},
   "outputs": [
    {
     "data": {
      "text/plain": [
       "M    7179\n",
       "F    2281\n",
       "Name: Applicant_Gender, dtype: int64"
      ]
     },
     "execution_count": 5,
     "metadata": {},
     "output_type": "execute_result"
    }
   ],
   "source": [
    "train_data['Applicant_Gender'].value_counts()"
   ]
  },
  {
   "cell_type": "code",
   "execution_count": 6,
   "id": "7b31673e",
   "metadata": {},
   "outputs": [],
   "source": [
    "#Convert Applicant Gender\n",
    "dict_gender = {'M': 1, 'F':0}\n",
    "train_data.replace({'Applicant_Gender': dict_gender}, inplace = True)\n",
    "\n",
    "train_data['Applicant_Gender'] = train_data['Applicant_Gender'].fillna(-1)"
   ]
  },
  {
   "cell_type": "code",
   "execution_count": 7,
   "id": "e5b08e52",
   "metadata": {},
   "outputs": [],
   "source": [
    "test_data.replace({'Applicant_Gender': dict_gender}, inplace = True)\n",
    "\n",
    "test_data['Applicant_Gender'] = test_data['Applicant_Gender'].fillna(-1)"
   ]
  },
  {
   "cell_type": "code",
   "execution_count": 8,
   "id": "a8f24d27",
   "metadata": {},
   "outputs": [
    {
     "data": {
      "text/plain": [
       "M    6177\n",
       "S    3267\n",
       "W       6\n",
       "D       4\n",
       "Name: Applicant_Marital_Status, dtype: int64"
      ]
     },
     "execution_count": 8,
     "metadata": {},
     "output_type": "execute_result"
    }
   ],
   "source": [
    "train_data['Applicant_Marital_Status'].value_counts()"
   ]
  },
  {
   "cell_type": "code",
   "execution_count": 9,
   "id": "07cb2937",
   "metadata": {},
   "outputs": [],
   "source": [
    "dict_marr = {'W': 1, 'S':2, 'M':3, 'D':4}\n",
    "train_data.replace({'Applicant_Marital_Status': dict_marr}, inplace = True)\n",
    "test_data.replace({'Applicant_Marital_Status': dict_marr}, inplace = True)"
   ]
  },
  {
   "cell_type": "code",
   "execution_count": 10,
   "id": "7f7dbfb2",
   "metadata": {},
   "outputs": [
    {
     "data": {
      "text/plain": [
       "3.0    4089\n",
       "2.0     907\n",
       "1.0      12\n",
       "4.0       7\n",
       "Name: Applicant_Marital_Status, dtype: int64"
      ]
     },
     "execution_count": 10,
     "metadata": {},
     "output_type": "execute_result"
    }
   ],
   "source": [
    "test_data['Applicant_Marital_Status'].value_counts()"
   ]
  },
  {
   "cell_type": "code",
   "execution_count": 11,
   "id": "ca8133de",
   "metadata": {},
   "outputs": [],
   "source": [
    "train_data['Applicant_Marital_Status'] = train_data['Applicant_Marital_Status'].fillna(3)"
   ]
  },
  {
   "cell_type": "code",
   "execution_count": 12,
   "id": "519c3cbc",
   "metadata": {},
   "outputs": [
    {
     "data": {
      "text/plain": [
       "Salaried         3787\n",
       "Business         2303\n",
       "Others           1966\n",
       "Self Employed     149\n",
       "Student           101\n",
       "Name: Applicant_Occupation, dtype: int64"
      ]
     },
     "execution_count": 12,
     "metadata": {},
     "output_type": "execute_result"
    }
   ],
   "source": [
    "train_data['Applicant_Occupation'].value_counts()"
   ]
  },
  {
   "cell_type": "code",
   "execution_count": 13,
   "id": "adab6bd7",
   "metadata": {},
   "outputs": [
    {
     "data": {
      "text/plain": [
       "Salaried         2560\n",
       "Business          646\n",
       "Others            506\n",
       "Self Employed     310\n",
       "Student            19\n",
       "Name: Applicant_Occupation, dtype: int64"
      ]
     },
     "execution_count": 13,
     "metadata": {},
     "output_type": "execute_result"
    }
   ],
   "source": [
    "test_data['Applicant_Occupation'].value_counts()"
   ]
  },
  {
   "cell_type": "code",
   "execution_count": 14,
   "id": "932496f7",
   "metadata": {},
   "outputs": [],
   "source": [
    "#Convert Applicant Occupation\n",
    "dict_occupation = {'Salaried': 5, 'Business':4, 'Others':3, 'Self Employed':2, 'Student':1}\n",
    "train_data.replace({'Applicant_Occupation': dict_occupation}, inplace = True)\n",
    "\n",
    "train_data['Applicant_Occupation'] = train_data['Applicant_Occupation'].fillna(0)"
   ]
  },
  {
   "cell_type": "code",
   "execution_count": 15,
   "id": "34cd31ce",
   "metadata": {},
   "outputs": [],
   "source": [
    "test_data.replace({'Applicant_Occupation': dict_occupation}, inplace = True)\n",
    "\n",
    "test_data['Applicant_Occupation'] = test_data['Applicant_Occupation'].fillna(0)"
   ]
  },
  {
   "cell_type": "code",
   "execution_count": 16,
   "id": "4e32499b",
   "metadata": {},
   "outputs": [
    {
     "data": {
      "text/plain": [
       "Graduate                                                                              3375\n",
       "Class XII                                                                             1357\n",
       "Others                                                                                 171\n",
       "Masters of Business Administration                                                      71\n",
       "Class X                                                                                 19\n",
       "Professional Qualification in Marketing                                                  5\n",
       "Associate / Fellow of Institute of Chartered Accountans of India                         2\n",
       "Associate/Fellow of Institute of Institute of Costs and Works Accountants of India       1\n",
       "Name: Applicant_Qualification, dtype: int64"
      ]
     },
     "execution_count": 16,
     "metadata": {},
     "output_type": "execute_result"
    }
   ],
   "source": [
    "test_data['Applicant_Qualification'].value_counts()"
   ]
  },
  {
   "cell_type": "code",
   "execution_count": 17,
   "id": "c696c274",
   "metadata": {},
   "outputs": [
    {
     "data": {
      "text/plain": [
       "Class XII                                                           5806\n",
       "Graduate                                                            3196\n",
       "Class X                                                              225\n",
       "Others                                                               132\n",
       "Masters of Business Administration                                    74\n",
       "Associate / Fellow of Institute of Chartered Accountans of India       3\n",
       "Associate/Fellow of Insurance Institute of India                       1\n",
       "Associate/Fellow of Acturial Society of India                          1\n",
       "Associate/Fellow of Institute of Company Secretories of India          1\n",
       "Certified Associateship of Indian Institute of Bankers                 1\n",
       "Professional Qualification in Marketing                                1\n",
       "Name: Applicant_Qualification, dtype: int64"
      ]
     },
     "execution_count": 17,
     "metadata": {},
     "output_type": "execute_result"
    }
   ],
   "source": [
    "train_data['Applicant_Qualification'].value_counts()"
   ]
  },
  {
   "cell_type": "code",
   "execution_count": 18,
   "id": "b371c786",
   "metadata": {},
   "outputs": [],
   "source": [
    "#Convert Applicant Qualification\n",
    "dict_qualification = {'Class XII': 1, 'Graduate':2, 'Class X':3, 'Others':4, 'Masters of Business Administration':5,\n",
    "                      'Associate / Fellow of Institute of Chartered Accountans of India':6, \n",
    "                     'Associate/Fellow of Insurance Institute of India':7, 'Professional Qualification in Marketing':8,\n",
    "                     'Associate/Fellow of Institute of Company Secretories of India':9, 'Associate/Fellow of Acturial Society of India':10,\n",
    "                     'Certified Associateship of Indian Institute of Bankers':11, 'Associate/Fellow of Institute of Institute of Costs and Works Accountants of India':12}\n",
    "train_data.replace({'Applicant_Qualification': dict_qualification}, inplace = True)\n",
    "\n",
    "train_data['Applicant_Qualification'] = train_data['Applicant_Qualification'].fillna(0)\n",
    "\n",
    "test_data.replace({'Applicant_Qualification': dict_qualification}, inplace = True)\n",
    "\n",
    "test_data['Applicant_Qualification'] = test_data['Applicant_Qualification'].fillna(0)"
   ]
  },
  {
   "cell_type": "code",
   "execution_count": 19,
   "id": "db5dc62e",
   "metadata": {},
   "outputs": [],
   "source": [
    "def random_gen(string):\n",
    "    data = [train_data, test_data]\n",
    "    for dataset in data:\n",
    "        mean = train_data[string].mean()\n",
    "        std = test_data[string].std()\n",
    "        is_null = dataset[string].isnull().sum()\n",
    "        # compute random numbers between the mean, std and is_null\n",
    "        rand_string = np.random.randint(mean - std, mean + std, size = is_null)\n",
    "        # fill NaN values in Age column with random values generated\n",
    "        string_slice = dataset[string].copy()\n",
    "        string_slice[np.isnan(string_slice)] = rand_string\n",
    "        dataset[string] = string_slice\n",
    "        dataset[string] = train_data[string].astype(int)"
   ]
  },
  {
   "cell_type": "code",
   "execution_count": 20,
   "id": "bcdb6f65",
   "metadata": {},
   "outputs": [],
   "source": [
    "random_gen('Manager_Num_Products2')\n",
    "random_gen('Manager_Business2')\n",
    "random_gen('Manager_Num_Products')\n",
    "random_gen('Manager_Business')\n",
    "random_gen('Manager_Num_Coded')\n",
    "random_gen('Manager_Grade')\n",
    "random_gen('Manager_Num_Application')"
   ]
  },
  {
   "cell_type": "code",
   "execution_count": 21,
   "id": "65ab5491",
   "metadata": {},
   "outputs": [
    {
     "data": {
      "text/plain": [
       "ID                               0\n",
       "Office_PIN                       0\n",
       "Application_Receipt_Date         0\n",
       "Applicant_City_PIN              97\n",
       "Applicant_Gender                 0\n",
       "Applicant_BirthDate             73\n",
       "Applicant_Marital_Status         0\n",
       "Applicant_Occupation             0\n",
       "Applicant_Qualification          0\n",
       "Manager_DOJ                    683\n",
       "Manager_Joining_Designation    683\n",
       "Manager_Current_Designation    683\n",
       "Manager_Grade                    0\n",
       "Manager_Status                 683\n",
       "Manager_Gender                 683\n",
       "Manager_DoB                    683\n",
       "Manager_Num_Application          0\n",
       "Manager_Num_Coded                0\n",
       "Manager_Business                 0\n",
       "Manager_Num_Products             0\n",
       "Manager_Business2                0\n",
       "Manager_Num_Products2            0\n",
       "Business_Sourced                 0\n",
       "dtype: int64"
      ]
     },
     "execution_count": 21,
     "metadata": {},
     "output_type": "execute_result"
    }
   ],
   "source": [
    "train_data.isnull().sum()"
   ]
  },
  {
   "cell_type": "code",
   "execution_count": 22,
   "id": "83e8359d",
   "metadata": {},
   "outputs": [
    {
     "data": {
      "text/plain": [
       "Level 1    4632\n",
       "Level 2    2787\n",
       "Level 3    1146\n",
       "Level 4     200\n",
       "Other        58\n",
       "Level 6      18\n",
       "Level 7       2\n",
       "Level 5       1\n",
       "Name: Manager_Joining_Designation, dtype: int64"
      ]
     },
     "execution_count": 22,
     "metadata": {},
     "output_type": "execute_result"
    }
   ],
   "source": [
    "train_data['Manager_Joining_Designation'].value_counts()"
   ]
  },
  {
   "cell_type": "code",
   "execution_count": 23,
   "id": "6f944886",
   "metadata": {},
   "outputs": [
    {
     "data": {
      "text/plain": [
       "Level 2    1441\n",
       "Level 3    1337\n",
       "Level 1    1217\n",
       "Level 4     208\n",
       "Level 5      15\n",
       "Level 6       3\n",
       "Name: Manager_Joining_Designation, dtype: int64"
      ]
     },
     "execution_count": 23,
     "metadata": {},
     "output_type": "execute_result"
    }
   ],
   "source": [
    "test_data['Manager_Joining_Designation'].value_counts()"
   ]
  },
  {
   "cell_type": "code",
   "execution_count": 24,
   "id": "c506d382",
   "metadata": {},
   "outputs": [],
   "source": [
    "#Convert Manager Joining Designation\n",
    "dict_join_des = {'Level 1': 1, 'Level 2':2, 'Level 3':3, 'Level 4':4, 'Level 5':5, 'Level 6':6, 'Level 7':7, 'Other':8}\n",
    "train_data.replace({'Manager_Joining_Designation': dict_join_des}, inplace = True)\n",
    "\n",
    "train_data['Manager_Joining_Designation'] = train_data['Manager_Joining_Designation'].fillna(0)\n",
    "\n",
    "test_data.replace({'Manager_Joining_Designation': dict_join_des}, inplace = True)\n",
    "\n",
    "test_data['Manager_Joining_Designation'] = test_data['Manager_Joining_Designation'].fillna(0)"
   ]
  },
  {
   "cell_type": "code",
   "execution_count": 25,
   "id": "78f94cc6",
   "metadata": {},
   "outputs": [
    {
     "data": {
      "text/plain": [
       "Level 2    3208\n",
       "Level 1    2479\n",
       "Level 3    2033\n",
       "Level 4    1031\n",
       "Level 5      93\n",
       "Name: Manager_Current_Designation, dtype: int64"
      ]
     },
     "execution_count": 25,
     "metadata": {},
     "output_type": "execute_result"
    }
   ],
   "source": [
    "train_data['Manager_Current_Designation'].value_counts()"
   ]
  },
  {
   "cell_type": "code",
   "execution_count": 26,
   "id": "974f2638",
   "metadata": {},
   "outputs": [
    {
     "data": {
      "text/plain": [
       "Level 3    1530\n",
       "Level 2    1440\n",
       "Level 1     887\n",
       "Level 4     334\n",
       "Level 5      30\n",
       "Name: Manager_Current_Designation, dtype: int64"
      ]
     },
     "execution_count": 26,
     "metadata": {},
     "output_type": "execute_result"
    }
   ],
   "source": [
    "test_data['Manager_Current_Designation'].value_counts()"
   ]
  },
  {
   "cell_type": "code",
   "execution_count": 27,
   "id": "58da79de",
   "metadata": {},
   "outputs": [],
   "source": [
    "#Convert Manager Current Designation\n",
    "dict_cur_des = {'Level 1': 1, 'Level 2':2, 'Level 3':3, 'Level 4':4, 'Level 5':5}\n",
    "train_data.replace({'Manager_Current_Designation': dict_cur_des}, inplace = True)\n",
    "\n",
    "train_data['Manager_Current_Designation'] = train_data['Manager_Current_Designation'].fillna(0)\n",
    "\n",
    "test_data.replace({'Manager_Current_Designation': dict_cur_des}, inplace = True)\n",
    "\n",
    "test_data['Manager_Current_Designation'] = test_data['Manager_Current_Designation'].fillna(0)"
   ]
  },
  {
   "cell_type": "code",
   "execution_count": 28,
   "id": "fb0e6972",
   "metadata": {},
   "outputs": [
    {
     "data": {
      "text/plain": [
       "Confirmation    5277\n",
       "Probation       3567\n",
       "Name: Manager_Status, dtype: int64"
      ]
     },
     "execution_count": 28,
     "metadata": {},
     "output_type": "execute_result"
    }
   ],
   "source": [
    "train_data['Manager_Status'].value_counts()"
   ]
  },
  {
   "cell_type": "code",
   "execution_count": 29,
   "id": "36d090d8",
   "metadata": {},
   "outputs": [
    {
     "data": {
      "text/plain": [
       "Probation       2292\n",
       "Confirmation    1929\n",
       "Name: Manager_Status, dtype: int64"
      ]
     },
     "execution_count": 29,
     "metadata": {},
     "output_type": "execute_result"
    }
   ],
   "source": [
    "test_data['Manager_Status'].value_counts()"
   ]
  },
  {
   "cell_type": "code",
   "execution_count": 30,
   "id": "bf686ec7",
   "metadata": {
    "scrolled": true
   },
   "outputs": [
    {
     "data": {
      "text/plain": [
       "M    3694\n",
       "F     527\n",
       "Name: Manager_Gender, dtype: int64"
      ]
     },
     "execution_count": 30,
     "metadata": {},
     "output_type": "execute_result"
    }
   ],
   "source": [
    "test_data['Manager_Gender'].value_counts()"
   ]
  },
  {
   "cell_type": "code",
   "execution_count": 31,
   "id": "4b8a7ff3",
   "metadata": {},
   "outputs": [],
   "source": [
    "#Convert Manager Gender\n",
    "dict_gender = {'M': 1, 'F':0}\n",
    "train_data.replace({'Manager_Gender': dict_gender}, inplace = True)\n",
    "\n",
    "train_data['Manager_Gender'] = train_data['Manager_Gender'].fillna(-1)\n",
    "\n",
    "test_data.replace({'Manager_Gender': dict_gender}, inplace = True)\n",
    "\n",
    "test_data['Manager_Gender'] = test_data['Manager_Gender'].fillna(-1)"
   ]
  },
  {
   "cell_type": "code",
   "execution_count": 32,
   "id": "d87b1040",
   "metadata": {},
   "outputs": [],
   "source": [
    "#Convert Manager Status\n",
    "dict_status = {'Probation': 1, 'Confirmation':0}\n",
    "train_data.replace({'Manager_Status': dict_status}, inplace = True)\n",
    "\n",
    "train_data['Manager_Status'] = train_data['Manager_Status'].fillna(-1)\n",
    "\n",
    "test_data.replace({'Manager_Status': dict_status}, inplace = True)\n",
    "\n",
    "test_data['Manager_Status'] = test_data['Manager_Status'].fillna(-1)"
   ]
  },
  {
   "cell_type": "code",
   "execution_count": 33,
   "id": "506c2881",
   "metadata": {},
   "outputs": [
    {
     "data": {
      "text/plain": [
       "ID                               0\n",
       "Office_PIN                       0\n",
       "Application_Receipt_Date         0\n",
       "Applicant_City_PIN              97\n",
       "Applicant_Gender                 0\n",
       "Applicant_BirthDate             73\n",
       "Applicant_Marital_Status         0\n",
       "Applicant_Occupation             0\n",
       "Applicant_Qualification          0\n",
       "Manager_DOJ                    683\n",
       "Manager_Joining_Designation      0\n",
       "Manager_Current_Designation      0\n",
       "Manager_Grade                    0\n",
       "Manager_Status                   0\n",
       "Manager_Gender                   0\n",
       "Manager_DoB                    683\n",
       "Manager_Num_Application          0\n",
       "Manager_Num_Coded                0\n",
       "Manager_Business                 0\n",
       "Manager_Num_Products             0\n",
       "Manager_Business2                0\n",
       "Manager_Num_Products2            0\n",
       "Business_Sourced                 0\n",
       "dtype: int64"
      ]
     },
     "execution_count": 33,
     "metadata": {},
     "output_type": "execute_result"
    }
   ],
   "source": [
    "train_data.isnull().sum()"
   ]
  },
  {
   "cell_type": "code",
   "execution_count": 34,
   "id": "47066eb7",
   "metadata": {},
   "outputs": [
    {
     "data": {
      "text/plain": [
       "<Figure size 1440x720 with 0 Axes>"
      ]
     },
     "metadata": {},
     "output_type": "display_data"
    },
    {
     "data": {
      "image/png": "[encoded data removed]",
      "text/plain": [
       "<Figure size 432x288 with 1 Axes>"
      ]
     },
     "metadata": {
      "needs_background": "light"
     },
     "output_type": "display_data"
    }
   ],
   "source": [
    "# Seeing Dependence of Business Sourced with Application Reciept Date\n",
    "plt.figure(figsize=(20,10))\n",
    "plot1 = pd.crosstab(index = train_data['Application_Receipt_Date'], columns = train_data['Business_Sourced'])\n",
    "plot1.plot.line();"
   ]
  },
  {
   "cell_type": "code",
   "execution_count": 35,
   "id": "25389ef6",
   "metadata": {},
   "outputs": [
    {
     "data": {
      "text/plain": [
       "<Figure size 3600x3600 with 0 Axes>"
      ]
     },
     "metadata": {},
     "output_type": "display_data"
    },
    {
     "data": {
      "image/png": "[encoded data removed]",
      "text/plain": [
       "<Figure size 432x288 with 1 Axes>"
      ]
     },
     "metadata": {
      "needs_background": "light"
     },
     "output_type": "display_data"
    }
   ],
   "source": [
    "# Seeing Dependence of Business Sourced with Applicant Birthdate\n",
    "plt.figure(figsize=(50,50))\n",
    "plot1 = pd.crosstab(index = train_data['Applicant_BirthDate'], columns = train_data['Business_Sourced'])\n",
    "plot1.plot.line();"
   ]
  },
  {
   "cell_type": "code",
   "execution_count": 36,
   "id": "f8f489e0",
   "metadata": {},
   "outputs": [
    {
     "data": {
      "text/plain": [
       "<Figure size 1440x720 with 0 Axes>"
      ]
     },
     "metadata": {},
     "output_type": "display_data"
    },
    {
     "data": {
      "image/png": "[encoded data removed]",
      "text/plain": [
       "<Figure size 432x288 with 1 Axes>"
      ]
     },
     "metadata": {
      "needs_background": "light"
     },
     "output_type": "display_data"
    }
   ],
   "source": [
    "# Seeing Dependence of Business Sourced with Manager's Date of Joining\n",
    "plt.figure(figsize=(20,10))\n",
    "plot1 = pd.crosstab(index = train_data['Manager_DOJ'], columns = train_data['Business_Sourced'])\n",
    "plot1.plot.line();"
   ]
  },
  {
   "cell_type": "code",
   "execution_count": 37,
   "id": "0ff574d7",
   "metadata": {
    "scrolled": true
   },
   "outputs": [
    {
     "data": {
      "text/plain": [
       "<Figure size 1440x720 with 0 Axes>"
      ]
     },
     "metadata": {},
     "output_type": "display_data"
    },
    {
     "data": {
      "image/png": "[encoded data removed]",
      "text/plain": [
       "<Figure size 432x288 with 1 Axes>"
      ]
     },
     "metadata": {
      "needs_background": "light"
     },
     "output_type": "display_data"
    }
   ],
   "source": [
    "# Seeing Dependence of Business Sourced with Manager Date of Birth\n",
    "plt.figure(figsize=(20,10))\n",
    "plot1 = pd.crosstab(index = train_data['Manager_DoB'], columns = train_data['Business_Sourced'])\n",
    "plot1.plot.line();"
   ]
  },
  {
   "cell_type": "code",
   "execution_count": 38,
   "id": "37407ac3",
   "metadata": {},
   "outputs": [],
   "source": [
    "def age_from_date(date):\n",
    "    year = date.split('/')[-1]\n",
    "    month = date.split('/')[0]\n",
    "    birth = int(year) + float(month)/12\n",
    "    ref = 2009\n",
    "    age = ref - birth\n",
    "    return age"
   ]
  },
  {
   "cell_type": "code",
   "execution_count": 39,
   "id": "61aeed42",
   "metadata": {},
   "outputs": [
    {
     "data": {
      "text/plain": [
       "'4/16/2007'"
      ]
     },
     "execution_count": 39,
     "metadata": {},
     "output_type": "execute_result"
    }
   ],
   "source": [
    "x = train_data['Application_Receipt_Date']\n",
    "x[1]"
   ]
  },
  {
   "cell_type": "code",
   "execution_count": 40,
   "id": "cd4829d4",
   "metadata": {},
   "outputs": [
    {
     "data": {
      "text/plain": [
       "'2/17/1983'"
      ]
     },
     "execution_count": 40,
     "metadata": {},
     "output_type": "execute_result"
    }
   ],
   "source": [
    "x = train_data['Applicant_BirthDate']\n",
    "x[1]"
   ]
  },
  {
   "cell_type": "code",
   "execution_count": 41,
   "id": "46e9f011",
   "metadata": {},
   "outputs": [],
   "source": [
    "dict_date = {}\n",
    "dataset = [train_data, test_data]\n",
    "columns = ['Application_Receipt_Date', 'Applicant_BirthDate', 'Manager_DOJ', 'Manager_DoB']\n",
    "for data in dataset:\n",
    "    for column in columns:\n",
    "        data[column] = data[column].fillna(0)\n",
    "        for date in data[column]:\n",
    "            if date!=0:\n",
    "                dict_date[date] = age_from_date(date)\n",
    "        data.replace({column: dict_date}, inplace = True)"
   ]
  },
  {
   "cell_type": "code",
   "execution_count": 42,
   "id": "45ba7375",
   "metadata": {},
   "outputs": [
    {
     "data": {
      "text/plain": [
       "1.583333    1077\n",
       "1.083333     912\n",
       "1.000000     845\n",
       "0.583333     829\n",
       "1.333333     723\n",
       "0.500000     717\n",
       "1.416667     697\n",
       "1.666667     580\n",
       "1.166667     567\n",
       "0.916667     530\n",
       "1.250000     522\n",
       "1.500000     471\n",
       "0.666667     434\n",
       "0.833333     418\n",
       "0.750000     187\n",
       "0.416667      18\n",
       "Name: Application_Receipt_Date, dtype: int64"
      ]
     },
     "execution_count": 42,
     "metadata": {},
     "output_type": "execute_result"
    }
   ],
   "source": [
    "train_data['Application_Receipt_Date'].value_counts()"
   ]
  },
  {
   "cell_type": "code",
   "execution_count": 43,
   "id": "63b3cd7d",
   "metadata": {},
   "outputs": [
    {
     "data": {
      "text/plain": [
       " 0.416667    1380\n",
       " 0.000000     895\n",
       " 0.333333     862\n",
       " 0.250000     733\n",
       " 0.166667     547\n",
       " 0.083333     529\n",
       "-0.083333      99\n",
       "Name: Application_Receipt_Date, dtype: int64"
      ]
     },
     "execution_count": 43,
     "metadata": {},
     "output_type": "execute_result"
    }
   ],
   "source": [
    "test_data['Application_Receipt_Date'].value_counts()"
   ]
  },
  {
   "cell_type": "code",
   "execution_count": 44,
   "id": "1bd3f647",
   "metadata": {},
   "outputs": [],
   "source": [
    "train_data['Applicant_BirthDate'] = train_data['Applicant_BirthDate'].replace(0, None)\n",
    "test_data['Applicant_BirthDate'] = test_data['Applicant_BirthDate'].replace(0, None)"
   ]
  },
  {
   "cell_type": "code",
   "execution_count": 45,
   "id": "14e9207d",
   "metadata": {},
   "outputs": [
    {
     "data": {
      "text/plain": [
       "28.416667    79\n",
       "26.416667    74\n",
       "27.416667    71\n",
       "29.916667    70\n",
       "25.916667    68\n",
       "             ..\n",
       "64.500000     1\n",
       "72.250000     1\n",
       "65.333333     1\n",
       "69.916667     1\n",
       "68.750000     1\n",
       "Name: Applicant_BirthDate, Length: 620, dtype: int64"
      ]
     },
     "execution_count": 45,
     "metadata": {},
     "output_type": "execute_result"
    }
   ],
   "source": [
    "train_data['Applicant_BirthDate'].value_counts()"
   ]
  },
  {
   "cell_type": "code",
   "execution_count": 46,
   "id": "78e597d7",
   "metadata": {},
   "outputs": [],
   "source": [
    "train_data['Manager_DOJ'] = train_data['Manager_DOJ'].replace(0, None)\n",
    "test_data['Manager_DOJ'] = test_data['Manager_DOJ'].replace(0, None)"
   ]
  },
  {
   "cell_type": "code",
   "execution_count": 47,
   "id": "eda8b8ce",
   "metadata": {},
   "outputs": [],
   "source": [
    "train_data['Manager_DoB'] = train_data['Manager_DoB'].replace(0, None)\n",
    "test_data['Manager_DoB'] = test_data['Manager_DoB'].replace(0, None)"
   ]
  },
  {
   "cell_type": "code",
   "execution_count": 48,
   "id": "7d6a9581",
   "metadata": {},
   "outputs": [],
   "source": [
    "random_gen('Manager_DoB')\n",
    "random_gen('Manager_DOJ')\n",
    "random_gen('Applicant_BirthDate')"
   ]
  },
  {
   "cell_type": "code",
   "execution_count": 49,
   "id": "c0f11f3b",
   "metadata": {},
   "outputs": [
    {
     "data": {
      "text/plain": [
       "ID                              0\n",
       "Office_PIN                      0\n",
       "Application_Receipt_Date        0\n",
       "Applicant_City_PIN             97\n",
       "Applicant_Gender                0\n",
       "Applicant_BirthDate             0\n",
       "Applicant_Marital_Status        0\n",
       "Applicant_Occupation            0\n",
       "Applicant_Qualification         0\n",
       "Manager_DOJ                     0\n",
       "Manager_Joining_Designation     0\n",
       "Manager_Current_Designation     0\n",
       "Manager_Grade                   0\n",
       "Manager_Status                  0\n",
       "Manager_Gender                  0\n",
       "Manager_DoB                     0\n",
       "Manager_Num_Application         0\n",
       "Manager_Num_Coded               0\n",
       "Manager_Business                0\n",
       "Manager_Num_Products            0\n",
       "Manager_Business2               0\n",
       "Manager_Num_Products2           0\n",
       "Business_Sourced                0\n",
       "dtype: int64"
      ]
     },
     "execution_count": 49,
     "metadata": {},
     "output_type": "execute_result"
    }
   ],
   "source": [
    "train_data.isnull().sum()"
   ]
  },
  {
   "cell_type": "code",
   "execution_count": 50,
   "id": "6aad3c5e",
   "metadata": {},
   "outputs": [
    {
     "data": {
      "text/plain": [
       "ID                              0\n",
       "Office_PIN                      0\n",
       "Application_Receipt_Date        0\n",
       "Applicant_City_PIN             34\n",
       "Applicant_Gender                0\n",
       "Applicant_BirthDate             0\n",
       "Applicant_Marital_Status       30\n",
       "Applicant_Occupation            0\n",
       "Applicant_Qualification         0\n",
       "Manager_DOJ                     0\n",
       "Manager_Joining_Designation     0\n",
       "Manager_Current_Designation     0\n",
       "Manager_Grade                   0\n",
       "Manager_Status                  0\n",
       "Manager_Gender                  0\n",
       "Manager_DoB                     0\n",
       "Manager_Num_Application         0\n",
       "Manager_Num_Coded               0\n",
       "Manager_Business                0\n",
       "Manager_Num_Products            0\n",
       "Manager_Business2               0\n",
       "Manager_Num_Products2           0\n",
       "dtype: int64"
      ]
     },
     "execution_count": 50,
     "metadata": {},
     "output_type": "execute_result"
    }
   ],
   "source": [
    "test_data.isnull().sum()"
   ]
  },
  {
   "cell_type": "code",
   "execution_count": 51,
   "id": "1a8822af",
   "metadata": {},
   "outputs": [
    {
     "data": {
      "text/plain": [
       "<bound method DataFrame.info of               ID  Office_PIN  Application_Receipt_Date  Applicant_City_PIN  \\\n",
       "0     FIN1000001      842001                  1.666667            844120.0   \n",
       "1     FIN1000002      842001                  1.666667            844111.0   \n",
       "2     FIN1000003      800001                  1.666667            844101.0   \n",
       "3     FIN1000004      814112                  1.666667            814112.0   \n",
       "4     FIN1000005      814112                  1.666667            815351.0   \n",
       "...          ...         ...                       ...                 ...   \n",
       "9522  FIN1009523      160017                  0.416667            160032.0   \n",
       "9523  FIN1009524      848101                  0.416667            848302.0   \n",
       "9524  FIN1009525      753012                  0.416667            753014.0   \n",
       "9525  FIN1009526      575003                  0.416667            571248.0   \n",
       "9526  FIN1009527      411006                  0.416667            411006.0   \n",
       "\n",
       "      Applicant_Gender  Applicant_BirthDate  Applicant_Marital_Status  \\\n",
       "0                  1.0                   37                       3.0   \n",
       "1                  1.0                   25                       2.0   \n",
       "2                  1.0                   42                       3.0   \n",
       "3                  1.0                   20                       2.0   \n",
       "4                  1.0                   23                       3.0   \n",
       "...                ...                  ...                       ...   \n",
       "9522               1.0                   38                       3.0   \n",
       "9523               1.0                   52                       3.0   \n",
       "9524               0.0                   33                       3.0   \n",
       "9525               1.0                   22                       2.0   \n",
       "9526               0.0                   32                       3.0   \n",
       "\n",
       "      Applicant_Occupation  Applicant_Qualification  Manager_DOJ  ...  \\\n",
       "0                      3.0                      2.0            3  ...   \n",
       "1                      3.0                      1.0            3  ...   \n",
       "2                      4.0                      1.0            2  ...   \n",
       "3                      5.0                      1.0            5  ...   \n",
       "4                      3.0                      1.0            2  ...   \n",
       "...                    ...                      ...          ...  ...   \n",
       "9522                   5.0                      2.0            0  ...   \n",
       "9523                   0.0                      2.0            0  ...   \n",
       "9524                   5.0                      2.0            2  ...   \n",
       "9525                   5.0                      1.0            0  ...   \n",
       "9526                   3.0                      2.0            0  ...   \n",
       "\n",
       "      Manager_Status  Manager_Gender  Manager_DoB  Manager_Num_Application  \\\n",
       "0                0.0             1.0           30                        2   \n",
       "1                0.0             1.0           30                        2   \n",
       "2                0.0             1.0           39                        0   \n",
       "3                0.0             0.0           30                        0   \n",
       "4                0.0             1.0           37                        2   \n",
       "...              ...             ...          ...                      ...   \n",
       "9522             1.0             1.0           41                        0   \n",
       "9523            -1.0            -1.0           41                        3   \n",
       "9524             0.0             1.0           38                        0   \n",
       "9525             1.0             1.0           32                        0   \n",
       "9526            -1.0            -1.0           32                        1   \n",
       "\n",
       "      Manager_Num_Coded  Manager_Business  Manager_Num_Products  \\\n",
       "0                     1            335249                    28   \n",
       "1                     1            335249                    28   \n",
       "2                     0            357184                    24   \n",
       "3                     0            318356                    22   \n",
       "4                     1            230402                    17   \n",
       "...                 ...               ...                   ...   \n",
       "9522                  0                 0                     0   \n",
       "9523                  0            202113                     8   \n",
       "9524                  0            316126                     9   \n",
       "9525                  0                 0                     0   \n",
       "9526                  1             38545                     6   \n",
       "\n",
       "      Manager_Business2  Manager_Num_Products2  Business_Sourced  \n",
       "0                335249                     28                 0  \n",
       "1                335249                     28                 1  \n",
       "2                357184                     24                 0  \n",
       "3                318356                     22                 0  \n",
       "4                230402                     17                 0  \n",
       "...                 ...                    ...               ...  \n",
       "9522                  0                      0                 0  \n",
       "9523             259892                      4                 0  \n",
       "9524             305775                      8                 0  \n",
       "9525                  0                      0                 0  \n",
       "9526             200450                     10                 0  \n",
       "\n",
       "[9527 rows x 23 columns]>"
      ]
     },
     "execution_count": 51,
     "metadata": {},
     "output_type": "execute_result"
    }
   ],
   "source": [
    "train_data.info"
   ]
  },
  {
   "cell_type": "code",
   "execution_count": 52,
   "id": "346495ce",
   "metadata": {},
   "outputs": [],
   "source": [
    "import pandas as pd\n",
    "import numpy as np\n",
    "\n",
    "import os\n",
    "import sys\n",
    "\n",
    "import seaborn as sns\n",
    "import matplotlib.pyplot as plt\n",
    "\n",
    "from sklearn.preprocessing import StandardScaler, OneHotEncoder\n",
    "from sklearn.metrics import confusion_matrix, classification_report\n",
    "from sklearn.model_selection import train_test_split\n",
    "\n",
    "import keras\n",
    "from keras.callbacks import ReduceLROnPlateau\n",
    "from keras.models import Sequential\n",
    "from keras.layers import Dense, Conv1D, MaxPooling1D, Flatten, Dropout, BatchNormalization\n",
    "from keras.utils import np_utils\n",
    "from keras.utils.np_utils import to_categorical\n",
    "from keras.callbacks import ModelCheckpoint\n",
    "\n",
    "import tensorflow as tf\n",
    "\n",
    "import warnings\n",
    "if not sys.warnoptions:\n",
    "    warnings.simplefilter(\"ignore\")\n",
    "warnings.filterwarnings(\"ignore\", category=DeprecationWarning)"
   ]
  },
  {
   "cell_type": "code",
   "execution_count": 53,
   "id": "ed84b033",
   "metadata": {},
   "outputs": [
    {
     "data": {
      "text/plain": [
       "((9527,), (9527, 19))"
      ]
     },
     "execution_count": 53,
     "metadata": {},
     "output_type": "execute_result"
    }
   ],
   "source": [
    "# Getting Features\n",
    "features = ['Manager_Num_Products2','Manager_Num_Products','Manager_Business','Manager_Business2','Manager_Num_Coded', 'Manager_Num_Application','Manager_Grade','Manager_Status','Manager_Current_Designation','Applicant_Occupation',\n",
    "           'Application_Receipt_Date', 'Applicant_Gender', 'Applicant_BirthDate', 'Applicant_Marital_Status', 'Applicant_Qualification',\n",
    "           'Manager_DOJ', 'Manager_Joining_Designation', 'Manager_Gender', 'Manager_DoB']\n",
    "x = pd.get_dummies(train_data[features])\n",
    "\n",
    "# Predicting value\n",
    "y = train_data['Business_Sourced']\n",
    "y.shape, x.shape"
   ]
  },
  {
   "cell_type": "code",
   "execution_count": 54,
   "id": "1e31281f",
   "metadata": {},
   "outputs": [
    {
     "data": {
      "text/html": [
       "<div>\n",
       "<style scoped>\n",
       "    .dataframe tbody tr th:only-of-type {\n",
       "        vertical-align: middle;\n",
       "    }\n",
       "\n",
       "    .dataframe tbody tr th {\n",
       "        vertical-align: top;\n",
       "    }\n",
       "\n",
       "    .dataframe thead th {\n",
       "        text-align: right;\n",
       "    }\n",
       "</style>\n",
       "<table border=\"1\" class=\"dataframe\">\n",
       "  <thead>\n",
       "    <tr style=\"text-align: right;\">\n",
       "      <th></th>\n",
       "      <th>Manager_Num_Products2</th>\n",
       "      <th>Manager_Num_Products</th>\n",
       "      <th>Manager_Business</th>\n",
       "      <th>Manager_Business2</th>\n",
       "      <th>Manager_Num_Coded</th>\n",
       "      <th>Manager_Num_Application</th>\n",
       "      <th>Manager_Grade</th>\n",
       "      <th>Manager_Status</th>\n",
       "      <th>Manager_Current_Designation</th>\n",
       "      <th>Applicant_Occupation</th>\n",
       "      <th>Application_Receipt_Date</th>\n",
       "      <th>Applicant_Gender</th>\n",
       "      <th>Applicant_BirthDate</th>\n",
       "      <th>Applicant_Marital_Status</th>\n",
       "      <th>Applicant_Qualification</th>\n",
       "      <th>Manager_DOJ</th>\n",
       "      <th>Manager_Joining_Designation</th>\n",
       "      <th>Manager_Gender</th>\n",
       "      <th>Manager_DoB</th>\n",
       "    </tr>\n",
       "  </thead>\n",
       "  <tbody>\n",
       "    <tr>\n",
       "      <th>0</th>\n",
       "      <td>28</td>\n",
       "      <td>28</td>\n",
       "      <td>335249</td>\n",
       "      <td>335249</td>\n",
       "      <td>1</td>\n",
       "      <td>2</td>\n",
       "      <td>3</td>\n",
       "      <td>1.0</td>\n",
       "      <td>1.0</td>\n",
       "      <td>5.0</td>\n",
       "      <td>0.416667</td>\n",
       "      <td>1.0</td>\n",
       "      <td>37</td>\n",
       "      <td>2.0</td>\n",
       "      <td>2.0</td>\n",
       "      <td>3</td>\n",
       "      <td>1.0</td>\n",
       "      <td>0.0</td>\n",
       "      <td>30</td>\n",
       "    </tr>\n",
       "    <tr>\n",
       "      <th>1</th>\n",
       "      <td>28</td>\n",
       "      <td>28</td>\n",
       "      <td>335249</td>\n",
       "      <td>335249</td>\n",
       "      <td>1</td>\n",
       "      <td>2</td>\n",
       "      <td>3</td>\n",
       "      <td>1.0</td>\n",
       "      <td>1.0</td>\n",
       "      <td>5.0</td>\n",
       "      <td>0.416667</td>\n",
       "      <td>1.0</td>\n",
       "      <td>25</td>\n",
       "      <td>3.0</td>\n",
       "      <td>2.0</td>\n",
       "      <td>3</td>\n",
       "      <td>1.0</td>\n",
       "      <td>1.0</td>\n",
       "      <td>30</td>\n",
       "    </tr>\n",
       "    <tr>\n",
       "      <th>2</th>\n",
       "      <td>24</td>\n",
       "      <td>24</td>\n",
       "      <td>357184</td>\n",
       "      <td>357184</td>\n",
       "      <td>0</td>\n",
       "      <td>0</td>\n",
       "      <td>2</td>\n",
       "      <td>-1.0</td>\n",
       "      <td>0.0</td>\n",
       "      <td>0.0</td>\n",
       "      <td>0.416667</td>\n",
       "      <td>1.0</td>\n",
       "      <td>42</td>\n",
       "      <td>2.0</td>\n",
       "      <td>2.0</td>\n",
       "      <td>2</td>\n",
       "      <td>0.0</td>\n",
       "      <td>-1.0</td>\n",
       "      <td>39</td>\n",
       "    </tr>\n",
       "    <tr>\n",
       "      <th>3</th>\n",
       "      <td>22</td>\n",
       "      <td>22</td>\n",
       "      <td>318356</td>\n",
       "      <td>318356</td>\n",
       "      <td>0</td>\n",
       "      <td>0</td>\n",
       "      <td>4</td>\n",
       "      <td>-1.0</td>\n",
       "      <td>0.0</td>\n",
       "      <td>5.0</td>\n",
       "      <td>0.416667</td>\n",
       "      <td>1.0</td>\n",
       "      <td>20</td>\n",
       "      <td>2.0</td>\n",
       "      <td>2.0</td>\n",
       "      <td>5</td>\n",
       "      <td>0.0</td>\n",
       "      <td>-1.0</td>\n",
       "      <td>30</td>\n",
       "    </tr>\n",
       "    <tr>\n",
       "      <th>4</th>\n",
       "      <td>17</td>\n",
       "      <td>17</td>\n",
       "      <td>230402</td>\n",
       "      <td>230402</td>\n",
       "      <td>1</td>\n",
       "      <td>2</td>\n",
       "      <td>2</td>\n",
       "      <td>0.0</td>\n",
       "      <td>2.0</td>\n",
       "      <td>0.0</td>\n",
       "      <td>0.416667</td>\n",
       "      <td>1.0</td>\n",
       "      <td>23</td>\n",
       "      <td>2.0</td>\n",
       "      <td>5.0</td>\n",
       "      <td>2</td>\n",
       "      <td>2.0</td>\n",
       "      <td>1.0</td>\n",
       "      <td>37</td>\n",
       "    </tr>\n",
       "    <tr>\n",
       "      <th>...</th>\n",
       "      <td>...</td>\n",
       "      <td>...</td>\n",
       "      <td>...</td>\n",
       "      <td>...</td>\n",
       "      <td>...</td>\n",
       "      <td>...</td>\n",
       "      <td>...</td>\n",
       "      <td>...</td>\n",
       "      <td>...</td>\n",
       "      <td>...</td>\n",
       "      <td>...</td>\n",
       "      <td>...</td>\n",
       "      <td>...</td>\n",
       "      <td>...</td>\n",
       "      <td>...</td>\n",
       "      <td>...</td>\n",
       "      <td>...</td>\n",
       "      <td>...</td>\n",
       "      <td>...</td>\n",
       "    </tr>\n",
       "    <tr>\n",
       "      <th>5040</th>\n",
       "      <td>9</td>\n",
       "      <td>9</td>\n",
       "      <td>175273</td>\n",
       "      <td>175273</td>\n",
       "      <td>1</td>\n",
       "      <td>1</td>\n",
       "      <td>4</td>\n",
       "      <td>1.0</td>\n",
       "      <td>2.0</td>\n",
       "      <td>3.0</td>\n",
       "      <td>-0.083333</td>\n",
       "      <td>0.0</td>\n",
       "      <td>36</td>\n",
       "      <td>3.0</td>\n",
       "      <td>2.0</td>\n",
       "      <td>4</td>\n",
       "      <td>2.0</td>\n",
       "      <td>1.0</td>\n",
       "      <td>41</td>\n",
       "    </tr>\n",
       "    <tr>\n",
       "      <th>5041</th>\n",
       "      <td>10</td>\n",
       "      <td>10</td>\n",
       "      <td>225710</td>\n",
       "      <td>225710</td>\n",
       "      <td>0</td>\n",
       "      <td>1</td>\n",
       "      <td>3</td>\n",
       "      <td>1.0</td>\n",
       "      <td>2.0</td>\n",
       "      <td>3.0</td>\n",
       "      <td>-0.083333</td>\n",
       "      <td>1.0</td>\n",
       "      <td>37</td>\n",
       "      <td>3.0</td>\n",
       "      <td>2.0</td>\n",
       "      <td>2</td>\n",
       "      <td>2.0</td>\n",
       "      <td>1.0</td>\n",
       "      <td>29</td>\n",
       "    </tr>\n",
       "    <tr>\n",
       "      <th>5042</th>\n",
       "      <td>0</td>\n",
       "      <td>0</td>\n",
       "      <td>0</td>\n",
       "      <td>0</td>\n",
       "      <td>0</td>\n",
       "      <td>3</td>\n",
       "      <td>3</td>\n",
       "      <td>1.0</td>\n",
       "      <td>2.0</td>\n",
       "      <td>4.0</td>\n",
       "      <td>-0.083333</td>\n",
       "      <td>1.0</td>\n",
       "      <td>28</td>\n",
       "      <td>3.0</td>\n",
       "      <td>1.0</td>\n",
       "      <td>1</td>\n",
       "      <td>2.0</td>\n",
       "      <td>1.0</td>\n",
       "      <td>32</td>\n",
       "    </tr>\n",
       "    <tr>\n",
       "      <th>5043</th>\n",
       "      <td>8</td>\n",
       "      <td>8</td>\n",
       "      <td>177204</td>\n",
       "      <td>177204</td>\n",
       "      <td>1</td>\n",
       "      <td>1</td>\n",
       "      <td>2</td>\n",
       "      <td>1.0</td>\n",
       "      <td>2.0</td>\n",
       "      <td>0.0</td>\n",
       "      <td>-0.083333</td>\n",
       "      <td>1.0</td>\n",
       "      <td>30</td>\n",
       "      <td>3.0</td>\n",
       "      <td>2.0</td>\n",
       "      <td>2</td>\n",
       "      <td>2.0</td>\n",
       "      <td>1.0</td>\n",
       "      <td>41</td>\n",
       "    </tr>\n",
       "    <tr>\n",
       "      <th>5044</th>\n",
       "      <td>18</td>\n",
       "      <td>18</td>\n",
       "      <td>351995</td>\n",
       "      <td>351995</td>\n",
       "      <td>1</td>\n",
       "      <td>5</td>\n",
       "      <td>3</td>\n",
       "      <td>1.0</td>\n",
       "      <td>2.0</td>\n",
       "      <td>0.0</td>\n",
       "      <td>-0.083333</td>\n",
       "      <td>1.0</td>\n",
       "      <td>47</td>\n",
       "      <td>3.0</td>\n",
       "      <td>2.0</td>\n",
       "      <td>2</td>\n",
       "      <td>2.0</td>\n",
       "      <td>1.0</td>\n",
       "      <td>41</td>\n",
       "    </tr>\n",
       "  </tbody>\n",
       "</table>\n",
       "<p>5045 rows × 19 columns</p>\n",
       "</div>"
      ],
      "text/plain": [
       "      Manager_Num_Products2  Manager_Num_Products  Manager_Business  \\\n",
       "0                        28                    28            335249   \n",
       "1                        28                    28            335249   \n",
       "2                        24                    24            357184   \n",
       "3                        22                    22            318356   \n",
       "4                        17                    17            230402   \n",
       "...                     ...                   ...               ...   \n",
       "5040                      9                     9            175273   \n",
       "5041                     10                    10            225710   \n",
       "5042                      0                     0                 0   \n",
       "5043                      8                     8            177204   \n",
       "5044                     18                    18            351995   \n",
       "\n",
       "      Manager_Business2  Manager_Num_Coded  Manager_Num_Application  \\\n",
       "0                335249                  1                        2   \n",
       "1                335249                  1                        2   \n",
       "2                357184                  0                        0   \n",
       "3                318356                  0                        0   \n",
       "4                230402                  1                        2   \n",
       "...                 ...                ...                      ...   \n",
       "5040             175273                  1                        1   \n",
       "5041             225710                  0                        1   \n",
       "5042                  0                  0                        3   \n",
       "5043             177204                  1                        1   \n",
       "5044             351995                  1                        5   \n",
       "\n",
       "      Manager_Grade  Manager_Status  Manager_Current_Designation  \\\n",
       "0                 3             1.0                          1.0   \n",
       "1                 3             1.0                          1.0   \n",
       "2                 2            -1.0                          0.0   \n",
       "3                 4            -1.0                          0.0   \n",
       "4                 2             0.0                          2.0   \n",
       "...             ...             ...                          ...   \n",
       "5040              4             1.0                          2.0   \n",
       "5041              3             1.0                          2.0   \n",
       "5042              3             1.0                          2.0   \n",
       "5043              2             1.0                          2.0   \n",
       "5044              3             1.0                          2.0   \n",
       "\n",
       "      Applicant_Occupation  Application_Receipt_Date  Applicant_Gender  \\\n",
       "0                      5.0                  0.416667               1.0   \n",
       "1                      5.0                  0.416667               1.0   \n",
       "2                      0.0                  0.416667               1.0   \n",
       "3                      5.0                  0.416667               1.0   \n",
       "4                      0.0                  0.416667               1.0   \n",
       "...                    ...                       ...               ...   \n",
       "5040                   3.0                 -0.083333               0.0   \n",
       "5041                   3.0                 -0.083333               1.0   \n",
       "5042                   4.0                 -0.083333               1.0   \n",
       "5043                   0.0                 -0.083333               1.0   \n",
       "5044                   0.0                 -0.083333               1.0   \n",
       "\n",
       "      Applicant_BirthDate  Applicant_Marital_Status  Applicant_Qualification  \\\n",
       "0                      37                       2.0                      2.0   \n",
       "1                      25                       3.0                      2.0   \n",
       "2                      42                       2.0                      2.0   \n",
       "3                      20                       2.0                      2.0   \n",
       "4                      23                       2.0                      5.0   \n",
       "...                   ...                       ...                      ...   \n",
       "5040                   36                       3.0                      2.0   \n",
       "5041                   37                       3.0                      2.0   \n",
       "5042                   28                       3.0                      1.0   \n",
       "5043                   30                       3.0                      2.0   \n",
       "5044                   47                       3.0                      2.0   \n",
       "\n",
       "      Manager_DOJ  Manager_Joining_Designation  Manager_Gender  Manager_DoB  \n",
       "0               3                          1.0             0.0           30  \n",
       "1               3                          1.0             1.0           30  \n",
       "2               2                          0.0            -1.0           39  \n",
       "3               5                          0.0            -1.0           30  \n",
       "4               2                          2.0             1.0           37  \n",
       "...           ...                          ...             ...          ...  \n",
       "5040            4                          2.0             1.0           41  \n",
       "5041            2                          2.0             1.0           29  \n",
       "5042            1                          2.0             1.0           32  \n",
       "5043            2                          2.0             1.0           41  \n",
       "5044            2                          2.0             1.0           41  \n",
       "\n",
       "[5045 rows x 19 columns]"
      ]
     },
     "execution_count": 54,
     "metadata": {},
     "output_type": "execute_result"
    }
   ],
   "source": [
    "xtest = pd.get_dummies(test_data[features])\n",
    "xtest"
   ]
  },
  {
   "cell_type": "code",
   "execution_count": 55,
   "id": "ee7d642a",
   "metadata": {},
   "outputs": [],
   "source": [
    "encoder = OneHotEncoder()\n",
    "y = encoder.fit_transform(np.array(y).reshape(-1,1)).toarray()"
   ]
  },
  {
   "cell_type": "code",
   "execution_count": 56,
   "id": "1ce1c7af",
   "metadata": {},
   "outputs": [
    {
     "data": {
      "text/plain": [
       "((7939, 19), (7939, 2), (1588, 19), (1588, 2))"
      ]
     },
     "execution_count": 56,
     "metadata": {},
     "output_type": "execute_result"
    }
   ],
   "source": [
    "# splitting data\n",
    "x_train, x_test, y_train, y_test = train_test_split(x, y, random_state=0, shuffle=True, test_size=1/6)\n",
    "x_train.shape, y_train.shape, x_test.shape, y_test.shape"
   ]
  },
  {
   "cell_type": "code",
   "execution_count": 57,
   "id": "e160f7bb",
   "metadata": {},
   "outputs": [
    {
     "data": {
      "text/plain": [
       "((7939, 19), (7939, 2), (1588, 19), (1588, 2))"
      ]
     },
     "execution_count": 57,
     "metadata": {},
     "output_type": "execute_result"
    }
   ],
   "source": [
    "# scaling our data with sklearn's Standard scaler\n",
    "scaler = StandardScaler()\n",
    "x_train = scaler.fit_transform(x_train)\n",
    "x_test = scaler.transform(x_test)\n",
    "x_train.shape, y_train.shape, x_test.shape, y_test.shape"
   ]
  },
  {
   "cell_type": "code",
   "execution_count": 58,
   "id": "3a4b9827",
   "metadata": {},
   "outputs": [
    {
     "data": {
      "text/plain": [
       "((7939, 19, 1), (7939, 2), (1588, 19, 1), (1588, 2))"
      ]
     },
     "execution_count": 58,
     "metadata": {},
     "output_type": "execute_result"
    }
   ],
   "source": [
    "# making our data compatible to model.\n",
    "x_train = np.expand_dims(x_train, axis=2)\n",
    "x_test = np.expand_dims(x_test, axis=2)\n",
    "x_train.shape, y_train.shape, x_test.shape, y_test.shape"
   ]
  },
  {
   "cell_type": "code",
   "execution_count": 59,
   "id": "0b06b54d",
   "metadata": {},
   "outputs": [
    {
     "name": "stdout",
     "output_type": "stream",
     "text": [
      "Model: \"sequential\"\n",
      "_________________________________________________________________\n",
      "Layer (type)                 Output Shape              Param #   \n",
      "=================================================================\n",
      "conv1d (Conv1D)              (None, 19, 256)           1536      \n",
      "_________________________________________________________________\n",
      "max_pooling1d (MaxPooling1D) (None, 10, 256)           0         \n",
      "_________________________________________________________________\n",
      "conv1d_1 (Conv1D)            (None, 10, 256)           327936    \n",
      "_________________________________________________________________\n",
      "max_pooling1d_1 (MaxPooling1 (None, 5, 256)            0         \n",
      "_________________________________________________________________\n",
      "conv1d_2 (Conv1D)            (None, 5, 128)            163968    \n",
      "_________________________________________________________________\n",
      "max_pooling1d_2 (MaxPooling1 (None, 3, 128)            0         \n",
      "_________________________________________________________________\n",
      "dropout (Dropout)            (None, 3, 128)            0         \n",
      "_________________________________________________________________\n",
      "conv1d_3 (Conv1D)            (None, 3, 64)             41024     \n",
      "_________________________________________________________________\n",
      "max_pooling1d_3 (MaxPooling1 (None, 2, 64)             0         \n",
      "_________________________________________________________________\n",
      "flatten (Flatten)            (None, 128)               0         \n",
      "_________________________________________________________________\n",
      "dense (Dense)                (None, 32)                4128      \n",
      "_________________________________________________________________\n",
      "dropout_1 (Dropout)          (None, 32)                0         \n",
      "_________________________________________________________________\n",
      "dense_1 (Dense)              (None, 8)                 264       \n",
      "_________________________________________________________________\n",
      "dense_2 (Dense)              (None, 2)                 18        \n",
      "=================================================================\n",
      "Total params: 538,874\n",
      "Trainable params: 538,874\n",
      "Non-trainable params: 0\n",
      "_________________________________________________________________\n"
     ]
    }
   ],
   "source": [
    "model=Sequential()\n",
    "model.add(Conv1D(256, kernel_size=5, strides=1, padding='same', activation='relu', input_shape=(x_train.shape[1], 1)))\n",
    "model.add(MaxPooling1D(pool_size=5, strides = 2, padding = 'same'))\n",
    "\n",
    "model.add(Conv1D(256, kernel_size=5, strides=1, padding='same', activation='relu'))\n",
    "model.add(MaxPooling1D(pool_size=5, strides = 2, padding = 'same'))\n",
    "\n",
    "model.add(Conv1D(128, kernel_size=5, strides=1, padding='same', activation='relu'))\n",
    "model.add(MaxPooling1D(pool_size=5, strides = 2, padding = 'same'))\n",
    "model.add(Dropout(0.2))\n",
    "\n",
    "model.add(Conv1D(64, kernel_size=5, strides=1, padding='same', activation='relu'))\n",
    "model.add(MaxPooling1D(pool_size=5, strides = 2, padding = 'same'))\n",
    "\n",
    "model.add(Flatten())\n",
    "model.add(Dense(units=32, activation='relu'))\n",
    "model.add(Dropout(0.3))\n",
    "\n",
    "model.add(Dense(units=8, activation='relu'))\n",
    "model.add(Dense(units=2, activation='softmax'))\n",
    "model.compile(optimizer = 'adam' , loss = 'categorical_crossentropy' , metrics = ['accuracy'])\n",
    "\n",
    "model.summary()"
   ]
  },
  {
   "cell_type": "code",
   "execution_count": 60,
   "id": "2879037f",
   "metadata": {},
   "outputs": [
    {
     "name": "stdout",
     "output_type": "stream",
     "text": [
      "Epoch 1/100\n",
      "125/125 [==============================] - 3s 25ms/step - loss: 0.6547 - accuracy: 0.6569 - val_loss: 0.6571 - val_accuracy: 0.6423\n",
      "Epoch 2/100\n",
      "125/125 [==============================] - 3s 22ms/step - loss: 0.6454 - accuracy: 0.6600 - val_loss: 0.6503 - val_accuracy: 0.6423\n",
      "Epoch 3/100\n",
      "125/125 [==============================] - 3s 22ms/step - loss: 0.6390 - accuracy: 0.6600 - val_loss: 0.6482 - val_accuracy: 0.6423\n",
      "Epoch 4/100\n",
      "125/125 [==============================] - 3s 22ms/step - loss: 0.6383 - accuracy: 0.6600 - val_loss: 0.6439 - val_accuracy: 0.6423\n",
      "Epoch 5/100\n",
      "125/125 [==============================] - 3s 25ms/step - loss: 0.6357 - accuracy: 0.6599 - val_loss: 0.6440 - val_accuracy: 0.6423\n",
      "Epoch 6/100\n",
      "125/125 [==============================] - 3s 27ms/step - loss: 0.6319 - accuracy: 0.6600 - val_loss: 0.6394 - val_accuracy: 0.6423\n",
      "Epoch 7/100\n",
      "125/125 [==============================] - 3s 27ms/step - loss: 0.6305 - accuracy: 0.6597 - val_loss: 0.6475 - val_accuracy: 0.6423\n",
      "Epoch 8/100\n",
      "125/125 [==============================] - 3s 28ms/step - loss: 0.6291 - accuracy: 0.6600 - val_loss: 0.6371 - val_accuracy: 0.6423\n",
      "Epoch 9/100\n",
      "125/125 [==============================] - 3s 28ms/step - loss: 0.6276 - accuracy: 0.6600 - val_loss: 0.6398 - val_accuracy: 0.6423\n",
      "Epoch 10/100\n",
      "125/125 [==============================] - 3s 28ms/step - loss: 0.6238 - accuracy: 0.6602 - val_loss: 0.6461 - val_accuracy: 0.6423\n",
      "Epoch 11/100\n",
      "125/125 [==============================] - 3s 28ms/step - loss: 0.6243 - accuracy: 0.6605 - val_loss: 0.6318 - val_accuracy: 0.6404\n",
      "Epoch 12/100\n",
      "125/125 [==============================] - 4s 28ms/step - loss: 0.6242 - accuracy: 0.6588 - val_loss: 0.6328 - val_accuracy: 0.6411\n",
      "Epoch 13/100\n",
      "125/125 [==============================] - 4s 28ms/step - loss: 0.6149 - accuracy: 0.6602 - val_loss: 0.6334 - val_accuracy: 0.6404\n",
      "Epoch 14/100\n",
      "125/125 [==============================] - 4s 28ms/step - loss: 0.6133 - accuracy: 0.6617 - val_loss: 0.6338 - val_accuracy: 0.6429\n",
      "Epoch 15/100\n",
      "125/125 [==============================] - 4s 28ms/step - loss: 0.6141 - accuracy: 0.6604 - val_loss: 0.6338 - val_accuracy: 0.6429\n",
      "Epoch 16/100\n",
      "125/125 [==============================] - 4s 28ms/step - loss: 0.6103 - accuracy: 0.6597 - val_loss: 0.6328 - val_accuracy: 0.6429\n",
      "Epoch 17/100\n",
      "125/125 [==============================] - 4s 29ms/step - loss: 0.6070 - accuracy: 0.6629 - val_loss: 0.6370 - val_accuracy: 0.6442\n",
      "Epoch 18/100\n",
      "125/125 [==============================] - 4s 28ms/step - loss: 0.6082 - accuracy: 0.6593 - val_loss: 0.6358 - val_accuracy: 0.6423\n",
      "Epoch 19/100\n",
      "125/125 [==============================] - 4s 28ms/step - loss: 0.6060 - accuracy: 0.6644 - val_loss: 0.6379 - val_accuracy: 0.6429\n",
      "Epoch 20/100\n",
      "125/125 [==============================] - 4s 28ms/step - loss: 0.6048 - accuracy: 0.6617 - val_loss: 0.6385 - val_accuracy: 0.6442\n",
      "Epoch 21/100\n",
      "125/125 [==============================] - 4s 33ms/step - loss: 0.5999 - accuracy: 0.6670 - val_loss: 0.6356 - val_accuracy: 0.6505\n",
      "Epoch 22/100\n",
      "125/125 [==============================] - 3s 28ms/step - loss: 0.6045 - accuracy: 0.6617 - val_loss: 0.6394 - val_accuracy: 0.6455\n",
      "Epoch 23/100\n",
      "125/125 [==============================] - 3s 28ms/step - loss: 0.5983 - accuracy: 0.6670 - val_loss: 0.6382 - val_accuracy: 0.6486\n",
      "Epoch 24/100\n",
      "125/125 [==============================] - 3s 28ms/step - loss: 0.5942 - accuracy: 0.6654 - val_loss: 0.6401 - val_accuracy: 0.6442\n",
      "Epoch 25/100\n",
      "125/125 [==============================] - 3s 28ms/step - loss: 0.5919 - accuracy: 0.6754 - val_loss: 0.6429 - val_accuracy: 0.6499\n",
      "Epoch 26/100\n",
      "125/125 [==============================] - 4s 28ms/step - loss: 0.5901 - accuracy: 0.6716 - val_loss: 0.6411 - val_accuracy: 0.6467\n",
      "Epoch 27/100\n",
      "125/125 [==============================] - 4s 28ms/step - loss: 0.5860 - accuracy: 0.6792 - val_loss: 0.6428 - val_accuracy: 0.6234\n",
      "Epoch 28/100\n",
      "125/125 [==============================] - 4s 28ms/step - loss: 0.5825 - accuracy: 0.6833 - val_loss: 0.6404 - val_accuracy: 0.6417\n",
      "Epoch 29/100\n",
      "125/125 [==============================] - 4s 29ms/step - loss: 0.5832 - accuracy: 0.6821 - val_loss: 0.6448 - val_accuracy: 0.6140\n",
      "Epoch 30/100\n",
      "125/125 [==============================] - 4s 29ms/step - loss: 0.5780 - accuracy: 0.6911 - val_loss: 0.6543 - val_accuracy: 0.6398\n",
      "Epoch 31/100\n",
      "125/125 [==============================] - 4s 28ms/step - loss: 0.5774 - accuracy: 0.6884 - val_loss: 0.6512 - val_accuracy: 0.6304\n",
      "Epoch 32/100\n",
      "125/125 [==============================] - 4s 29ms/step - loss: 0.5737 - accuracy: 0.6991 - val_loss: 0.6499 - val_accuracy: 0.6335\n",
      "Epoch 33/100\n",
      "125/125 [==============================] - 4s 29ms/step - loss: 0.5715 - accuracy: 0.6929 - val_loss: 0.6536 - val_accuracy: 0.6322\n",
      "Epoch 34/100\n",
      "125/125 [==============================] - 4s 29ms/step - loss: 0.5680 - accuracy: 0.7022 - val_loss: 0.6614 - val_accuracy: 0.6190\n",
      "Epoch 35/100\n",
      "125/125 [==============================] - 4s 29ms/step - loss: 0.5624 - accuracy: 0.7061 - val_loss: 0.6587 - val_accuracy: 0.6190\n",
      "Epoch 36/100\n",
      "125/125 [==============================] - 4s 28ms/step - loss: 0.5534 - accuracy: 0.7146 - val_loss: 0.6595 - val_accuracy: 0.6184\n",
      "Epoch 37/100\n",
      "125/125 [==============================] - 4s 29ms/step - loss: 0.5496 - accuracy: 0.7187 - val_loss: 0.6707 - val_accuracy: 0.6423\n",
      "Epoch 38/100\n",
      "125/125 [==============================] - 4s 28ms/step - loss: 0.5515 - accuracy: 0.7118 - val_loss: 0.6921 - val_accuracy: 0.6366\n",
      "Epoch 39/100\n",
      "125/125 [==============================] - 4s 28ms/step - loss: 0.5470 - accuracy: 0.7148 - val_loss: 0.6719 - val_accuracy: 0.6304\n",
      "Epoch 40/100\n",
      "125/125 [==============================] - 4s 29ms/step - loss: 0.5336 - accuracy: 0.7257 - val_loss: 0.6757 - val_accuracy: 0.6297\n",
      "Epoch 41/100\n",
      "125/125 [==============================] - 4s 28ms/step - loss: 0.5304 - accuracy: 0.7273 - val_loss: 0.6777 - val_accuracy: 0.5970\n",
      "Epoch 42/100\n",
      "125/125 [==============================] - 4s 28ms/step - loss: 0.5303 - accuracy: 0.7294 - val_loss: 0.6835 - val_accuracy: 0.5995\n",
      "Epoch 43/100\n",
      "125/125 [==============================] - 4s 28ms/step - loss: 0.5213 - accuracy: 0.7357 - val_loss: 0.6986 - val_accuracy: 0.6045\n",
      "Epoch 44/100\n",
      "125/125 [==============================] - 4s 29ms/step - loss: 0.5161 - accuracy: 0.7352 - val_loss: 0.7209 - val_accuracy: 0.6379\n",
      "Epoch 45/100\n",
      "125/125 [==============================] - 4s 29ms/step - loss: 0.5045 - accuracy: 0.7467 - val_loss: 0.7104 - val_accuracy: 0.6140\n",
      "Epoch 46/100\n",
      "125/125 [==============================] - 4s 28ms/step - loss: 0.5041 - accuracy: 0.7491 - val_loss: 0.7070 - val_accuracy: 0.6316\n",
      "Epoch 47/100\n",
      "125/125 [==============================] - 4s 28ms/step - loss: 0.4980 - accuracy: 0.7512 - val_loss: 0.7231 - val_accuracy: 0.6102\n",
      "Epoch 48/100\n",
      "125/125 [==============================] - 4s 29ms/step - loss: 0.4858 - accuracy: 0.7623 - val_loss: 0.7470 - val_accuracy: 0.5649\n",
      "Epoch 49/100\n",
      "125/125 [==============================] - 4s 28ms/step - loss: 0.4861 - accuracy: 0.7588 - val_loss: 0.7815 - val_accuracy: 0.6083\n",
      "Epoch 50/100\n",
      "125/125 [==============================] - 4s 28ms/step - loss: 0.4736 - accuracy: 0.7691 - val_loss: 0.7620 - val_accuracy: 0.6253\n",
      "Epoch 51/100\n",
      "125/125 [==============================] - 4s 28ms/step - loss: 0.4718 - accuracy: 0.7682 - val_loss: 0.7820 - val_accuracy: 0.6039\n",
      "Epoch 52/100\n",
      "125/125 [==============================] - 4s 33ms/step - loss: 0.4599 - accuracy: 0.7806 - val_loss: 0.7957 - val_accuracy: 0.5913\n",
      "Epoch 53/100\n",
      "125/125 [==============================] - 4s 33ms/step - loss: 0.4556 - accuracy: 0.7783 - val_loss: 0.8044 - val_accuracy: 0.6146\n",
      "Epoch 54/100\n",
      "125/125 [==============================] - 4s 28ms/step - loss: 0.4472 - accuracy: 0.7874 - val_loss: 0.8168 - val_accuracy: 0.6020\n",
      "Epoch 55/100\n",
      "125/125 [==============================] - 4s 28ms/step - loss: 0.4452 - accuracy: 0.7884 - val_loss: 0.8235 - val_accuracy: 0.5938\n",
      "Epoch 56/100\n",
      "125/125 [==============================] - 4s 29ms/step - loss: 0.4357 - accuracy: 0.7930 - val_loss: 0.8708 - val_accuracy: 0.6058\n",
      "Epoch 57/100\n",
      "125/125 [==============================] - 3s 27ms/step - loss: 0.4248 - accuracy: 0.8032 - val_loss: 0.8341 - val_accuracy: 0.6077\n",
      "Epoch 58/100\n",
      "125/125 [==============================] - 4s 29ms/step - loss: 0.4127 - accuracy: 0.8059 - val_loss: 0.8583 - val_accuracy: 0.6001\n",
      "Epoch 59/100\n",
      "125/125 [==============================] - 4s 31ms/step - loss: 0.4178 - accuracy: 0.8002 - val_loss: 0.8910 - val_accuracy: 0.5995\n",
      "Epoch 60/100\n",
      "125/125 [==============================] - 3s 26ms/step - loss: 0.4035 - accuracy: 0.8135 - val_loss: 0.9129 - val_accuracy: 0.6058\n",
      "Epoch 61/100\n",
      "125/125 [==============================] - 4s 32ms/step - loss: 0.3930 - accuracy: 0.8190 - val_loss: 0.8997 - val_accuracy: 0.5831\n",
      "Epoch 62/100\n",
      "125/125 [==============================] - 5s 40ms/step - loss: 0.3957 - accuracy: 0.8127 - val_loss: 0.9864 - val_accuracy: 0.6096\n",
      "Epoch 63/100\n",
      "125/125 [==============================] - 5s 41ms/step - loss: 0.3855 - accuracy: 0.8211 - val_loss: 0.9428 - val_accuracy: 0.5982\n",
      "Epoch 64/100\n",
      "125/125 [==============================] - 5s 38ms/step - loss: 0.3906 - accuracy: 0.8180 - val_loss: 0.9165 - val_accuracy: 0.5976\n",
      "Epoch 65/100\n",
      "125/125 [==============================] - 5s 38ms/step - loss: 0.3745 - accuracy: 0.8268 - val_loss: 0.9782 - val_accuracy: 0.6071\n",
      "Epoch 66/100\n",
      "125/125 [==============================] - 5s 38ms/step - loss: 0.3658 - accuracy: 0.8293 - val_loss: 1.0226 - val_accuracy: 0.5932\n",
      "Epoch 67/100\n",
      "125/125 [==============================] - 5s 38ms/step - loss: 0.3583 - accuracy: 0.8363 - val_loss: 1.0818 - val_accuracy: 0.5907\n",
      "Epoch 68/100\n",
      "125/125 [==============================] - 5s 38ms/step - loss: 0.3589 - accuracy: 0.8312 - val_loss: 0.9947 - val_accuracy: 0.5945\n",
      "Epoch 69/100\n",
      "125/125 [==============================] - 5s 38ms/step - loss: 0.3547 - accuracy: 0.8355 - val_loss: 1.0499 - val_accuracy: 0.6058\n",
      "Epoch 70/100\n",
      "125/125 [==============================] - 5s 38ms/step - loss: 0.3613 - accuracy: 0.8320 - val_loss: 1.1158 - val_accuracy: 0.6008\n",
      "Epoch 71/100\n",
      "125/125 [==============================] - 5s 38ms/step - loss: 0.3349 - accuracy: 0.8500 - val_loss: 1.0836 - val_accuracy: 0.5712\n",
      "Epoch 72/100\n",
      "125/125 [==============================] - 5s 38ms/step - loss: 0.3312 - accuracy: 0.8495 - val_loss: 1.1197 - val_accuracy: 0.6165\n",
      "Epoch 73/100\n",
      "125/125 [==============================] - 5s 38ms/step - loss: 0.3195 - accuracy: 0.8564 - val_loss: 1.1249 - val_accuracy: 0.6001\n",
      "Epoch 74/100\n",
      "125/125 [==============================] - 5s 38ms/step - loss: 0.3324 - accuracy: 0.8477 - val_loss: 1.1424 - val_accuracy: 0.5819\n",
      "Epoch 75/100\n",
      "125/125 [==============================] - 5s 38ms/step - loss: 0.3177 - accuracy: 0.8589 - val_loss: 1.2098 - val_accuracy: 0.6001\n",
      "Epoch 76/100\n",
      "125/125 [==============================] - 5s 38ms/step - loss: 0.3196 - accuracy: 0.8538 - val_loss: 1.1464 - val_accuracy: 0.6001\n",
      "Epoch 77/100\n",
      "125/125 [==============================] - 5s 38ms/step - loss: 0.3088 - accuracy: 0.8588 - val_loss: 1.1760 - val_accuracy: 0.5812\n",
      "Epoch 78/100\n",
      "125/125 [==============================] - 5s 38ms/step - loss: 0.2894 - accuracy: 0.8713 - val_loss: 1.2299 - val_accuracy: 0.5875\n",
      "Epoch 79/100\n",
      "125/125 [==============================] - 5s 38ms/step - loss: 0.2941 - accuracy: 0.8679 - val_loss: 1.2488 - val_accuracy: 0.5718\n",
      "Epoch 80/100\n",
      "125/125 [==============================] - 5s 38ms/step - loss: 0.3000 - accuracy: 0.8638 - val_loss: 1.2578 - val_accuracy: 0.5919\n",
      "Epoch 81/100\n",
      "125/125 [==============================] - 5s 38ms/step - loss: 0.2458 - accuracy: 0.8924 - val_loss: 1.3794 - val_accuracy: 0.5850\n",
      "Epoch 82/100\n",
      "125/125 [==============================] - 5s 38ms/step - loss: 0.2250 - accuracy: 0.9014 - val_loss: 1.4527 - val_accuracy: 0.5869\n",
      "Epoch 83/100\n",
      "125/125 [==============================] - 5s 39ms/step - loss: 0.2226 - accuracy: 0.9065 - val_loss: 1.4328 - val_accuracy: 0.5812\n",
      "Epoch 84/100\n",
      "125/125 [==============================] - 5s 38ms/step - loss: 0.2187 - accuracy: 0.9114 - val_loss: 1.5290 - val_accuracy: 0.5901\n",
      "Epoch 85/100\n",
      "125/125 [==============================] - 5s 38ms/step - loss: 0.2153 - accuracy: 0.9057 - val_loss: 1.5782 - val_accuracy: 0.5819\n",
      "Epoch 86/100\n",
      "125/125 [==============================] - 5s 38ms/step - loss: 0.2199 - accuracy: 0.9059 - val_loss: 1.5117 - val_accuracy: 0.5844\n",
      "Epoch 87/100\n",
      "125/125 [==============================] - 5s 38ms/step - loss: 0.2065 - accuracy: 0.9112 - val_loss: 1.5848 - val_accuracy: 0.5831\n",
      "Epoch 88/100\n",
      "125/125 [==============================] - 5s 38ms/step - loss: 0.2134 - accuracy: 0.9059 - val_loss: 1.5840 - val_accuracy: 0.5793\n",
      "Epoch 89/100\n",
      "125/125 [==============================] - 5s 38ms/step - loss: 0.2093 - accuracy: 0.9117 - val_loss: 1.5922 - val_accuracy: 0.5806\n",
      "Epoch 90/100\n",
      "125/125 [==============================] - 4s 35ms/step - loss: 0.1860 - accuracy: 0.9223 - val_loss: 1.6919 - val_accuracy: 0.5894\n",
      "Epoch 91/100\n",
      "125/125 [==============================] - 5s 37ms/step - loss: 0.1845 - accuracy: 0.9239 - val_loss: 1.6953 - val_accuracy: 0.5781\n",
      "Epoch 92/100\n",
      "125/125 [==============================] - 4s 36ms/step - loss: 0.1803 - accuracy: 0.9232 - val_loss: 1.7296 - val_accuracy: 0.5819\n",
      "Epoch 93/100\n",
      "125/125 [==============================] - 4s 35ms/step - loss: 0.1768 - accuracy: 0.9269 - val_loss: 1.7495 - val_accuracy: 0.5901\n",
      "Epoch 94/100\n",
      "125/125 [==============================] - 4s 34ms/step - loss: 0.1719 - accuracy: 0.9287 - val_loss: 1.7674 - val_accuracy: 0.5825\n",
      "Epoch 95/100\n",
      "125/125 [==============================] - 5s 37ms/step - loss: 0.1714 - accuracy: 0.9278 - val_loss: 1.7759 - val_accuracy: 0.5806\n",
      "Epoch 96/100\n",
      "125/125 [==============================] - 4s 36ms/step - loss: 0.1671 - accuracy: 0.9319 - val_loss: 1.8048 - val_accuracy: 0.5793\n",
      "Epoch 97/100\n",
      "125/125 [==============================] - 4s 36ms/step - loss: 0.1759 - accuracy: 0.9263 - val_loss: 1.7866 - val_accuracy: 0.5894\n",
      "Epoch 98/100\n",
      "125/125 [==============================] - 4s 33ms/step - loss: 0.1626 - accuracy: 0.9332 - val_loss: 1.8306 - val_accuracy: 0.5869\n",
      "Epoch 99/100\n",
      "125/125 [==============================] - 5s 37ms/step - loss: 0.1611 - accuracy: 0.9337 - val_loss: 1.8735 - val_accuracy: 0.5787\n",
      "Epoch 100/100\n",
      "125/125 [==============================] - 4s 36ms/step - loss: 0.1659 - accuracy: 0.9306 - val_loss: 1.8539 - val_accuracy: 0.5856\n"
     ]
    }
   ],
   "source": [
    "rlrp = ReduceLROnPlateau(monitor='loss', factor=0.4, verbose=0, patience=2, min_lr=0.0000001)\n",
    "history=model.fit(x_train, y_train, batch_size=64, epochs=100, validation_data=(x_test, y_test), callbacks=[rlrp])"
   ]
  },
  {
   "cell_type": "code",
   "execution_count": 62,
   "id": "9a382976",
   "metadata": {},
   "outputs": [
    {
     "name": "stdout",
     "output_type": "stream",
     "text": [
      "50/50 [==============================] - 0s 6ms/step - loss: 1.8539 - accuracy: 0.5856\n",
      "Accuracy of our model on test data :  58.56423377990723 %\n"
     ]
    },
    {
     "data": {
      "image/png": "[encoded data removed]",
      "text/plain": [
       "<Figure size 1440x432 with 2 Axes>"
      ]
     },
     "metadata": {
      "needs_background": "light"
     },
     "output_type": "display_data"
    }
   ],
   "source": [
    "print(\"Accuracy of our model on test data : \" , model.evaluate(x_test,y_test)[1]*100 , \"%\")\n",
    "\n",
    "epochs = [i for i in range(100)]\n",
    "fig , ax = plt.subplots(1,2)\n",
    "train_acc = history.history['accuracy']\n",
    "train_loss = history.history['loss']\n",
    "test_acc = history.history['val_accuracy']\n",
    "test_loss = history.history['val_loss']\n",
    "\n",
    "fig.set_size_inches(20,6)\n",
    "ax[0].plot(epochs , train_loss , label = 'Training Loss')\n",
    "ax[0].plot(epochs , test_loss , label = 'Testing Loss')\n",
    "ax[0].set_title('Training & Testing Loss')\n",
    "ax[0].legend()\n",
    "ax[0].set_xlabel(\"Epochs\")\n",
    "\n",
    "ax[1].plot(epochs , train_acc , label = 'Training Accuracy')\n",
    "ax[1].plot(epochs , test_acc , label = 'Testing Accuracy')\n",
    "ax[1].set_title('Training & Testing Accuracy')\n",
    "ax[1].legend()\n",
    "ax[1].set_xlabel(\"Epochs\")\n",
    "plt.show()"
   ]
  },
  {
   "cell_type": "code",
   "execution_count": 63,
   "id": "f1625c3f",
   "metadata": {},
   "outputs": [
    {
     "data": {
      "text/plain": [
       "((9527, 19), (9527, 2))"
      ]
     },
     "execution_count": 63,
     "metadata": {},
     "output_type": "execute_result"
    }
   ],
   "source": [
    "# scaling our data with sklearn's Standard scaler\n",
    "scaler = StandardScaler()\n",
    "x = scaler.fit_transform(x)\n",
    "x.shape, y.shape"
   ]
  },
  {
   "cell_type": "code",
   "execution_count": 64,
   "id": "a1f63b8b",
   "metadata": {},
   "outputs": [],
   "source": [
    "# making our data compatible to model.\n",
    "x = np.expand_dims(x, axis=2)"
   ]
  },
  {
   "cell_type": "code",
   "execution_count": 65,
   "id": "0325b5cf",
   "metadata": {},
   "outputs": [
    {
     "name": "stdout",
     "output_type": "stream",
     "text": [
      "Epoch 1/100\n",
      "149/149 [==============================] - 5s 34ms/step - loss: 0.4298 - accuracy: 0.8602\n",
      "Epoch 2/100\n",
      "149/149 [==============================] - 6s 39ms/step - loss: 0.3762 - accuracy: 0.8717\n",
      "Epoch 3/100\n",
      "149/149 [==============================] - 5s 34ms/step - loss: 0.3534 - accuracy: 0.8728\n",
      "Epoch 4/100\n",
      "149/149 [==============================] - 5s 34ms/step - loss: 0.3379 - accuracy: 0.8756\n",
      "Epoch 5/100\n",
      "149/149 [==============================] - 5s 32ms/step - loss: 0.3331 - accuracy: 0.8793\n",
      "Epoch 6/100\n",
      "149/149 [==============================] - 5s 34ms/step - loss: 0.3228 - accuracy: 0.8818 1s\n",
      "Epoch 7/100\n",
      "149/149 [==============================] - 5s 34ms/step - loss: 0.3200 - accuracy: 0.8811\n",
      "Epoch 8/100\n",
      "149/149 [==============================] - 5s 33ms/step - loss: 0.3120 - accuracy: 0.8818\n",
      "Epoch 9/100\n",
      "149/149 [==============================] - 5s 34ms/step - loss: 0.3049 - accuracy: 0.8887\n",
      "Epoch 10/100\n",
      "149/149 [==============================] - 5s 34ms/step - loss: 0.3046 - accuracy: 0.8861\n",
      "Epoch 11/100\n",
      "149/149 [==============================] - 5s 34ms/step - loss: 0.2980 - accuracy: 0.8855\n",
      "Epoch 12/100\n",
      "149/149 [==============================] - 5s 34ms/step - loss: 0.2963 - accuracy: 0.8913\n",
      "Epoch 13/100\n",
      "149/149 [==============================] - 5s 34ms/step - loss: 0.2940 - accuracy: 0.8902\n",
      "Epoch 14/100\n",
      "149/149 [==============================] - 5s 34ms/step - loss: 0.2863 - accuracy: 0.8913\n",
      "Epoch 15/100\n",
      "149/149 [==============================] - 5s 34ms/step - loss: 0.2856 - accuracy: 0.8928\n",
      "Epoch 16/100\n",
      "149/149 [==============================] - 5s 34ms/step - loss: 0.2790 - accuracy: 0.8959\n",
      "Epoch 17/100\n",
      "149/149 [==============================] - 5s 34ms/step - loss: 0.2825 - accuracy: 0.8944\n",
      "Epoch 18/100\n",
      "149/149 [==============================] - 5s 34ms/step - loss: 0.2779 - accuracy: 0.8954\n",
      "Epoch 19/100\n",
      "149/149 [==============================] - 5s 34ms/step - loss: 0.2714 - accuracy: 0.8979\n",
      "Epoch 20/100\n",
      "149/149 [==============================] - 5s 34ms/step - loss: 0.2707 - accuracy: 0.8954\n",
      "Epoch 21/100\n",
      "149/149 [==============================] - 5s 34ms/step - loss: 0.2616 - accuracy: 0.9022\n",
      "Epoch 22/100\n",
      "149/149 [==============================] - 5s 34ms/step - loss: 0.2627 - accuracy: 0.8988\n",
      "Epoch 23/100\n",
      "149/149 [==============================] - 5s 34ms/step - loss: 0.2656 - accuracy: 0.9003\n",
      "Epoch 24/100\n",
      "149/149 [==============================] - 5s 34ms/step - loss: 0.2518 - accuracy: 0.9057\n",
      "Epoch 25/100\n",
      "149/149 [==============================] - 5s 34ms/step - loss: 0.2524 - accuracy: 0.9050\n",
      "Epoch 26/100\n",
      "149/149 [==============================] - 5s 34ms/step - loss: 0.2487 - accuracy: 0.9081\n",
      "Epoch 27/100\n",
      "149/149 [==============================] - 5s 37ms/step - loss: 0.2463 - accuracy: 0.9108\n",
      "Epoch 28/100\n",
      "149/149 [==============================] - 5s 34ms/step - loss: 0.2492 - accuracy: 0.9052\n",
      "Epoch 29/100\n",
      "149/149 [==============================] - 5s 34ms/step - loss: 0.2431 - accuracy: 0.9098\n",
      "Epoch 30/100\n",
      "149/149 [==============================] - 5s 34ms/step - loss: 0.2438 - accuracy: 0.9103\n",
      "Epoch 31/100\n",
      "149/149 [==============================] - 5s 34ms/step - loss: 0.2388 - accuracy: 0.9120\n",
      "Epoch 32/100\n",
      "149/149 [==============================] - 5s 34ms/step - loss: 0.2393 - accuracy: 0.9149\n",
      "Epoch 33/100\n",
      "149/149 [==============================] - 5s 34ms/step - loss: 0.2455 - accuracy: 0.9085\n",
      "Epoch 34/100\n",
      "149/149 [==============================] - 5s 34ms/step - loss: 0.2417 - accuracy: 0.9107\n",
      "Epoch 35/100\n",
      "149/149 [==============================] - 5s 35ms/step - loss: 0.2351 - accuracy: 0.9140\n",
      "Epoch 36/100\n",
      "149/149 [==============================] - 5s 34ms/step - loss: 0.2329 - accuracy: 0.9145\n",
      "Epoch 37/100\n",
      "149/149 [==============================] - 5s 34ms/step - loss: 0.2329 - accuracy: 0.9131\n",
      "Epoch 38/100\n",
      "149/149 [==============================] - 5s 34ms/step - loss: 0.2381 - accuracy: 0.9111\n",
      "Epoch 39/100\n",
      "149/149 [==============================] - 5s 34ms/step - loss: 0.2392 - accuracy: 0.9096\n",
      "Epoch 40/100\n",
      "149/149 [==============================] - 5s 34ms/step - loss: 0.2310 - accuracy: 0.9152\n",
      "Epoch 41/100\n",
      "149/149 [==============================] - 5s 34ms/step - loss: 0.2335 - accuracy: 0.9146\n",
      "Epoch 42/100\n",
      "149/149 [==============================] - 5s 34ms/step - loss: 0.2301 - accuracy: 0.9148\n",
      "Epoch 43/100\n",
      "149/149 [==============================] - 5s 34ms/step - loss: 0.2289 - accuracy: 0.9153\n",
      "Epoch 44/100\n",
      "149/149 [==============================] - 5s 34ms/step - loss: 0.2336 - accuracy: 0.9152\n",
      "Epoch 45/100\n",
      "149/149 [==============================] - 5s 34ms/step - loss: 0.2256 - accuracy: 0.9177\n",
      "Epoch 46/100\n",
      "149/149 [==============================] - 5s 33ms/step - loss: 0.2253 - accuracy: 0.9216\n",
      "Epoch 47/100\n",
      "149/149 [==============================] - 5s 34ms/step - loss: 0.2315 - accuracy: 0.9135\n",
      "Epoch 48/100\n",
      "149/149 [==============================] - 5s 34ms/step - loss: 0.2278 - accuracy: 0.9166\n",
      "Epoch 49/100\n",
      "149/149 [==============================] - 5s 34ms/step - loss: 0.2299 - accuracy: 0.9156\n",
      "Epoch 50/100\n",
      "149/149 [==============================] - 5s 34ms/step - loss: 0.2268 - accuracy: 0.9166\n",
      "Epoch 51/100\n",
      "149/149 [==============================] - 5s 34ms/step - loss: 0.2265 - accuracy: 0.9173\n",
      "Epoch 52/100\n",
      "149/149 [==============================] - 5s 34ms/step - loss: 0.2331 - accuracy: 0.9150\n",
      "Epoch 53/100\n",
      "149/149 [==============================] - 5s 34ms/step - loss: 0.2323 - accuracy: 0.9162\n",
      "Epoch 54/100\n",
      "149/149 [==============================] - 5s 34ms/step - loss: 0.2316 - accuracy: 0.9135\n",
      "Epoch 55/100\n",
      "149/149 [==============================] - 5s 34ms/step - loss: 0.2261 - accuracy: 0.9170\n",
      "Epoch 56/100\n",
      "149/149 [==============================] - 5s 34ms/step - loss: 0.2227 - accuracy: 0.9202\n",
      "Epoch 57/100\n",
      "149/149 [==============================] - 5s 33ms/step - loss: 0.2325 - accuracy: 0.9163\n",
      "Epoch 58/100\n",
      "149/149 [==============================] - 5s 33ms/step - loss: 0.2306 - accuracy: 0.9168\n",
      "Epoch 59/100\n",
      "149/149 [==============================] - 5s 33ms/step - loss: 0.2338 - accuracy: 0.9148\n",
      "Epoch 60/100\n",
      "149/149 [==============================] - 5s 34ms/step - loss: 0.2336 - accuracy: 0.9148\n",
      "Epoch 61/100\n",
      "149/149 [==============================] - 5s 33ms/step - loss: 0.2306 - accuracy: 0.9161\n",
      "Epoch 62/100\n",
      "149/149 [==============================] - 5s 34ms/step - loss: 0.2302 - accuracy: 0.9112\n",
      "Epoch 63/100\n",
      "149/149 [==============================] - 5s 33ms/step - loss: 0.2321 - accuracy: 0.9143\n",
      "Epoch 64/100\n",
      "149/149 [==============================] - 5s 35ms/step - loss: 0.2294 - accuracy: 0.9175\n",
      "Epoch 65/100\n",
      "149/149 [==============================] - 5s 34ms/step - loss: 0.2272 - accuracy: 0.9179\n",
      "Epoch 66/100\n",
      "149/149 [==============================] - 5s 32ms/step - loss: 0.2284 - accuracy: 0.9189\n",
      "Epoch 67/100\n",
      "149/149 [==============================] - 5s 34ms/step - loss: 0.2288 - accuracy: 0.9177\n",
      "Epoch 68/100\n",
      "149/149 [==============================] - 5s 34ms/step - loss: 0.2290 - accuracy: 0.9155\n",
      "Epoch 69/100\n",
      "149/149 [==============================] - 5s 32ms/step - loss: 0.2302 - accuracy: 0.9161\n",
      "Epoch 70/100\n",
      "149/149 [==============================] - 5s 34ms/step - loss: 0.2300 - accuracy: 0.9152\n",
      "Epoch 71/100\n",
      "149/149 [==============================] - 5s 32ms/step - loss: 0.2341 - accuracy: 0.9138\n",
      "Epoch 72/100\n",
      "149/149 [==============================] - 5s 33ms/step - loss: 0.2303 - accuracy: 0.9168\n",
      "Epoch 73/100\n",
      "149/149 [==============================] - 5s 35ms/step - loss: 0.2313 - accuracy: 0.9158\n",
      "Epoch 74/100\n",
      "149/149 [==============================] - 5s 34ms/step - loss: 0.2306 - accuracy: 0.9163\n",
      "Epoch 75/100\n",
      "149/149 [==============================] - 5s 33ms/step - loss: 0.2276 - accuracy: 0.9134\n",
      "Epoch 76/100\n",
      "149/149 [==============================] - 5s 33ms/step - loss: 0.2282 - accuracy: 0.9188\n",
      "Epoch 77/100\n",
      "149/149 [==============================] - 5s 32ms/step - loss: 0.2300 - accuracy: 0.9142\n",
      "Epoch 78/100\n",
      "149/149 [==============================] - 5s 32ms/step - loss: 0.2292 - accuracy: 0.9151\n",
      "Epoch 79/100\n",
      "149/149 [==============================] - 5s 33ms/step - loss: 0.2276 - accuracy: 0.9164\n",
      "Epoch 80/100\n",
      "149/149 [==============================] - 5s 34ms/step - loss: 0.2299 - accuracy: 0.9151\n",
      "Epoch 81/100\n",
      "149/149 [==============================] - 5s 34ms/step - loss: 0.2249 - accuracy: 0.9175\n",
      "Epoch 82/100\n",
      "149/149 [==============================] - 5s 34ms/step - loss: 0.2295 - accuracy: 0.9169\n",
      "Epoch 83/100\n",
      "149/149 [==============================] - 5s 34ms/step - loss: 0.2296 - accuracy: 0.9125\n",
      "Epoch 84/100\n",
      "149/149 [==============================] - 5s 34ms/step - loss: 0.2338 - accuracy: 0.9153\n",
      "Epoch 85/100\n",
      "149/149 [==============================] - 5s 34ms/step - loss: 0.2298 - accuracy: 0.9159\n",
      "Epoch 86/100\n",
      "149/149 [==============================] - 5s 34ms/step - loss: 0.2331 - accuracy: 0.9164\n",
      "Epoch 87/100\n",
      "149/149 [==============================] - 5s 34ms/step - loss: 0.2307 - accuracy: 0.9138\n",
      "Epoch 88/100\n",
      "149/149 [==============================] - 5s 34ms/step - loss: 0.2350 - accuracy: 0.9141\n",
      "Epoch 89/100\n",
      "149/149 [==============================] - 5s 34ms/step - loss: 0.2311 - accuracy: 0.9143\n",
      "Epoch 90/100\n",
      "149/149 [==============================] - 5s 34ms/step - loss: 0.2303 - accuracy: 0.9162\n",
      "Epoch 91/100\n",
      "149/149 [==============================] - 5s 35ms/step - loss: 0.2296 - accuracy: 0.9149\n",
      "Epoch 92/100\n",
      "149/149 [==============================] - 5s 34ms/step - loss: 0.2365 - accuracy: 0.9117\n",
      "Epoch 93/100\n",
      "149/149 [==============================] - 5s 34ms/step - loss: 0.2262 - accuracy: 0.9174\n",
      "Epoch 94/100\n",
      "149/149 [==============================] - 5s 34ms/step - loss: 0.2290 - accuracy: 0.9133\n",
      "Epoch 95/100\n",
      "149/149 [==============================] - 5s 34ms/step - loss: 0.2318 - accuracy: 0.9168\n",
      "Epoch 96/100\n",
      "149/149 [==============================] - 5s 34ms/step - loss: 0.2295 - accuracy: 0.9155\n",
      "Epoch 97/100\n",
      "149/149 [==============================] - 5s 33ms/step - loss: 0.2280 - accuracy: 0.9159\n",
      "Epoch 98/100\n",
      "149/149 [==============================] - 5s 34ms/step - loss: 0.2313 - accuracy: 0.9153\n",
      "Epoch 99/100\n",
      "149/149 [==============================] - 5s 34ms/step - loss: 0.2308 - accuracy: 0.9133\n",
      "Epoch 100/100\n",
      "149/149 [==============================] - 5s 34ms/step - loss: 0.2313 - accuracy: 0.9147\n"
     ]
    },
    {
     "data": {
      "text/plain": [
       "<tensorflow.python.keras.callbacks.History at 0x260a3d67910>"
      ]
     },
     "execution_count": 65,
     "metadata": {},
     "output_type": "execute_result"
    }
   ],
   "source": [
    "model.fit(x, y, batch_size=64, epochs=100, callbacks=[rlrp])"
   ]
  },
  {
   "cell_type": "code",
   "execution_count": 67,
   "id": "f130e597",
   "metadata": {},
   "outputs": [
    {
     "data": {
      "text/plain": [
       "array([0, 0, 0, ..., 1, 0, 0], dtype=int64)"
      ]
     },
     "execution_count": 67,
     "metadata": {},
     "output_type": "execute_result"
    }
   ],
   "source": [
    "xtest = np.expand_dims(xtest, axis=2)\n",
    "pred = model.predict(xtest)\n",
    "y_pred = encoder.inverse_transform(pred)\n",
    "predictions = y_pred.flatten()\n",
    "\n",
    "predictions"
   ]
  },
  {
   "cell_type": "code",
   "execution_count": 68,
   "id": "cf26f253",
   "metadata": {},
   "outputs": [],
   "source": [
    "output = pd.DataFrame({'ID': test_data.ID, 'Business_Sourced': predictions.astype(int)})\n",
    "output.to_csv('submission.csv', index=False)"
   ]
  },
  {
   "cell_type": "code",
   "execution_count": 69,
   "id": "e5a9f1f3",
   "metadata": {},
   "outputs": [
    {
     "data": {
      "text/html": [
       "<div>\n",
       "<style scoped>\n",
       "    .dataframe tbody tr th:only-of-type {\n",
       "        vertical-align: middle;\n",
       "    }\n",
       "\n",
       "    .dataframe tbody tr th {\n",
       "        vertical-align: top;\n",
       "    }\n",
       "\n",
       "    .dataframe thead th {\n",
       "        text-align: right;\n",
       "    }\n",
       "</style>\n",
       "<table border=\"1\" class=\"dataframe\">\n",
       "  <thead>\n",
       "    <tr style=\"text-align: right;\">\n",
       "      <th></th>\n",
       "      <th>ID</th>\n",
       "      <th>Business_Sourced</th>\n",
       "    </tr>\n",
       "  </thead>\n",
       "  <tbody>\n",
       "    <tr>\n",
       "      <th>0</th>\n",
       "      <td>FIN1009528</td>\n",
       "      <td>0</td>\n",
       "    </tr>\n",
       "    <tr>\n",
       "      <th>1</th>\n",
       "      <td>FIN1009529</td>\n",
       "      <td>0</td>\n",
       "    </tr>\n",
       "    <tr>\n",
       "      <th>2</th>\n",
       "      <td>FIN1009530</td>\n",
       "      <td>0</td>\n",
       "    </tr>\n",
       "    <tr>\n",
       "      <th>3</th>\n",
       "      <td>FIN1009531</td>\n",
       "      <td>0</td>\n",
       "    </tr>\n",
       "    <tr>\n",
       "      <th>4</th>\n",
       "      <td>FIN1009532</td>\n",
       "      <td>0</td>\n",
       "    </tr>\n",
       "    <tr>\n",
       "      <th>...</th>\n",
       "      <td>...</td>\n",
       "      <td>...</td>\n",
       "    </tr>\n",
       "    <tr>\n",
       "      <th>95</th>\n",
       "      <td>FIN1009623</td>\n",
       "      <td>0</td>\n",
       "    </tr>\n",
       "    <tr>\n",
       "      <th>96</th>\n",
       "      <td>FIN1009624</td>\n",
       "      <td>0</td>\n",
       "    </tr>\n",
       "    <tr>\n",
       "      <th>97</th>\n",
       "      <td>FIN1009625</td>\n",
       "      <td>0</td>\n",
       "    </tr>\n",
       "    <tr>\n",
       "      <th>98</th>\n",
       "      <td>FIN1009626</td>\n",
       "      <td>0</td>\n",
       "    </tr>\n",
       "    <tr>\n",
       "      <th>99</th>\n",
       "      <td>FIN1009627</td>\n",
       "      <td>0</td>\n",
       "    </tr>\n",
       "  </tbody>\n",
       "</table>\n",
       "<p>100 rows × 2 columns</p>\n",
       "</div>"
      ],
      "text/plain": [
       "            ID  Business_Sourced\n",
       "0   FIN1009528                 0\n",
       "1   FIN1009529                 0\n",
       "2   FIN1009530                 0\n",
       "3   FIN1009531                 0\n",
       "4   FIN1009532                 0\n",
       "..         ...               ...\n",
       "95  FIN1009623                 0\n",
       "96  FIN1009624                 0\n",
       "97  FIN1009625                 0\n",
       "98  FIN1009626                 0\n",
       "99  FIN1009627                 0\n",
       "\n",
       "[100 rows x 2 columns]"
      ]
     },
     "execution_count": 69,
     "metadata": {},
     "output_type": "execute_result"
    }
   ],
   "source": [
    "output.head(100)"
   ]
  },
  {
   "cell_type": "code",
   "execution_count": 70,
   "id": "ffd89da0",
   "metadata": {},
   "outputs": [],
   "source": [
    "submission1 = pd.read_csv('1Submission.csv')\n",
    "submission2 = pd.read_csv('2Submission.csv')\n",
    "submission3 = pd.read_csv('3Submission.csv')\n",
    "submission4 = pd.read_csv('4Submission.csv')"
   ]
  },
  {
   "cell_type": "code",
   "execution_count": 71,
   "id": "e08f83ba",
   "metadata": {},
   "outputs": [
    {
     "data": {
      "text/plain": [
       "0    4589\n",
       "1     456\n",
       "Name: Business_Sourced, dtype: int64"
      ]
     },
     "execution_count": 71,
     "metadata": {},
     "output_type": "execute_result"
    }
   ],
   "source": [
    "submission1['Business_Sourced'].value_counts()"
   ]
  },
  {
   "cell_type": "code",
   "execution_count": 72,
   "id": "9b7baff4",
   "metadata": {},
   "outputs": [
    {
     "data": {
      "text/plain": [
       "0    3652\n",
       "1    1393\n",
       "Name: Business_Sourced, dtype: int64"
      ]
     },
     "execution_count": 72,
     "metadata": {},
     "output_type": "execute_result"
    }
   ],
   "source": [
    "submission2['Business_Sourced'].value_counts()"
   ]
  },
  {
   "cell_type": "code",
   "execution_count": 73,
   "id": "9343ed8b",
   "metadata": {},
   "outputs": [
    {
     "data": {
      "text/plain": [
       "0    4785\n",
       "1     260\n",
       "Name: Business_Sourced, dtype: int64"
      ]
     },
     "execution_count": 73,
     "metadata": {},
     "output_type": "execute_result"
    }
   ],
   "source": [
    "submission3['Business_Sourced'].value_counts()"
   ]
  },
  {
   "cell_type": "code",
   "execution_count": 74,
   "id": "58e631bb",
   "metadata": {},
   "outputs": [
    {
     "data": {
      "text/plain": [
       "0    4476\n",
       "1     569\n",
       "Name: Business_Sourced, dtype: int64"
      ]
     },
     "execution_count": 74,
     "metadata": {},
     "output_type": "execute_result"
    }
   ],
   "source": [
    "submission4['Business_Sourced'].value_counts()"
   ]
  },
  {
   "cell_type": "code",
   "execution_count": 75,
   "id": "a023e168",
   "metadata": {},
   "outputs": [
    {
     "data": {
      "text/plain": [
       "0    3985\n",
       "1    1060\n",
       "Name: Business_Sourced, dtype: int64"
      ]
     },
     "execution_count": 75,
     "metadata": {},
     "output_type": "execute_result"
    }
   ],
   "source": [
    "output['Business_Sourced'].value_counts()"
   ]
  },
  {
   "cell_type": "code",
   "execution_count": 78,
   "id": "8891fcf5",
   "metadata": {},
   "outputs": [],
   "source": [
    "for i in range(5045):\n",
    "    if submission1['Business_Sourced'][i]==1 and submission2['Business_Sourced'][i]==1 and submission3['Business_Sourced'][i]==1 and submission4['Business_Sourced'][i]==1:\n",
    "        predictions[i] = 1"
   ]
  },
  {
   "cell_type": "code",
   "execution_count": 79,
   "id": "04378ba6",
   "metadata": {},
   "outputs": [],
   "source": [
    "for i in range(5045):\n",
    "    if submission1['Business_Sourced'][i]==1:\n",
    "        predictions[i] = 1"
   ]
  },
  {
   "cell_type": "code",
   "execution_count": 82,
   "id": "7ece890d",
   "metadata": {},
   "outputs": [
    {
     "data": {
      "text/plain": [
       "array([0, 0, 0, ..., 1, 0, 0], dtype=int64)"
      ]
     },
     "execution_count": 82,
     "metadata": {},
     "output_type": "execute_result"
    }
   ],
   "source": [
    "predictions"
   ]
  },
  {
   "cell_type": "code",
   "execution_count": 83,
   "id": "6265c972",
   "metadata": {},
   "outputs": [],
   "source": [
    "output = pd.DataFrame({'ID': test_data.ID, 'Business_Sourced': predictions.astype(int)})\n",
    "output.to_csv('final_submission1.csv', index=False)"
   ]
  }
 ],
 "metadata": {
  "kernelspec": {
   "display_name": "Python 3",
   "language": "python",
   "name": "python3"
  },
  "language_info": {
   "codemirror_mode": {
    "name": "ipython",
    "version": 3
   },
   "file_extension": ".py",
   "mimetype": "text/x-python",
   "name": "python",
   "nbconvert_exporter": "python",
   "pygments_lexer": "ipython3",
   "version": "3.8.5"
  }
 },
 "nbformat": 4,
 "nbformat_minor": 5
}
