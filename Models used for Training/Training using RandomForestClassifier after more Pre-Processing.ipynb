{
 "cells": [
  {
   "cell_type": "code",
   "execution_count": 1,
   "id": "f15cee2a",
   "metadata": {},
   "outputs": [],
   "source": [
    "import numpy as np\n",
    "import pandas as pd\n",
    "import seaborn as sns\n",
    "import matplotlib.pyplot as plt\n",
    "%matplotlib inline\n",
    "from sklearn.preprocessing import LabelEncoder\n",
    "from sklearn.preprocessing import StandardScaler\n",
    "from sklearn.linear_model import LogisticRegression\n",
    "from sklearn.model_selection import KFold, StratifiedKFold, train_test_split\n",
    "from sklearn.metrics import roc_auc_score, accuracy_score, confusion_matrix, roc_curve, precision_score, recall_score, precision_recall_curve\n",
    "import warnings\n",
    "warnings.simplefilter(action='ignore', category=FutureWarning)\n",
    "warnings.simplefilter(action='ignore', category=UserWarning)"
   ]
  },
  {
   "cell_type": "code",
   "execution_count": 64,
   "id": "08ccaf5e",
   "metadata": {},
   "outputs": [
    {
     "data": {
      "text/html": [
       "<div>\n",
       "<style scoped>\n",
       "    .dataframe tbody tr th:only-of-type {\n",
       "        vertical-align: middle;\n",
       "    }\n",
       "\n",
       "    .dataframe tbody tr th {\n",
       "        vertical-align: top;\n",
       "    }\n",
       "\n",
       "    .dataframe thead th {\n",
       "        text-align: right;\n",
       "    }\n",
       "</style>\n",
       "<table border=\"1\" class=\"dataframe\">\n",
       "  <thead>\n",
       "    <tr style=\"text-align: right;\">\n",
       "      <th></th>\n",
       "      <th>ID</th>\n",
       "      <th>Office_PIN</th>\n",
       "      <th>Application_Receipt_Date</th>\n",
       "      <th>Applicant_City_PIN</th>\n",
       "      <th>Applicant_Gender</th>\n",
       "      <th>Applicant_BirthDate</th>\n",
       "      <th>Applicant_Marital_Status</th>\n",
       "      <th>Applicant_Occupation</th>\n",
       "      <th>Applicant_Qualification</th>\n",
       "      <th>Manager_DOJ</th>\n",
       "      <th>...</th>\n",
       "      <th>Manager_Status</th>\n",
       "      <th>Manager_Gender</th>\n",
       "      <th>Manager_DoB</th>\n",
       "      <th>Manager_Num_Application</th>\n",
       "      <th>Manager_Num_Coded</th>\n",
       "      <th>Manager_Business</th>\n",
       "      <th>Manager_Num_Products</th>\n",
       "      <th>Manager_Business2</th>\n",
       "      <th>Manager_Num_Products2</th>\n",
       "      <th>Business_Sourced</th>\n",
       "    </tr>\n",
       "  </thead>\n",
       "  <tbody>\n",
       "    <tr>\n",
       "      <th>0</th>\n",
       "      <td>FIN1000001</td>\n",
       "      <td>842001</td>\n",
       "      <td>4/16/2007</td>\n",
       "      <td>844120.0</td>\n",
       "      <td>M</td>\n",
       "      <td>12/19/1971</td>\n",
       "      <td>M</td>\n",
       "      <td>Others</td>\n",
       "      <td>Graduate</td>\n",
       "      <td>11/10/2005</td>\n",
       "      <td>...</td>\n",
       "      <td>Confirmation</td>\n",
       "      <td>M</td>\n",
       "      <td>2/17/1978</td>\n",
       "      <td>2.0</td>\n",
       "      <td>1.0</td>\n",
       "      <td>335249.0</td>\n",
       "      <td>28.0</td>\n",
       "      <td>335249.0</td>\n",
       "      <td>28.0</td>\n",
       "      <td>0</td>\n",
       "    </tr>\n",
       "    <tr>\n",
       "      <th>1</th>\n",
       "      <td>FIN1000002</td>\n",
       "      <td>842001</td>\n",
       "      <td>4/16/2007</td>\n",
       "      <td>844111.0</td>\n",
       "      <td>M</td>\n",
       "      <td>2/17/1983</td>\n",
       "      <td>S</td>\n",
       "      <td>Others</td>\n",
       "      <td>Class XII</td>\n",
       "      <td>11/10/2005</td>\n",
       "      <td>...</td>\n",
       "      <td>Confirmation</td>\n",
       "      <td>M</td>\n",
       "      <td>2/17/1978</td>\n",
       "      <td>2.0</td>\n",
       "      <td>1.0</td>\n",
       "      <td>335249.0</td>\n",
       "      <td>28.0</td>\n",
       "      <td>335249.0</td>\n",
       "      <td>28.0</td>\n",
       "      <td>1</td>\n",
       "    </tr>\n",
       "    <tr>\n",
       "      <th>2</th>\n",
       "      <td>FIN1000003</td>\n",
       "      <td>800001</td>\n",
       "      <td>4/16/2007</td>\n",
       "      <td>844101.0</td>\n",
       "      <td>M</td>\n",
       "      <td>1/16/1966</td>\n",
       "      <td>M</td>\n",
       "      <td>Business</td>\n",
       "      <td>Class XII</td>\n",
       "      <td>5/27/2006</td>\n",
       "      <td>...</td>\n",
       "      <td>Confirmation</td>\n",
       "      <td>M</td>\n",
       "      <td>3/3/1969</td>\n",
       "      <td>0.0</td>\n",
       "      <td>0.0</td>\n",
       "      <td>357184.0</td>\n",
       "      <td>24.0</td>\n",
       "      <td>357184.0</td>\n",
       "      <td>24.0</td>\n",
       "      <td>0</td>\n",
       "    </tr>\n",
       "    <tr>\n",
       "      <th>3</th>\n",
       "      <td>FIN1000004</td>\n",
       "      <td>814112</td>\n",
       "      <td>4/16/2007</td>\n",
       "      <td>814112.0</td>\n",
       "      <td>M</td>\n",
       "      <td>2/3/1988</td>\n",
       "      <td>S</td>\n",
       "      <td>Salaried</td>\n",
       "      <td>Class XII</td>\n",
       "      <td>8/21/2003</td>\n",
       "      <td>...</td>\n",
       "      <td>Confirmation</td>\n",
       "      <td>F</td>\n",
       "      <td>8/14/1978</td>\n",
       "      <td>0.0</td>\n",
       "      <td>0.0</td>\n",
       "      <td>318356.0</td>\n",
       "      <td>22.0</td>\n",
       "      <td>318356.0</td>\n",
       "      <td>22.0</td>\n",
       "      <td>0</td>\n",
       "    </tr>\n",
       "    <tr>\n",
       "      <th>4</th>\n",
       "      <td>FIN1000005</td>\n",
       "      <td>814112</td>\n",
       "      <td>4/16/2007</td>\n",
       "      <td>815351.0</td>\n",
       "      <td>M</td>\n",
       "      <td>7/4/1985</td>\n",
       "      <td>M</td>\n",
       "      <td>Others</td>\n",
       "      <td>Class XII</td>\n",
       "      <td>5/8/2006</td>\n",
       "      <td>...</td>\n",
       "      <td>Confirmation</td>\n",
       "      <td>M</td>\n",
       "      <td>2/7/1971</td>\n",
       "      <td>2.0</td>\n",
       "      <td>1.0</td>\n",
       "      <td>230402.0</td>\n",
       "      <td>17.0</td>\n",
       "      <td>230402.0</td>\n",
       "      <td>17.0</td>\n",
       "      <td>0</td>\n",
       "    </tr>\n",
       "    <tr>\n",
       "      <th>...</th>\n",
       "      <td>...</td>\n",
       "      <td>...</td>\n",
       "      <td>...</td>\n",
       "      <td>...</td>\n",
       "      <td>...</td>\n",
       "      <td>...</td>\n",
       "      <td>...</td>\n",
       "      <td>...</td>\n",
       "      <td>...</td>\n",
       "      <td>...</td>\n",
       "      <td>...</td>\n",
       "      <td>...</td>\n",
       "      <td>...</td>\n",
       "      <td>...</td>\n",
       "      <td>...</td>\n",
       "      <td>...</td>\n",
       "      <td>...</td>\n",
       "      <td>...</td>\n",
       "      <td>...</td>\n",
       "      <td>...</td>\n",
       "      <td>...</td>\n",
       "    </tr>\n",
       "    <tr>\n",
       "      <th>95</th>\n",
       "      <td>FIN1000096</td>\n",
       "      <td>226001</td>\n",
       "      <td>4/17/2007</td>\n",
       "      <td>261001.0</td>\n",
       "      <td>F</td>\n",
       "      <td>7/8/1964</td>\n",
       "      <td>M</td>\n",
       "      <td>Others</td>\n",
       "      <td>Graduate</td>\n",
       "      <td>9/5/2006</td>\n",
       "      <td>...</td>\n",
       "      <td>Confirmation</td>\n",
       "      <td>M</td>\n",
       "      <td>12/16/1960</td>\n",
       "      <td>0.0</td>\n",
       "      <td>1.0</td>\n",
       "      <td>57320.0</td>\n",
       "      <td>4.0</td>\n",
       "      <td>57320.0</td>\n",
       "      <td>4.0</td>\n",
       "      <td>0</td>\n",
       "    </tr>\n",
       "    <tr>\n",
       "      <th>96</th>\n",
       "      <td>FIN1000097</td>\n",
       "      <td>284001</td>\n",
       "      <td>4/17/2007</td>\n",
       "      <td>284202.0</td>\n",
       "      <td>M</td>\n",
       "      <td>7/3/1987</td>\n",
       "      <td>S</td>\n",
       "      <td>Others</td>\n",
       "      <td>Class X</td>\n",
       "      <td>5/8/2006</td>\n",
       "      <td>...</td>\n",
       "      <td>Confirmation</td>\n",
       "      <td>M</td>\n",
       "      <td>8/23/1967</td>\n",
       "      <td>1.0</td>\n",
       "      <td>1.0</td>\n",
       "      <td>171830.0</td>\n",
       "      <td>16.0</td>\n",
       "      <td>171830.0</td>\n",
       "      <td>16.0</td>\n",
       "      <td>0</td>\n",
       "    </tr>\n",
       "    <tr>\n",
       "      <th>97</th>\n",
       "      <td>FIN1000098</td>\n",
       "      <td>226001</td>\n",
       "      <td>4/17/2007</td>\n",
       "      <td>261001.0</td>\n",
       "      <td>M</td>\n",
       "      <td>5/20/1978</td>\n",
       "      <td>M</td>\n",
       "      <td>Business</td>\n",
       "      <td>Graduate</td>\n",
       "      <td>5/25/2006</td>\n",
       "      <td>...</td>\n",
       "      <td>Confirmation</td>\n",
       "      <td>M</td>\n",
       "      <td>11/7/1979</td>\n",
       "      <td>0.0</td>\n",
       "      <td>0.0</td>\n",
       "      <td>41810.0</td>\n",
       "      <td>4.0</td>\n",
       "      <td>41810.0</td>\n",
       "      <td>4.0</td>\n",
       "      <td>0</td>\n",
       "    </tr>\n",
       "    <tr>\n",
       "      <th>98</th>\n",
       "      <td>FIN1000099</td>\n",
       "      <td>226001</td>\n",
       "      <td>4/17/2007</td>\n",
       "      <td>226001.0</td>\n",
       "      <td>F</td>\n",
       "      <td>8/17/1982</td>\n",
       "      <td>S</td>\n",
       "      <td>Business</td>\n",
       "      <td>Class XII</td>\n",
       "      <td>11/15/2006</td>\n",
       "      <td>...</td>\n",
       "      <td>Confirmation</td>\n",
       "      <td>M</td>\n",
       "      <td>7/8/1977</td>\n",
       "      <td>0.0</td>\n",
       "      <td>1.0</td>\n",
       "      <td>115986.0</td>\n",
       "      <td>8.0</td>\n",
       "      <td>115986.0</td>\n",
       "      <td>8.0</td>\n",
       "      <td>0</td>\n",
       "    </tr>\n",
       "    <tr>\n",
       "      <th>99</th>\n",
       "      <td>FIN1000100</td>\n",
       "      <td>851101</td>\n",
       "      <td>4/17/2007</td>\n",
       "      <td>851112.0</td>\n",
       "      <td>M</td>\n",
       "      <td>1/3/1958</td>\n",
       "      <td>M</td>\n",
       "      <td>Others</td>\n",
       "      <td>Class XII</td>\n",
       "      <td>NaN</td>\n",
       "      <td>...</td>\n",
       "      <td>NaN</td>\n",
       "      <td>NaN</td>\n",
       "      <td>NaN</td>\n",
       "      <td>NaN</td>\n",
       "      <td>NaN</td>\n",
       "      <td>NaN</td>\n",
       "      <td>NaN</td>\n",
       "      <td>NaN</td>\n",
       "      <td>NaN</td>\n",
       "      <td>0</td>\n",
       "    </tr>\n",
       "  </tbody>\n",
       "</table>\n",
       "<p>100 rows × 23 columns</p>\n",
       "</div>"
      ],
      "text/plain": [
       "            ID  Office_PIN Application_Receipt_Date  Applicant_City_PIN  \\\n",
       "0   FIN1000001      842001                4/16/2007            844120.0   \n",
       "1   FIN1000002      842001                4/16/2007            844111.0   \n",
       "2   FIN1000003      800001                4/16/2007            844101.0   \n",
       "3   FIN1000004      814112                4/16/2007            814112.0   \n",
       "4   FIN1000005      814112                4/16/2007            815351.0   \n",
       "..         ...         ...                      ...                 ...   \n",
       "95  FIN1000096      226001                4/17/2007            261001.0   \n",
       "96  FIN1000097      284001                4/17/2007            284202.0   \n",
       "97  FIN1000098      226001                4/17/2007            261001.0   \n",
       "98  FIN1000099      226001                4/17/2007            226001.0   \n",
       "99  FIN1000100      851101                4/17/2007            851112.0   \n",
       "\n",
       "   Applicant_Gender Applicant_BirthDate Applicant_Marital_Status  \\\n",
       "0                 M          12/19/1971                        M   \n",
       "1                 M           2/17/1983                        S   \n",
       "2                 M           1/16/1966                        M   \n",
       "3                 M            2/3/1988                        S   \n",
       "4                 M            7/4/1985                        M   \n",
       "..              ...                 ...                      ...   \n",
       "95                F            7/8/1964                        M   \n",
       "96                M            7/3/1987                        S   \n",
       "97                M           5/20/1978                        M   \n",
       "98                F           8/17/1982                        S   \n",
       "99                M            1/3/1958                        M   \n",
       "\n",
       "   Applicant_Occupation Applicant_Qualification Manager_DOJ  ...  \\\n",
       "0                Others                Graduate  11/10/2005  ...   \n",
       "1                Others               Class XII  11/10/2005  ...   \n",
       "2              Business               Class XII   5/27/2006  ...   \n",
       "3              Salaried               Class XII   8/21/2003  ...   \n",
       "4                Others               Class XII    5/8/2006  ...   \n",
       "..                  ...                     ...         ...  ...   \n",
       "95               Others                Graduate    9/5/2006  ...   \n",
       "96               Others                 Class X    5/8/2006  ...   \n",
       "97             Business                Graduate   5/25/2006  ...   \n",
       "98             Business               Class XII  11/15/2006  ...   \n",
       "99               Others               Class XII         NaN  ...   \n",
       "\n",
       "   Manager_Status Manager_Gender  Manager_DoB Manager_Num_Application  \\\n",
       "0    Confirmation              M    2/17/1978                     2.0   \n",
       "1    Confirmation              M    2/17/1978                     2.0   \n",
       "2    Confirmation              M     3/3/1969                     0.0   \n",
       "3    Confirmation              F    8/14/1978                     0.0   \n",
       "4    Confirmation              M     2/7/1971                     2.0   \n",
       "..            ...            ...          ...                     ...   \n",
       "95   Confirmation              M   12/16/1960                     0.0   \n",
       "96   Confirmation              M    8/23/1967                     1.0   \n",
       "97   Confirmation              M    11/7/1979                     0.0   \n",
       "98   Confirmation              M     7/8/1977                     0.0   \n",
       "99            NaN            NaN          NaN                     NaN   \n",
       "\n",
       "   Manager_Num_Coded Manager_Business  Manager_Num_Products  \\\n",
       "0                1.0         335249.0                  28.0   \n",
       "1                1.0         335249.0                  28.0   \n",
       "2                0.0         357184.0                  24.0   \n",
       "3                0.0         318356.0                  22.0   \n",
       "4                1.0         230402.0                  17.0   \n",
       "..               ...              ...                   ...   \n",
       "95               1.0          57320.0                   4.0   \n",
       "96               1.0         171830.0                  16.0   \n",
       "97               0.0          41810.0                   4.0   \n",
       "98               1.0         115986.0                   8.0   \n",
       "99               NaN              NaN                   NaN   \n",
       "\n",
       "    Manager_Business2  Manager_Num_Products2  Business_Sourced  \n",
       "0            335249.0                   28.0                 0  \n",
       "1            335249.0                   28.0                 1  \n",
       "2            357184.0                   24.0                 0  \n",
       "3            318356.0                   22.0                 0  \n",
       "4            230402.0                   17.0                 0  \n",
       "..                ...                    ...               ...  \n",
       "95            57320.0                    4.0                 0  \n",
       "96           171830.0                   16.0                 0  \n",
       "97            41810.0                    4.0                 0  \n",
       "98           115986.0                    8.0                 0  \n",
       "99                NaN                    NaN                 0  \n",
       "\n",
       "[100 rows x 23 columns]"
      ]
     },
     "execution_count": 64,
     "metadata": {},
     "output_type": "execute_result"
    }
   ],
   "source": [
    "train_data = pd.read_csv(\"Train_Data.csv\")\n",
    "train_data.head(100)"
   ]
  },
  {
   "cell_type": "code",
   "execution_count": 65,
   "id": "b727f3fa",
   "metadata": {},
   "outputs": [
    {
     "data": {
      "text/html": [
       "<div>\n",
       "<style scoped>\n",
       "    .dataframe tbody tr th:only-of-type {\n",
       "        vertical-align: middle;\n",
       "    }\n",
       "\n",
       "    .dataframe tbody tr th {\n",
       "        vertical-align: top;\n",
       "    }\n",
       "\n",
       "    .dataframe thead th {\n",
       "        text-align: right;\n",
       "    }\n",
       "</style>\n",
       "<table border=\"1\" class=\"dataframe\">\n",
       "  <thead>\n",
       "    <tr style=\"text-align: right;\">\n",
       "      <th></th>\n",
       "      <th>ID</th>\n",
       "      <th>Office_PIN</th>\n",
       "      <th>Application_Receipt_Date</th>\n",
       "      <th>Applicant_City_PIN</th>\n",
       "      <th>Applicant_Gender</th>\n",
       "      <th>Applicant_BirthDate</th>\n",
       "      <th>Applicant_Marital_Status</th>\n",
       "      <th>Applicant_Occupation</th>\n",
       "      <th>Applicant_Qualification</th>\n",
       "      <th>Manager_DOJ</th>\n",
       "      <th>...</th>\n",
       "      <th>Manager_Grade</th>\n",
       "      <th>Manager_Status</th>\n",
       "      <th>Manager_Gender</th>\n",
       "      <th>Manager_DoB</th>\n",
       "      <th>Manager_Num_Application</th>\n",
       "      <th>Manager_Num_Coded</th>\n",
       "      <th>Manager_Business</th>\n",
       "      <th>Manager_Num_Products</th>\n",
       "      <th>Manager_Business2</th>\n",
       "      <th>Manager_Num_Products2</th>\n",
       "    </tr>\n",
       "  </thead>\n",
       "  <tbody>\n",
       "    <tr>\n",
       "      <th>0</th>\n",
       "      <td>FIN1009528</td>\n",
       "      <td>284001</td>\n",
       "      <td>7/2/2008</td>\n",
       "      <td>284001.0</td>\n",
       "      <td>M</td>\n",
       "      <td>8/5/1982</td>\n",
       "      <td>S</td>\n",
       "      <td>Salaried</td>\n",
       "      <td>Graduate</td>\n",
       "      <td>5/26/2008</td>\n",
       "      <td>...</td>\n",
       "      <td>2.0</td>\n",
       "      <td>Probation</td>\n",
       "      <td>F</td>\n",
       "      <td>10/14/1978</td>\n",
       "      <td>1.0</td>\n",
       "      <td>0.0</td>\n",
       "      <td>0.0</td>\n",
       "      <td>0.0</td>\n",
       "      <td>0.0</td>\n",
       "      <td>0.0</td>\n",
       "    </tr>\n",
       "    <tr>\n",
       "      <th>1</th>\n",
       "      <td>FIN1009529</td>\n",
       "      <td>800001</td>\n",
       "      <td>7/2/2008</td>\n",
       "      <td>800026.0</td>\n",
       "      <td>M</td>\n",
       "      <td>3/11/1968</td>\n",
       "      <td>M</td>\n",
       "      <td>Salaried</td>\n",
       "      <td>Graduate</td>\n",
       "      <td>6/24/2008</td>\n",
       "      <td>...</td>\n",
       "      <td>2.0</td>\n",
       "      <td>Probation</td>\n",
       "      <td>M</td>\n",
       "      <td>3/3/1971</td>\n",
       "      <td>2.0</td>\n",
       "      <td>0.0</td>\n",
       "      <td>0.0</td>\n",
       "      <td>0.0</td>\n",
       "      <td>0.0</td>\n",
       "      <td>0.0</td>\n",
       "    </tr>\n",
       "    <tr>\n",
       "      <th>2</th>\n",
       "      <td>FIN1009530</td>\n",
       "      <td>800001</td>\n",
       "      <td>7/2/2008</td>\n",
       "      <td>NaN</td>\n",
       "      <td>M</td>\n",
       "      <td>12/16/1984</td>\n",
       "      <td>S</td>\n",
       "      <td>NaN</td>\n",
       "      <td>Graduate</td>\n",
       "      <td>NaN</td>\n",
       "      <td>...</td>\n",
       "      <td>NaN</td>\n",
       "      <td>NaN</td>\n",
       "      <td>NaN</td>\n",
       "      <td>NaN</td>\n",
       "      <td>NaN</td>\n",
       "      <td>NaN</td>\n",
       "      <td>NaN</td>\n",
       "      <td>NaN</td>\n",
       "      <td>NaN</td>\n",
       "      <td>NaN</td>\n",
       "    </tr>\n",
       "    <tr>\n",
       "      <th>3</th>\n",
       "      <td>FIN1009531</td>\n",
       "      <td>800001</td>\n",
       "      <td>7/2/2008</td>\n",
       "      <td>844112.0</td>\n",
       "      <td>M</td>\n",
       "      <td>6/7/1971</td>\n",
       "      <td>S</td>\n",
       "      <td>Salaried</td>\n",
       "      <td>Graduate</td>\n",
       "      <td>NaN</td>\n",
       "      <td>...</td>\n",
       "      <td>NaN</td>\n",
       "      <td>NaN</td>\n",
       "      <td>NaN</td>\n",
       "      <td>NaN</td>\n",
       "      <td>NaN</td>\n",
       "      <td>NaN</td>\n",
       "      <td>NaN</td>\n",
       "      <td>NaN</td>\n",
       "      <td>NaN</td>\n",
       "      <td>NaN</td>\n",
       "    </tr>\n",
       "    <tr>\n",
       "      <th>4</th>\n",
       "      <td>FIN1009532</td>\n",
       "      <td>533101</td>\n",
       "      <td>7/2/2008</td>\n",
       "      <td>533102.0</td>\n",
       "      <td>M</td>\n",
       "      <td>7/22/1978</td>\n",
       "      <td>S</td>\n",
       "      <td>NaN</td>\n",
       "      <td>Masters of Business Administration</td>\n",
       "      <td>12/4/2007</td>\n",
       "      <td>...</td>\n",
       "      <td>3.0</td>\n",
       "      <td>Confirmation</td>\n",
       "      <td>M</td>\n",
       "      <td>6/23/1977</td>\n",
       "      <td>4.0</td>\n",
       "      <td>1.0</td>\n",
       "      <td>97352.0</td>\n",
       "      <td>3.0</td>\n",
       "      <td>97352.0</td>\n",
       "      <td>3.0</td>\n",
       "    </tr>\n",
       "    <tr>\n",
       "      <th>...</th>\n",
       "      <td>...</td>\n",
       "      <td>...</td>\n",
       "      <td>...</td>\n",
       "      <td>...</td>\n",
       "      <td>...</td>\n",
       "      <td>...</td>\n",
       "      <td>...</td>\n",
       "      <td>...</td>\n",
       "      <td>...</td>\n",
       "      <td>...</td>\n",
       "      <td>...</td>\n",
       "      <td>...</td>\n",
       "      <td>...</td>\n",
       "      <td>...</td>\n",
       "      <td>...</td>\n",
       "      <td>...</td>\n",
       "      <td>...</td>\n",
       "      <td>...</td>\n",
       "      <td>...</td>\n",
       "      <td>...</td>\n",
       "      <td>...</td>\n",
       "    </tr>\n",
       "    <tr>\n",
       "      <th>95</th>\n",
       "      <td>FIN1009623</td>\n",
       "      <td>422005</td>\n",
       "      <td>7/7/2008</td>\n",
       "      <td>422402.0</td>\n",
       "      <td>M</td>\n",
       "      <td>1/17/1979</td>\n",
       "      <td>M</td>\n",
       "      <td>Salaried</td>\n",
       "      <td>Graduate</td>\n",
       "      <td>11/30/2007</td>\n",
       "      <td>...</td>\n",
       "      <td>3.0</td>\n",
       "      <td>Confirmation</td>\n",
       "      <td>M</td>\n",
       "      <td>8/19/1975</td>\n",
       "      <td>4.0</td>\n",
       "      <td>3.0</td>\n",
       "      <td>1370358.0</td>\n",
       "      <td>6.0</td>\n",
       "      <td>1370358.0</td>\n",
       "      <td>6.0</td>\n",
       "    </tr>\n",
       "    <tr>\n",
       "      <th>96</th>\n",
       "      <td>FIN1009624</td>\n",
       "      <td>201301</td>\n",
       "      <td>7/7/2008</td>\n",
       "      <td>201012.0</td>\n",
       "      <td>F</td>\n",
       "      <td>7/22/1973</td>\n",
       "      <td>M</td>\n",
       "      <td>Others</td>\n",
       "      <td>Graduate</td>\n",
       "      <td>5/5/2008</td>\n",
       "      <td>...</td>\n",
       "      <td>4.0</td>\n",
       "      <td>Probation</td>\n",
       "      <td>M</td>\n",
       "      <td>6/25/1973</td>\n",
       "      <td>3.0</td>\n",
       "      <td>1.0</td>\n",
       "      <td>19230.0</td>\n",
       "      <td>1.0</td>\n",
       "      <td>19230.0</td>\n",
       "      <td>1.0</td>\n",
       "    </tr>\n",
       "    <tr>\n",
       "      <th>97</th>\n",
       "      <td>FIN1009625</td>\n",
       "      <td>121002</td>\n",
       "      <td>7/7/2008</td>\n",
       "      <td>121004.0</td>\n",
       "      <td>M</td>\n",
       "      <td>5/17/1967</td>\n",
       "      <td>M</td>\n",
       "      <td>Salaried</td>\n",
       "      <td>Graduate</td>\n",
       "      <td>4/28/2008</td>\n",
       "      <td>...</td>\n",
       "      <td>4.0</td>\n",
       "      <td>Probation</td>\n",
       "      <td>M</td>\n",
       "      <td>2/23/1972</td>\n",
       "      <td>5.0</td>\n",
       "      <td>0.0</td>\n",
       "      <td>0.0</td>\n",
       "      <td>0.0</td>\n",
       "      <td>0.0</td>\n",
       "      <td>0.0</td>\n",
       "    </tr>\n",
       "    <tr>\n",
       "      <th>98</th>\n",
       "      <td>FIN1009626</td>\n",
       "      <td>284001</td>\n",
       "      <td>7/7/2008</td>\n",
       "      <td>284003.0</td>\n",
       "      <td>M</td>\n",
       "      <td>3/27/1978</td>\n",
       "      <td>S</td>\n",
       "      <td>Salaried</td>\n",
       "      <td>Graduate</td>\n",
       "      <td>5/12/2008</td>\n",
       "      <td>...</td>\n",
       "      <td>4.0</td>\n",
       "      <td>Probation</td>\n",
       "      <td>M</td>\n",
       "      <td>3/25/1978</td>\n",
       "      <td>3.0</td>\n",
       "      <td>2.0</td>\n",
       "      <td>0.0</td>\n",
       "      <td>0.0</td>\n",
       "      <td>0.0</td>\n",
       "      <td>0.0</td>\n",
       "    </tr>\n",
       "    <tr>\n",
       "      <th>99</th>\n",
       "      <td>FIN1009627</td>\n",
       "      <td>476001</td>\n",
       "      <td>7/7/2008</td>\n",
       "      <td>476001.0</td>\n",
       "      <td>M</td>\n",
       "      <td>1/14/1977</td>\n",
       "      <td>M</td>\n",
       "      <td>Business</td>\n",
       "      <td>Masters of Business Administration</td>\n",
       "      <td>4/14/2008</td>\n",
       "      <td>...</td>\n",
       "      <td>4.0</td>\n",
       "      <td>Probation</td>\n",
       "      <td>M</td>\n",
       "      <td>7/9/1971</td>\n",
       "      <td>11.0</td>\n",
       "      <td>6.0</td>\n",
       "      <td>40533.0</td>\n",
       "      <td>2.0</td>\n",
       "      <td>40533.0</td>\n",
       "      <td>2.0</td>\n",
       "    </tr>\n",
       "  </tbody>\n",
       "</table>\n",
       "<p>100 rows × 22 columns</p>\n",
       "</div>"
      ],
      "text/plain": [
       "            ID  Office_PIN Application_Receipt_Date  Applicant_City_PIN  \\\n",
       "0   FIN1009528      284001                 7/2/2008            284001.0   \n",
       "1   FIN1009529      800001                 7/2/2008            800026.0   \n",
       "2   FIN1009530      800001                 7/2/2008                 NaN   \n",
       "3   FIN1009531      800001                 7/2/2008            844112.0   \n",
       "4   FIN1009532      533101                 7/2/2008            533102.0   \n",
       "..         ...         ...                      ...                 ...   \n",
       "95  FIN1009623      422005                 7/7/2008            422402.0   \n",
       "96  FIN1009624      201301                 7/7/2008            201012.0   \n",
       "97  FIN1009625      121002                 7/7/2008            121004.0   \n",
       "98  FIN1009626      284001                 7/7/2008            284003.0   \n",
       "99  FIN1009627      476001                 7/7/2008            476001.0   \n",
       "\n",
       "   Applicant_Gender Applicant_BirthDate Applicant_Marital_Status  \\\n",
       "0                 M            8/5/1982                        S   \n",
       "1                 M           3/11/1968                        M   \n",
       "2                 M          12/16/1984                        S   \n",
       "3                 M            6/7/1971                        S   \n",
       "4                 M           7/22/1978                        S   \n",
       "..              ...                 ...                      ...   \n",
       "95                M           1/17/1979                        M   \n",
       "96                F           7/22/1973                        M   \n",
       "97                M           5/17/1967                        M   \n",
       "98                M           3/27/1978                        S   \n",
       "99                M           1/14/1977                        M   \n",
       "\n",
       "   Applicant_Occupation             Applicant_Qualification Manager_DOJ  ...  \\\n",
       "0              Salaried                            Graduate   5/26/2008  ...   \n",
       "1              Salaried                            Graduate   6/24/2008  ...   \n",
       "2                   NaN                            Graduate         NaN  ...   \n",
       "3              Salaried                            Graduate         NaN  ...   \n",
       "4                   NaN  Masters of Business Administration   12/4/2007  ...   \n",
       "..                  ...                                 ...         ...  ...   \n",
       "95             Salaried                            Graduate  11/30/2007  ...   \n",
       "96               Others                            Graduate    5/5/2008  ...   \n",
       "97             Salaried                            Graduate   4/28/2008  ...   \n",
       "98             Salaried                            Graduate   5/12/2008  ...   \n",
       "99             Business  Masters of Business Administration   4/14/2008  ...   \n",
       "\n",
       "   Manager_Grade Manager_Status  Manager_Gender Manager_DoB  \\\n",
       "0            2.0      Probation               F  10/14/1978   \n",
       "1            2.0      Probation               M    3/3/1971   \n",
       "2            NaN            NaN             NaN         NaN   \n",
       "3            NaN            NaN             NaN         NaN   \n",
       "4            3.0   Confirmation               M   6/23/1977   \n",
       "..           ...            ...             ...         ...   \n",
       "95           3.0   Confirmation               M   8/19/1975   \n",
       "96           4.0      Probation               M   6/25/1973   \n",
       "97           4.0      Probation               M   2/23/1972   \n",
       "98           4.0      Probation               M   3/25/1978   \n",
       "99           4.0      Probation               M    7/9/1971   \n",
       "\n",
       "   Manager_Num_Application Manager_Num_Coded  Manager_Business  \\\n",
       "0                      1.0               0.0               0.0   \n",
       "1                      2.0               0.0               0.0   \n",
       "2                      NaN               NaN               NaN   \n",
       "3                      NaN               NaN               NaN   \n",
       "4                      4.0               1.0           97352.0   \n",
       "..                     ...               ...               ...   \n",
       "95                     4.0               3.0         1370358.0   \n",
       "96                     3.0               1.0           19230.0   \n",
       "97                     5.0               0.0               0.0   \n",
       "98                     3.0               2.0               0.0   \n",
       "99                    11.0               6.0           40533.0   \n",
       "\n",
       "    Manager_Num_Products  Manager_Business2  Manager_Num_Products2  \n",
       "0                    0.0                0.0                    0.0  \n",
       "1                    0.0                0.0                    0.0  \n",
       "2                    NaN                NaN                    NaN  \n",
       "3                    NaN                NaN                    NaN  \n",
       "4                    3.0            97352.0                    3.0  \n",
       "..                   ...                ...                    ...  \n",
       "95                   6.0          1370358.0                    6.0  \n",
       "96                   1.0            19230.0                    1.0  \n",
       "97                   0.0                0.0                    0.0  \n",
       "98                   0.0                0.0                    0.0  \n",
       "99                   2.0            40533.0                    2.0  \n",
       "\n",
       "[100 rows x 22 columns]"
      ]
     },
     "execution_count": 65,
     "metadata": {},
     "output_type": "execute_result"
    }
   ],
   "source": [
    "test_data = pd.read_csv(\"Test_Data.csv\")\n",
    "test_data.head(100)"
   ]
  },
  {
   "cell_type": "code",
   "execution_count": 66,
   "id": "a83ea15a",
   "metadata": {},
   "outputs": [
    {
     "data": {
      "text/plain": [
       "ID                                0\n",
       "Office_PIN                        0\n",
       "Application_Receipt_Date          0\n",
       "Applicant_City_PIN               97\n",
       "Applicant_Gender                 67\n",
       "Applicant_BirthDate              73\n",
       "Applicant_Marital_Status         73\n",
       "Applicant_Occupation           1221\n",
       "Applicant_Qualification          86\n",
       "Manager_DOJ                     683\n",
       "Manager_Joining_Designation     683\n",
       "Manager_Current_Designation     683\n",
       "Manager_Grade                   683\n",
       "Manager_Status                  683\n",
       "Manager_Gender                  683\n",
       "Manager_DoB                     683\n",
       "Manager_Num_Application         683\n",
       "Manager_Num_Coded               683\n",
       "Manager_Business                683\n",
       "Manager_Num_Products            683\n",
       "Manager_Business2               683\n",
       "Manager_Num_Products2           683\n",
       "Business_Sourced                  0\n",
       "dtype: int64"
      ]
     },
     "execution_count": 66,
     "metadata": {},
     "output_type": "execute_result"
    }
   ],
   "source": [
    "train_data.isnull().sum()"
   ]
  },
  {
   "cell_type": "code",
   "execution_count": 67,
   "id": "cadf0456",
   "metadata": {},
   "outputs": [
    {
     "data": {
      "text/plain": [
       "M    7179\n",
       "F    2281\n",
       "Name: Applicant_Gender, dtype: int64"
      ]
     },
     "execution_count": 67,
     "metadata": {},
     "output_type": "execute_result"
    }
   ],
   "source": [
    "train_data['Applicant_Gender'].value_counts()"
   ]
  },
  {
   "cell_type": "code",
   "execution_count": 68,
   "id": "3927acdb",
   "metadata": {},
   "outputs": [],
   "source": [
    "#Convert Applicant Gender\n",
    "dict_gender = {'M': 1, 'F':0}\n",
    "train_data.replace({'Applicant_Gender': dict_gender}, inplace = True)\n",
    "\n",
    "train_data['Applicant_Gender'] = train_data['Applicant_Gender'].fillna(-1)"
   ]
  },
  {
   "cell_type": "code",
   "execution_count": 69,
   "id": "a7709db3",
   "metadata": {},
   "outputs": [],
   "source": [
    "test_data.replace({'Applicant_Gender': dict_gender}, inplace = True)\n",
    "\n",
    "test_data['Applicant_Gender'] = test_data['Applicant_Gender'].fillna(-1)"
   ]
  },
  {
   "cell_type": "code",
   "execution_count": 70,
   "id": "8b9ba1ea",
   "metadata": {},
   "outputs": [
    {
     "data": {
      "text/plain": [
       "M    6177\n",
       "S    3267\n",
       "W       6\n",
       "D       4\n",
       "Name: Applicant_Marital_Status, dtype: int64"
      ]
     },
     "execution_count": 70,
     "metadata": {},
     "output_type": "execute_result"
    }
   ],
   "source": [
    "train_data['Applicant_Marital_Status'].value_counts()"
   ]
  },
  {
   "cell_type": "code",
   "execution_count": 71,
   "id": "b3c54b43",
   "metadata": {},
   "outputs": [
    {
     "data": {
      "text/plain": [
       "M    4089\n",
       "S     907\n",
       "W      12\n",
       "D       7\n",
       "Name: Applicant_Marital_Status, dtype: int64"
      ]
     },
     "execution_count": 71,
     "metadata": {},
     "output_type": "execute_result"
    }
   ],
   "source": [
    "test_data['Applicant_Marital_Status'].value_counts()"
   ]
  },
  {
   "cell_type": "code",
   "execution_count": 72,
   "id": "666e780c",
   "metadata": {},
   "outputs": [],
   "source": [
    "train_data['Applicant_Marital_Status'] = train_data['Applicant_Marital_Status'].fillna('M')"
   ]
  },
  {
   "cell_type": "code",
   "execution_count": 73,
   "id": "be06fe11",
   "metadata": {},
   "outputs": [
    {
     "data": {
      "text/plain": [
       "Salaried         3787\n",
       "Business         2303\n",
       "Others           1966\n",
       "Self Employed     149\n",
       "Student           101\n",
       "Name: Applicant_Occupation, dtype: int64"
      ]
     },
     "execution_count": 73,
     "metadata": {},
     "output_type": "execute_result"
    }
   ],
   "source": [
    "train_data['Applicant_Occupation'].value_counts()"
   ]
  },
  {
   "cell_type": "code",
   "execution_count": 74,
   "id": "b617ca62",
   "metadata": {},
   "outputs": [
    {
     "data": {
      "text/plain": [
       "Salaried         2560\n",
       "Business          646\n",
       "Others            506\n",
       "Self Employed     310\n",
       "Student            19\n",
       "Name: Applicant_Occupation, dtype: int64"
      ]
     },
     "execution_count": 74,
     "metadata": {},
     "output_type": "execute_result"
    }
   ],
   "source": [
    "test_data['Applicant_Occupation'].value_counts()"
   ]
  },
  {
   "cell_type": "code",
   "execution_count": 75,
   "id": "1dfc4c50",
   "metadata": {},
   "outputs": [],
   "source": [
    "#Convert Applicant Occupation\n",
    "dict_occupation = {'Salaried': 5, 'Business':4, 'Others':3, 'Self Employed':2, 'Student':1}\n",
    "train_data.replace({'Applicant_Occupation': dict_occupation}, inplace = True)\n",
    "\n",
    "train_data['Applicant_Occupation'] = train_data['Applicant_Occupation'].fillna(0)"
   ]
  },
  {
   "cell_type": "code",
   "execution_count": 76,
   "id": "5684df3d",
   "metadata": {},
   "outputs": [],
   "source": [
    "test_data.replace({'Applicant_Occupation': dict_occupation}, inplace = True)\n",
    "\n",
    "test_data['Applicant_Occupation'] = test_data['Applicant_Occupation'].fillna(0)"
   ]
  },
  {
   "cell_type": "code",
   "execution_count": 77,
   "id": "67469b81",
   "metadata": {},
   "outputs": [
    {
     "data": {
      "text/plain": [
       "Graduate                                                                              3375\n",
       "Class XII                                                                             1357\n",
       "Others                                                                                 171\n",
       "Masters of Business Administration                                                      71\n",
       "Class X                                                                                 19\n",
       "Professional Qualification in Marketing                                                  5\n",
       "Associate / Fellow of Institute of Chartered Accountans of India                         2\n",
       "Associate/Fellow of Institute of Institute of Costs and Works Accountants of India       1\n",
       "Name: Applicant_Qualification, dtype: int64"
      ]
     },
     "execution_count": 77,
     "metadata": {},
     "output_type": "execute_result"
    }
   ],
   "source": [
    "test_data['Applicant_Qualification'].value_counts()"
   ]
  },
  {
   "cell_type": "code",
   "execution_count": 78,
   "id": "3c09735b",
   "metadata": {},
   "outputs": [
    {
     "data": {
      "text/plain": [
       "Class XII                                                           5806\n",
       "Graduate                                                            3196\n",
       "Class X                                                              225\n",
       "Others                                                               132\n",
       "Masters of Business Administration                                    74\n",
       "Associate / Fellow of Institute of Chartered Accountans of India       3\n",
       "Associate/Fellow of Insurance Institute of India                       1\n",
       "Associate/Fellow of Institute of Company Secretories of India          1\n",
       "Associate/Fellow of Acturial Society of India                          1\n",
       "Professional Qualification in Marketing                                1\n",
       "Certified Associateship of Indian Institute of Bankers                 1\n",
       "Name: Applicant_Qualification, dtype: int64"
      ]
     },
     "execution_count": 78,
     "metadata": {},
     "output_type": "execute_result"
    }
   ],
   "source": [
    "train_data['Applicant_Qualification'].value_counts()"
   ]
  },
  {
   "cell_type": "code",
   "execution_count": 79,
   "id": "7fb77309",
   "metadata": {},
   "outputs": [],
   "source": [
    "#Convert Applicant Qualification\n",
    "dict_qualification = {'Class XII': 1, 'Graduate':2, 'Class X':3, 'Others':4, 'Masters of Business Administration':5,\n",
    "                      'Associate / Fellow of Institute of Chartered Accountans of India':6, \n",
    "                     'Associate/Fellow of Insurance Institute of India':7, 'Professional Qualification in Marketing':8,\n",
    "                     'Associate/Fellow of Institute of Company Secretories of India':9, 'Associate/Fellow of Acturial Society of India':10,\n",
    "                     'Certified Associateship of Indian Institute of Bankers':11, 'Associate/Fellow of Institute of Institute of Costs and Works Accountants of India':12}\n",
    "train_data.replace({'Applicant_Qualification': dict_qualification}, inplace = True)\n",
    "\n",
    "train_data['Applicant_Qualification'] = train_data['Applicant_Qualification'].fillna(0)\n",
    "\n",
    "test_data.replace({'Applicant_Qualification': dict_qualification}, inplace = True)\n",
    "\n",
    "test_data['Applicant_Qualification'] = test_data['Applicant_Qualification'].fillna(0)"
   ]
  },
  {
   "cell_type": "code",
   "execution_count": 80,
   "id": "aac95760",
   "metadata": {},
   "outputs": [],
   "source": [
    "def random_gen(string):\n",
    "    data = [train_data, test_data]\n",
    "    for dataset in data:\n",
    "        mean = train_data[string].mean()\n",
    "        std = test_data[string].std()\n",
    "        is_null = dataset[string].isnull().sum()\n",
    "        # compute random numbers between the mean, std and is_null\n",
    "        rand_string = np.random.randint(mean - std, mean + std, size = is_null)\n",
    "        # fill NaN values in Age column with random values generated\n",
    "        string_slice = dataset[string].copy()\n",
    "        string_slice[np.isnan(string_slice)] = rand_string\n",
    "        dataset[string] = string_slice\n",
    "        dataset[string] = train_data[string].astype(int)"
   ]
  },
  {
   "cell_type": "code",
   "execution_count": 81,
   "id": "a98f9226",
   "metadata": {},
   "outputs": [],
   "source": [
    "random_gen('Manager_Num_Products2')\n",
    "random_gen('Manager_Business2')\n",
    "random_gen('Manager_Num_Products')\n",
    "random_gen('Manager_Business')\n",
    "random_gen('Manager_Num_Coded')\n",
    "random_gen('Manager_Grade')\n",
    "random_gen('Manager_Num_Application')"
   ]
  },
  {
   "cell_type": "code",
   "execution_count": 82,
   "id": "872faa3a",
   "metadata": {},
   "outputs": [
    {
     "data": {
      "text/plain": [
       "ID                               0\n",
       "Office_PIN                       0\n",
       "Application_Receipt_Date         0\n",
       "Applicant_City_PIN              97\n",
       "Applicant_Gender                 0\n",
       "Applicant_BirthDate             73\n",
       "Applicant_Marital_Status         0\n",
       "Applicant_Occupation             0\n",
       "Applicant_Qualification          0\n",
       "Manager_DOJ                    683\n",
       "Manager_Joining_Designation    683\n",
       "Manager_Current_Designation    683\n",
       "Manager_Grade                    0\n",
       "Manager_Status                 683\n",
       "Manager_Gender                 683\n",
       "Manager_DoB                    683\n",
       "Manager_Num_Application          0\n",
       "Manager_Num_Coded                0\n",
       "Manager_Business                 0\n",
       "Manager_Num_Products             0\n",
       "Manager_Business2                0\n",
       "Manager_Num_Products2            0\n",
       "Business_Sourced                 0\n",
       "dtype: int64"
      ]
     },
     "execution_count": 82,
     "metadata": {},
     "output_type": "execute_result"
    }
   ],
   "source": [
    "train_data.isnull().sum()"
   ]
  },
  {
   "cell_type": "code",
   "execution_count": 83,
   "id": "dc8823d2",
   "metadata": {},
   "outputs": [
    {
     "data": {
      "text/plain": [
       "Level 1    4632\n",
       "Level 2    2787\n",
       "Level 3    1146\n",
       "Level 4     200\n",
       "Other        58\n",
       "Level 6      18\n",
       "Level 7       2\n",
       "Level 5       1\n",
       "Name: Manager_Joining_Designation, dtype: int64"
      ]
     },
     "execution_count": 83,
     "metadata": {},
     "output_type": "execute_result"
    }
   ],
   "source": [
    "train_data['Manager_Joining_Designation'].value_counts()"
   ]
  },
  {
   "cell_type": "code",
   "execution_count": 84,
   "id": "bd9ab2a9",
   "metadata": {},
   "outputs": [
    {
     "data": {
      "text/plain": [
       "Level 2    1441\n",
       "Level 3    1337\n",
       "Level 1    1217\n",
       "Level 4     208\n",
       "Level 5      15\n",
       "Level 6       3\n",
       "Name: Manager_Joining_Designation, dtype: int64"
      ]
     },
     "execution_count": 84,
     "metadata": {},
     "output_type": "execute_result"
    }
   ],
   "source": [
    "test_data['Manager_Joining_Designation'].value_counts()"
   ]
  },
  {
   "cell_type": "code",
   "execution_count": 85,
   "id": "5ec8293c",
   "metadata": {},
   "outputs": [],
   "source": [
    "#Convert Manager Joining Designation\n",
    "dict_join_des = {'Level 1': 1, 'Level 2':2, 'Level 3':3, 'Level 4':4, 'Level 5':5, 'Level 6':6, 'Level 7':7, 'Other':8}\n",
    "train_data.replace({'Manager_Joining_Designation': dict_join_des}, inplace = True)\n",
    "\n",
    "train_data['Manager_Joining_Designation'] = train_data['Manager_Joining_Designation'].fillna(0)\n",
    "\n",
    "test_data.replace({'Manager_Joining_Designation': dict_join_des}, inplace = True)\n",
    "\n",
    "test_data['Manager_Joining_Designation'] = test_data['Manager_Joining_Designation'].fillna(0)"
   ]
  },
  {
   "cell_type": "code",
   "execution_count": 86,
   "id": "7bd41e88",
   "metadata": {},
   "outputs": [
    {
     "data": {
      "text/plain": [
       "Level 2    3208\n",
       "Level 1    2479\n",
       "Level 3    2033\n",
       "Level 4    1031\n",
       "Level 5      93\n",
       "Name: Manager_Current_Designation, dtype: int64"
      ]
     },
     "execution_count": 86,
     "metadata": {},
     "output_type": "execute_result"
    }
   ],
   "source": [
    "train_data['Manager_Current_Designation'].value_counts()"
   ]
  },
  {
   "cell_type": "code",
   "execution_count": 87,
   "id": "e4c0a136",
   "metadata": {},
   "outputs": [
    {
     "data": {
      "text/plain": [
       "Level 3    1530\n",
       "Level 2    1440\n",
       "Level 1     887\n",
       "Level 4     334\n",
       "Level 5      30\n",
       "Name: Manager_Current_Designation, dtype: int64"
      ]
     },
     "execution_count": 87,
     "metadata": {},
     "output_type": "execute_result"
    }
   ],
   "source": [
    "test_data['Manager_Current_Designation'].value_counts()"
   ]
  },
  {
   "cell_type": "code",
   "execution_count": 88,
   "id": "e3d9ec43",
   "metadata": {},
   "outputs": [],
   "source": [
    "#Convert Manager Current Designation\n",
    "dict_cur_des = {'Level 1': 1, 'Level 2':2, 'Level 3':3, 'Level 4':4, 'Level 5':5}\n",
    "train_data.replace({'Manager_Current_Designation': dict_cur_des}, inplace = True)\n",
    "\n",
    "train_data['Manager_Current_Designation'] = train_data['Manager_Current_Designation'].fillna(0)\n",
    "\n",
    "test_data.replace({'Manager_Current_Designation': dict_cur_des}, inplace = True)\n",
    "\n",
    "test_data['Manager_Current_Designation'] = test_data['Manager_Current_Designation'].fillna(0)"
   ]
  },
  {
   "cell_type": "code",
   "execution_count": 89,
   "id": "261cddff",
   "metadata": {},
   "outputs": [
    {
     "data": {
      "text/plain": [
       "Confirmation    5277\n",
       "Probation       3567\n",
       "Name: Manager_Status, dtype: int64"
      ]
     },
     "execution_count": 89,
     "metadata": {},
     "output_type": "execute_result"
    }
   ],
   "source": [
    "train_data['Manager_Status'].value_counts()"
   ]
  },
  {
   "cell_type": "code",
   "execution_count": 90,
   "id": "91aab5f2",
   "metadata": {},
   "outputs": [
    {
     "data": {
      "text/plain": [
       "Probation       2292\n",
       "Confirmation    1929\n",
       "Name: Manager_Status, dtype: int64"
      ]
     },
     "execution_count": 90,
     "metadata": {},
     "output_type": "execute_result"
    }
   ],
   "source": [
    "test_data['Manager_Status'].value_counts()"
   ]
  },
  {
   "cell_type": "code",
   "execution_count": 91,
   "id": "f050d8ca",
   "metadata": {},
   "outputs": [
    {
     "data": {
      "text/plain": [
       "M    3694\n",
       "F     527\n",
       "Name: Manager_Gender, dtype: int64"
      ]
     },
     "execution_count": 91,
     "metadata": {},
     "output_type": "execute_result"
    }
   ],
   "source": [
    "test_data['Manager_Gender'].value_counts()"
   ]
  },
  {
   "cell_type": "code",
   "execution_count": 92,
   "id": "985731e2",
   "metadata": {},
   "outputs": [],
   "source": [
    "#Convert Manager Gender\n",
    "dict_gender = {'M': 1, 'F':0}\n",
    "train_data.replace({'Manager_Gender': dict_gender}, inplace = True)\n",
    "\n",
    "train_data['Manager_Gender'] = train_data['Manager_Gender'].fillna(-1)\n",
    "\n",
    "test_data.replace({'Manager_Gender': dict_gender}, inplace = True)\n",
    "\n",
    "test_data['Manager_Gender'] = test_data['Manager_Gender'].fillna(-1)"
   ]
  },
  {
   "cell_type": "code",
   "execution_count": 93,
   "id": "3d792088",
   "metadata": {},
   "outputs": [],
   "source": [
    "#Convert Manager Status\n",
    "dict_status = {'Probation': 1, 'Confirmation':0}\n",
    "train_data.replace({'Manager_Status': dict_status}, inplace = True)\n",
    "\n",
    "train_data['Manager_Status'] = train_data['Manager_Status'].fillna(-1)\n",
    "\n",
    "test_data.replace({'Manager_Status': dict_status}, inplace = True)\n",
    "\n",
    "test_data['Manager_Status'] = test_data['Manager_Status'].fillna(-1)"
   ]
  },
  {
   "cell_type": "code",
   "execution_count": 94,
   "id": "56a4b5e9",
   "metadata": {},
   "outputs": [
    {
     "data": {
      "text/plain": [
       "ID                               0\n",
       "Office_PIN                       0\n",
       "Application_Receipt_Date         0\n",
       "Applicant_City_PIN              97\n",
       "Applicant_Gender                 0\n",
       "Applicant_BirthDate             73\n",
       "Applicant_Marital_Status         0\n",
       "Applicant_Occupation             0\n",
       "Applicant_Qualification          0\n",
       "Manager_DOJ                    683\n",
       "Manager_Joining_Designation      0\n",
       "Manager_Current_Designation      0\n",
       "Manager_Grade                    0\n",
       "Manager_Status                   0\n",
       "Manager_Gender                   0\n",
       "Manager_DoB                    683\n",
       "Manager_Num_Application          0\n",
       "Manager_Num_Coded                0\n",
       "Manager_Business                 0\n",
       "Manager_Num_Products             0\n",
       "Manager_Business2                0\n",
       "Manager_Num_Products2            0\n",
       "Business_Sourced                 0\n",
       "dtype: int64"
      ]
     },
     "execution_count": 94,
     "metadata": {},
     "output_type": "execute_result"
    }
   ],
   "source": [
    "train_data.isnull().sum()"
   ]
  },
  {
   "cell_type": "code",
   "execution_count": 36,
   "id": "e12d2970",
   "metadata": {},
   "outputs": [
    {
     "data": {
      "text/plain": [
       "<Figure size 1440x720 with 0 Axes>"
      ]
     },
     "metadata": {},
     "output_type": "display_data"
    },
    {
     "data": {
      "image/png": "[encoded data removed]",
      "text/plain": [
       "<Figure size 432x288 with 1 Axes>"
      ]
     },
     "metadata": {
      "needs_background": "light"
     },
     "output_type": "display_data"
    }
   ],
   "source": [
    "# Seeing Dependence of Business Sourced with Application Reciept Date\n",
    "plt.figure(figsize=(20,10))\n",
    "plot1 = pd.crosstab(index = train_data['Application_Receipt_Date'], columns = train_data['Business_Sourced'])\n",
    "plot1.plot.line();"
   ]
  },
  {
   "cell_type": "code",
   "execution_count": 37,
   "id": "26ce5df8",
   "metadata": {},
   "outputs": [
    {
     "data": {
      "text/plain": [
       "<Figure size 3600x3600 with 0 Axes>"
      ]
     },
     "metadata": {},
     "output_type": "display_data"
    },
    {
     "data": {
      "image/png": "[encoded data removed]",
      "text/plain": [
       "<Figure size 432x288 with 1 Axes>"
      ]
     },
     "metadata": {
      "needs_background": "light"
     },
     "output_type": "display_data"
    }
   ],
   "source": [
    "# Seeing Dependence of Business Sourced with Applicant Birthdate\n",
    "plt.figure(figsize=(50,50))\n",
    "plot1 = pd.crosstab(index = train_data['Applicant_BirthDate'], columns = train_data['Business_Sourced'])\n",
    "plot1.plot.line();"
   ]
  },
  {
   "cell_type": "code",
   "execution_count": 38,
   "id": "7ef0cc04",
   "metadata": {},
   "outputs": [
    {
     "data": {
      "text/plain": [
       "<Figure size 1440x720 with 0 Axes>"
      ]
     },
     "metadata": {},
     "output_type": "display_data"
    },
    {
     "data": {
      "image/png": "[encoded data removed]",
      "text/plain": [
       "<Figure size 432x288 with 1 Axes>"
      ]
     },
     "metadata": {
      "needs_background": "light"
     },
     "output_type": "display_data"
    }
   ],
   "source": [
    "# Seeing Dependence of Business Sourced with Manager's Date of Joining\n",
    "plt.figure(figsize=(20,10))\n",
    "plot1 = pd.crosstab(index = train_data['Manager_DOJ'], columns = train_data['Business_Sourced'])\n",
    "plot1.plot.line();"
   ]
  },
  {
   "cell_type": "code",
   "execution_count": 40,
   "id": "a5239b9b",
   "metadata": {},
   "outputs": [
    {
     "data": {
      "text/plain": [
       "<Figure size 1440x720 with 0 Axes>"
      ]
     },
     "metadata": {},
     "output_type": "display_data"
    },
    {
     "data": {
      "image/png": "[encoded data removed]",
      "text/plain": [
       "<Figure size 432x288 with 1 Axes>"
      ]
     },
     "metadata": {
      "needs_background": "light"
     },
     "output_type": "display_data"
    }
   ],
   "source": [
    "# Seeing Dependence of Business Sourced with Manager Date of Birth\n",
    "plt.figure(figsize=(20,10))\n",
    "plot1 = pd.crosstab(index = train_data['Manager_DoB'], columns = train_data['Business_Sourced'])\n",
    "plot1.plot.line();"
   ]
  },
  {
   "cell_type": "code",
   "execution_count": 43,
   "id": "6f94e3e8",
   "metadata": {},
   "outputs": [],
   "source": [
    "def age_from_date(date):\n",
    "    year = date.split('/')[-1]\n",
    "    month = date.split('/')[0]\n",
    "    birth = int(year) + float(month)/12\n",
    "    ref = 2009\n",
    "    age = ref - birth\n",
    "    return age"
   ]
  },
  {
   "cell_type": "code",
   "execution_count": 96,
   "id": "2e6faf3d",
   "metadata": {},
   "outputs": [
    {
     "data": {
      "text/plain": [
       "'4/16/2007'"
      ]
     },
     "execution_count": 96,
     "metadata": {},
     "output_type": "execute_result"
    }
   ],
   "source": [
    "x = train_data['Application_Receipt_Date']\n",
    "x[1]"
   ]
  },
  {
   "cell_type": "code",
   "execution_count": 97,
   "id": "3fe2dafa",
   "metadata": {},
   "outputs": [
    {
     "data": {
      "text/plain": [
       "'2/17/1983'"
      ]
     },
     "execution_count": 97,
     "metadata": {},
     "output_type": "execute_result"
    }
   ],
   "source": [
    "x = train_data['Applicant_BirthDate']\n",
    "x[1]"
   ]
  },
  {
   "cell_type": "code",
   "execution_count": 100,
   "id": "8a4714bb",
   "metadata": {},
   "outputs": [],
   "source": [
    "dict_date = {}\n",
    "dataset = [train_data, test_data]\n",
    "columns = ['Application_Receipt_Date', 'Applicant_BirthDate', 'Manager_DOJ', 'Manager_DoB']\n",
    "for data in dataset:\n",
    "    for column in columns:\n",
    "        data[column] = data[column].fillna(0)\n",
    "        for date in data[column]:\n",
    "            if date!=0:\n",
    "                dict_date[date] = age_from_date(date)\n",
    "        data.replace({column: dict_date}, inplace = True)"
   ]
  },
  {
   "cell_type": "code",
   "execution_count": 102,
   "id": "4f41dff0",
   "metadata": {},
   "outputs": [
    {
     "data": {
      "text/plain": [
       "1.583333    1077\n",
       "1.083333     912\n",
       "1.000000     845\n",
       "0.583333     829\n",
       "1.333333     723\n",
       "0.500000     717\n",
       "1.416667     697\n",
       "1.666667     580\n",
       "1.166667     567\n",
       "0.916667     530\n",
       "1.250000     522\n",
       "1.500000     471\n",
       "0.666667     434\n",
       "0.833333     418\n",
       "0.750000     187\n",
       "0.416667      18\n",
       "Name: Application_Receipt_Date, dtype: int64"
      ]
     },
     "execution_count": 102,
     "metadata": {},
     "output_type": "execute_result"
    }
   ],
   "source": [
    "train_data['Application_Receipt_Date'].value_counts()"
   ]
  },
  {
   "cell_type": "code",
   "execution_count": 103,
   "id": "7d0394f9",
   "metadata": {},
   "outputs": [
    {
     "data": {
      "text/plain": [
       " 0.416667    1380\n",
       " 0.000000     895\n",
       " 0.333333     862\n",
       " 0.250000     733\n",
       " 0.166667     547\n",
       " 0.083333     529\n",
       "-0.083333      99\n",
       "Name: Application_Receipt_Date, dtype: int64"
      ]
     },
     "execution_count": 103,
     "metadata": {},
     "output_type": "execute_result"
    }
   ],
   "source": [
    "test_data['Application_Receipt_Date'].value_counts()"
   ]
  },
  {
   "cell_type": "code",
   "execution_count": 111,
   "id": "f33f1602",
   "metadata": {},
   "outputs": [],
   "source": [
    "train_data['Applicant_BirthDate'] = train_data['Applicant_BirthDate'].replace(0, None)\n",
    "test_data['Applicant_BirthDate'] = test_data['Applicant_BirthDate'].replace(0, None)"
   ]
  },
  {
   "cell_type": "code",
   "execution_count": 110,
   "id": "7ee59d0f",
   "metadata": {},
   "outputs": [
    {
     "data": {
      "text/plain": [
       "28.416667    79\n",
       "26.416667    74\n",
       "27.416667    71\n",
       "29.916667    70\n",
       "25.916667    68\n",
       "             ..\n",
       "64.500000     1\n",
       "72.250000     1\n",
       "65.333333     1\n",
       "69.916667     1\n",
       "68.750000     1\n",
       "Name: Applicant_BirthDate, Length: 620, dtype: int64"
      ]
     },
     "execution_count": 110,
     "metadata": {},
     "output_type": "execute_result"
    }
   ],
   "source": [
    "train_data['Applicant_BirthDate'].value_counts()"
   ]
  },
  {
   "cell_type": "code",
   "execution_count": 112,
   "id": "c68e8fcd",
   "metadata": {},
   "outputs": [],
   "source": [
    "train_data['Manager_DOJ'] = train_data['Manager_DOJ'].replace(0, None)\n",
    "test_data['Manager_DOJ'] = test_data['Manager_DOJ'].replace(0, None)"
   ]
  },
  {
   "cell_type": "code",
   "execution_count": 113,
   "id": "ffe82fd7",
   "metadata": {},
   "outputs": [],
   "source": [
    "train_data['Manager_DoB'] = train_data['Manager_DoB'].replace(0, None)\n",
    "test_data['Manager_DoB'] = test_data['Manager_DoB'].replace(0, None)"
   ]
  },
  {
   "cell_type": "code",
   "execution_count": 114,
   "id": "14a036e7",
   "metadata": {},
   "outputs": [],
   "source": [
    "random_gen('Manager_DoB')\n",
    "random_gen('Manager_DOJ')\n",
    "random_gen('Applicant_BirthDate')"
   ]
  },
  {
   "cell_type": "code",
   "execution_count": 115,
   "id": "d45797e2",
   "metadata": {},
   "outputs": [
    {
     "data": {
      "text/plain": [
       "ID                              0\n",
       "Office_PIN                      0\n",
       "Application_Receipt_Date        0\n",
       "Applicant_City_PIN             97\n",
       "Applicant_Gender                0\n",
       "Applicant_BirthDate             0\n",
       "Applicant_Marital_Status        0\n",
       "Applicant_Occupation            0\n",
       "Applicant_Qualification         0\n",
       "Manager_DOJ                     0\n",
       "Manager_Joining_Designation     0\n",
       "Manager_Current_Designation     0\n",
       "Manager_Grade                   0\n",
       "Manager_Status                  0\n",
       "Manager_Gender                  0\n",
       "Manager_DoB                     0\n",
       "Manager_Num_Application         0\n",
       "Manager_Num_Coded               0\n",
       "Manager_Business                0\n",
       "Manager_Num_Products            0\n",
       "Manager_Business2               0\n",
       "Manager_Num_Products2           0\n",
       "Business_Sourced                0\n",
       "dtype: int64"
      ]
     },
     "execution_count": 115,
     "metadata": {},
     "output_type": "execute_result"
    }
   ],
   "source": [
    "train_data.isnull().sum()"
   ]
  },
  {
   "cell_type": "code",
   "execution_count": 116,
   "id": "fb933e19",
   "metadata": {},
   "outputs": [
    {
     "data": {
      "text/plain": [
       "ID                              0\n",
       "Office_PIN                      0\n",
       "Application_Receipt_Date        0\n",
       "Applicant_City_PIN             34\n",
       "Applicant_Gender                0\n",
       "Applicant_BirthDate             0\n",
       "Applicant_Marital_Status       30\n",
       "Applicant_Occupation            0\n",
       "Applicant_Qualification         0\n",
       "Manager_DOJ                     0\n",
       "Manager_Joining_Designation     0\n",
       "Manager_Current_Designation     0\n",
       "Manager_Grade                   0\n",
       "Manager_Status                  0\n",
       "Manager_Gender                  0\n",
       "Manager_DoB                     0\n",
       "Manager_Num_Application         0\n",
       "Manager_Num_Coded               0\n",
       "Manager_Business                0\n",
       "Manager_Num_Products            0\n",
       "Manager_Business2               0\n",
       "Manager_Num_Products2           0\n",
       "dtype: int64"
      ]
     },
     "execution_count": 116,
     "metadata": {},
     "output_type": "execute_result"
    }
   ],
   "source": [
    "test_data.isnull().sum()"
   ]
  },
  {
   "cell_type": "code",
   "execution_count": 117,
   "id": "bb8f1b7e",
   "metadata": {},
   "outputs": [
    {
     "data": {
      "text/plain": [
       "<bound method DataFrame.info of               ID  Office_PIN  Application_Receipt_Date  Applicant_City_PIN  \\\n",
       "0     FIN1000001      842001                  1.666667            844120.0   \n",
       "1     FIN1000002      842001                  1.666667            844111.0   \n",
       "2     FIN1000003      800001                  1.666667            844101.0   \n",
       "3     FIN1000004      814112                  1.666667            814112.0   \n",
       "4     FIN1000005      814112                  1.666667            815351.0   \n",
       "...          ...         ...                       ...                 ...   \n",
       "9522  FIN1009523      160017                  0.416667            160032.0   \n",
       "9523  FIN1009524      848101                  0.416667            848302.0   \n",
       "9524  FIN1009525      753012                  0.416667            753014.0   \n",
       "9525  FIN1009526      575003                  0.416667            571248.0   \n",
       "9526  FIN1009527      411006                  0.416667            411006.0   \n",
       "\n",
       "      Applicant_Gender  Applicant_BirthDate Applicant_Marital_Status  \\\n",
       "0                  1.0                   37                        M   \n",
       "1                  1.0                   25                        S   \n",
       "2                  1.0                   42                        M   \n",
       "3                  1.0                   20                        S   \n",
       "4                  1.0                   23                        M   \n",
       "...                ...                  ...                      ...   \n",
       "9522               1.0                   38                        M   \n",
       "9523               1.0                   52                        M   \n",
       "9524               0.0                   33                        M   \n",
       "9525               1.0                   22                        S   \n",
       "9526               0.0                   32                        M   \n",
       "\n",
       "      Applicant_Occupation  Applicant_Qualification  Manager_DOJ  ...  \\\n",
       "0                      3.0                      2.0            3  ...   \n",
       "1                      3.0                      1.0            3  ...   \n",
       "2                      4.0                      1.0            2  ...   \n",
       "3                      5.0                      1.0            5  ...   \n",
       "4                      3.0                      1.0            2  ...   \n",
       "...                    ...                      ...          ...  ...   \n",
       "9522                   5.0                      2.0            0  ...   \n",
       "9523                   0.0                      2.0            0  ...   \n",
       "9524                   5.0                      2.0            2  ...   \n",
       "9525                   5.0                      1.0            0  ...   \n",
       "9526                   3.0                      2.0            0  ...   \n",
       "\n",
       "      Manager_Status  Manager_Gender  Manager_DoB  Manager_Num_Application  \\\n",
       "0                0.0             1.0           30                        2   \n",
       "1                0.0             1.0           30                        2   \n",
       "2                0.0             1.0           39                        0   \n",
       "3                0.0             0.0           30                        0   \n",
       "4                0.0             1.0           37                        2   \n",
       "...              ...             ...          ...                      ...   \n",
       "9522             1.0             1.0           41                        0   \n",
       "9523            -1.0            -1.0           41                        3   \n",
       "9524             0.0             1.0           38                        0   \n",
       "9525             1.0             1.0           32                        0   \n",
       "9526            -1.0            -1.0           32                        1   \n",
       "\n",
       "      Manager_Num_Coded  Manager_Business  Manager_Num_Products  \\\n",
       "0                     1            335249                    28   \n",
       "1                     1            335249                    28   \n",
       "2                     0            357184                    24   \n",
       "3                     0            318356                    22   \n",
       "4                     1            230402                    17   \n",
       "...                 ...               ...                   ...   \n",
       "9522                  0                 0                     0   \n",
       "9523                  0            236235                     6   \n",
       "9524                  0            316126                     9   \n",
       "9525                  0                 0                     0   \n",
       "9526                  1            298553                     2   \n",
       "\n",
       "      Manager_Business2  Manager_Num_Products2  Business_Sourced  \n",
       "0                335249                     28                 0  \n",
       "1                335249                     28                 1  \n",
       "2                357184                     24                 0  \n",
       "3                318356                     22                 0  \n",
       "4                230402                     17                 0  \n",
       "...                 ...                    ...               ...  \n",
       "9522                  0                      0                 0  \n",
       "9523             188173                     10                 0  \n",
       "9524             305775                      8                 0  \n",
       "9525                  0                      0                 0  \n",
       "9526             328620                      9                 0  \n",
       "\n",
       "[9527 rows x 23 columns]>"
      ]
     },
     "execution_count": 117,
     "metadata": {},
     "output_type": "execute_result"
    }
   ],
   "source": [
    "train_data.info"
   ]
  },
  {
   "cell_type": "code",
   "execution_count": 118,
   "id": "5813a9af",
   "metadata": {},
   "outputs": [],
   "source": [
    "param_test1 = {\n",
    "    'n_estimators': [100,200,500,750,1000],\n",
    "    'max_depth': [3,5,7,9],\n",
    "    'min_child_weight': [1,3,5],\n",
    "    'gamma':[i/10.0 for i in range(0,5)],\n",
    "    'subsample':[i/10.0 for i in range(6,10)],\n",
    "    'colsample_bytree':[i/10.0 for i in range(6,10)],\n",
    "    'reg_alpha':[0, 0.001, 0.005, 0.01, 0.05, 0.1, 1],\n",
    "    'learning_rate': [0.01, 0.02, 0.05, 0.1]\n",
    "}"
   ]
  },
  {
   "cell_type": "code",
   "execution_count": 119,
   "id": "3581df87",
   "metadata": {},
   "outputs": [
    {
     "data": {
      "text/plain": [
       "((9527,), (9527, 22))"
      ]
     },
     "execution_count": 119,
     "metadata": {},
     "output_type": "execute_result"
    }
   ],
   "source": [
    "# Getting Features\n",
    "features = ['Manager_Num_Products2','Manager_Num_Products','Manager_Business','Manager_Business2','Manager_Num_Coded', 'Manager_Num_Application','Manager_Grade','Manager_Status','Manager_Current_Designation','Applicant_Occupation',\n",
    "           'Application_Receipt_Date', 'Applicant_Gender', 'Applicant_BirthDate', 'Applicant_Marital_Status', 'Applicant_Qualification',\n",
    "           'Manager_DOJ', 'Manager_Joining_Designation', 'Manager_Gender', 'Manager_DoB']\n",
    "x = pd.get_dummies(train_data[features])\n",
    "\n",
    "# Predicting value\n",
    "y = train_data['Business_Sourced']\n",
    "y.shape, x.shape"
   ]
  },
  {
   "cell_type": "code",
   "execution_count": 120,
   "id": "19b8b9bd",
   "metadata": {},
   "outputs": [
    {
     "data": {
      "text/html": [
       "<div>\n",
       "<style scoped>\n",
       "    .dataframe tbody tr th:only-of-type {\n",
       "        vertical-align: middle;\n",
       "    }\n",
       "\n",
       "    .dataframe tbody tr th {\n",
       "        vertical-align: top;\n",
       "    }\n",
       "\n",
       "    .dataframe thead th {\n",
       "        text-align: right;\n",
       "    }\n",
       "</style>\n",
       "<table border=\"1\" class=\"dataframe\">\n",
       "  <thead>\n",
       "    <tr style=\"text-align: right;\">\n",
       "      <th></th>\n",
       "      <th>Manager_Num_Products2</th>\n",
       "      <th>Manager_Num_Products</th>\n",
       "      <th>Manager_Business</th>\n",
       "      <th>Manager_Business2</th>\n",
       "      <th>Manager_Num_Coded</th>\n",
       "      <th>Manager_Num_Application</th>\n",
       "      <th>Manager_Grade</th>\n",
       "      <th>Manager_Status</th>\n",
       "      <th>Manager_Current_Designation</th>\n",
       "      <th>Applicant_Occupation</th>\n",
       "      <th>...</th>\n",
       "      <th>Applicant_BirthDate</th>\n",
       "      <th>Applicant_Qualification</th>\n",
       "      <th>Manager_DOJ</th>\n",
       "      <th>Manager_Joining_Designation</th>\n",
       "      <th>Manager_Gender</th>\n",
       "      <th>Manager_DoB</th>\n",
       "      <th>Applicant_Marital_Status_D</th>\n",
       "      <th>Applicant_Marital_Status_M</th>\n",
       "      <th>Applicant_Marital_Status_S</th>\n",
       "      <th>Applicant_Marital_Status_W</th>\n",
       "    </tr>\n",
       "  </thead>\n",
       "  <tbody>\n",
       "    <tr>\n",
       "      <th>0</th>\n",
       "      <td>28</td>\n",
       "      <td>28</td>\n",
       "      <td>335249</td>\n",
       "      <td>335249</td>\n",
       "      <td>1</td>\n",
       "      <td>2</td>\n",
       "      <td>3</td>\n",
       "      <td>1.0</td>\n",
       "      <td>1.0</td>\n",
       "      <td>5.0</td>\n",
       "      <td>...</td>\n",
       "      <td>37</td>\n",
       "      <td>2.0</td>\n",
       "      <td>3</td>\n",
       "      <td>1.0</td>\n",
       "      <td>0.0</td>\n",
       "      <td>30</td>\n",
       "      <td>0</td>\n",
       "      <td>0</td>\n",
       "      <td>1</td>\n",
       "      <td>0</td>\n",
       "    </tr>\n",
       "    <tr>\n",
       "      <th>1</th>\n",
       "      <td>28</td>\n",
       "      <td>28</td>\n",
       "      <td>335249</td>\n",
       "      <td>335249</td>\n",
       "      <td>1</td>\n",
       "      <td>2</td>\n",
       "      <td>3</td>\n",
       "      <td>1.0</td>\n",
       "      <td>1.0</td>\n",
       "      <td>5.0</td>\n",
       "      <td>...</td>\n",
       "      <td>25</td>\n",
       "      <td>2.0</td>\n",
       "      <td>3</td>\n",
       "      <td>1.0</td>\n",
       "      <td>1.0</td>\n",
       "      <td>30</td>\n",
       "      <td>0</td>\n",
       "      <td>1</td>\n",
       "      <td>0</td>\n",
       "      <td>0</td>\n",
       "    </tr>\n",
       "    <tr>\n",
       "      <th>2</th>\n",
       "      <td>24</td>\n",
       "      <td>24</td>\n",
       "      <td>357184</td>\n",
       "      <td>357184</td>\n",
       "      <td>0</td>\n",
       "      <td>0</td>\n",
       "      <td>2</td>\n",
       "      <td>-1.0</td>\n",
       "      <td>0.0</td>\n",
       "      <td>0.0</td>\n",
       "      <td>...</td>\n",
       "      <td>42</td>\n",
       "      <td>2.0</td>\n",
       "      <td>2</td>\n",
       "      <td>0.0</td>\n",
       "      <td>-1.0</td>\n",
       "      <td>39</td>\n",
       "      <td>0</td>\n",
       "      <td>0</td>\n",
       "      <td>1</td>\n",
       "      <td>0</td>\n",
       "    </tr>\n",
       "    <tr>\n",
       "      <th>3</th>\n",
       "      <td>22</td>\n",
       "      <td>22</td>\n",
       "      <td>318356</td>\n",
       "      <td>318356</td>\n",
       "      <td>0</td>\n",
       "      <td>0</td>\n",
       "      <td>4</td>\n",
       "      <td>-1.0</td>\n",
       "      <td>0.0</td>\n",
       "      <td>5.0</td>\n",
       "      <td>...</td>\n",
       "      <td>20</td>\n",
       "      <td>2.0</td>\n",
       "      <td>5</td>\n",
       "      <td>0.0</td>\n",
       "      <td>-1.0</td>\n",
       "      <td>30</td>\n",
       "      <td>0</td>\n",
       "      <td>0</td>\n",
       "      <td>1</td>\n",
       "      <td>0</td>\n",
       "    </tr>\n",
       "    <tr>\n",
       "      <th>4</th>\n",
       "      <td>17</td>\n",
       "      <td>17</td>\n",
       "      <td>230402</td>\n",
       "      <td>230402</td>\n",
       "      <td>1</td>\n",
       "      <td>2</td>\n",
       "      <td>2</td>\n",
       "      <td>0.0</td>\n",
       "      <td>2.0</td>\n",
       "      <td>0.0</td>\n",
       "      <td>...</td>\n",
       "      <td>23</td>\n",
       "      <td>5.0</td>\n",
       "      <td>2</td>\n",
       "      <td>2.0</td>\n",
       "      <td>1.0</td>\n",
       "      <td>37</td>\n",
       "      <td>0</td>\n",
       "      <td>0</td>\n",
       "      <td>1</td>\n",
       "      <td>0</td>\n",
       "    </tr>\n",
       "    <tr>\n",
       "      <th>...</th>\n",
       "      <td>...</td>\n",
       "      <td>...</td>\n",
       "      <td>...</td>\n",
       "      <td>...</td>\n",
       "      <td>...</td>\n",
       "      <td>...</td>\n",
       "      <td>...</td>\n",
       "      <td>...</td>\n",
       "      <td>...</td>\n",
       "      <td>...</td>\n",
       "      <td>...</td>\n",
       "      <td>...</td>\n",
       "      <td>...</td>\n",
       "      <td>...</td>\n",
       "      <td>...</td>\n",
       "      <td>...</td>\n",
       "      <td>...</td>\n",
       "      <td>...</td>\n",
       "      <td>...</td>\n",
       "      <td>...</td>\n",
       "      <td>...</td>\n",
       "    </tr>\n",
       "    <tr>\n",
       "      <th>5040</th>\n",
       "      <td>9</td>\n",
       "      <td>9</td>\n",
       "      <td>175273</td>\n",
       "      <td>175273</td>\n",
       "      <td>1</td>\n",
       "      <td>1</td>\n",
       "      <td>4</td>\n",
       "      <td>1.0</td>\n",
       "      <td>2.0</td>\n",
       "      <td>3.0</td>\n",
       "      <td>...</td>\n",
       "      <td>36</td>\n",
       "      <td>2.0</td>\n",
       "      <td>4</td>\n",
       "      <td>2.0</td>\n",
       "      <td>1.0</td>\n",
       "      <td>41</td>\n",
       "      <td>0</td>\n",
       "      <td>1</td>\n",
       "      <td>0</td>\n",
       "      <td>0</td>\n",
       "    </tr>\n",
       "    <tr>\n",
       "      <th>5041</th>\n",
       "      <td>10</td>\n",
       "      <td>10</td>\n",
       "      <td>225710</td>\n",
       "      <td>225710</td>\n",
       "      <td>0</td>\n",
       "      <td>1</td>\n",
       "      <td>3</td>\n",
       "      <td>1.0</td>\n",
       "      <td>2.0</td>\n",
       "      <td>3.0</td>\n",
       "      <td>...</td>\n",
       "      <td>37</td>\n",
       "      <td>2.0</td>\n",
       "      <td>2</td>\n",
       "      <td>2.0</td>\n",
       "      <td>1.0</td>\n",
       "      <td>29</td>\n",
       "      <td>0</td>\n",
       "      <td>1</td>\n",
       "      <td>0</td>\n",
       "      <td>0</td>\n",
       "    </tr>\n",
       "    <tr>\n",
       "      <th>5042</th>\n",
       "      <td>0</td>\n",
       "      <td>0</td>\n",
       "      <td>0</td>\n",
       "      <td>0</td>\n",
       "      <td>0</td>\n",
       "      <td>3</td>\n",
       "      <td>3</td>\n",
       "      <td>1.0</td>\n",
       "      <td>2.0</td>\n",
       "      <td>4.0</td>\n",
       "      <td>...</td>\n",
       "      <td>28</td>\n",
       "      <td>1.0</td>\n",
       "      <td>1</td>\n",
       "      <td>2.0</td>\n",
       "      <td>1.0</td>\n",
       "      <td>32</td>\n",
       "      <td>0</td>\n",
       "      <td>1</td>\n",
       "      <td>0</td>\n",
       "      <td>0</td>\n",
       "    </tr>\n",
       "    <tr>\n",
       "      <th>5043</th>\n",
       "      <td>8</td>\n",
       "      <td>8</td>\n",
       "      <td>177204</td>\n",
       "      <td>177204</td>\n",
       "      <td>1</td>\n",
       "      <td>1</td>\n",
       "      <td>2</td>\n",
       "      <td>1.0</td>\n",
       "      <td>2.0</td>\n",
       "      <td>0.0</td>\n",
       "      <td>...</td>\n",
       "      <td>30</td>\n",
       "      <td>2.0</td>\n",
       "      <td>2</td>\n",
       "      <td>2.0</td>\n",
       "      <td>1.0</td>\n",
       "      <td>41</td>\n",
       "      <td>0</td>\n",
       "      <td>1</td>\n",
       "      <td>0</td>\n",
       "      <td>0</td>\n",
       "    </tr>\n",
       "    <tr>\n",
       "      <th>5044</th>\n",
       "      <td>18</td>\n",
       "      <td>18</td>\n",
       "      <td>351995</td>\n",
       "      <td>351995</td>\n",
       "      <td>1</td>\n",
       "      <td>5</td>\n",
       "      <td>3</td>\n",
       "      <td>1.0</td>\n",
       "      <td>2.0</td>\n",
       "      <td>0.0</td>\n",
       "      <td>...</td>\n",
       "      <td>47</td>\n",
       "      <td>2.0</td>\n",
       "      <td>2</td>\n",
       "      <td>2.0</td>\n",
       "      <td>1.0</td>\n",
       "      <td>41</td>\n",
       "      <td>0</td>\n",
       "      <td>1</td>\n",
       "      <td>0</td>\n",
       "      <td>0</td>\n",
       "    </tr>\n",
       "  </tbody>\n",
       "</table>\n",
       "<p>5045 rows × 22 columns</p>\n",
       "</div>"
      ],
      "text/plain": [
       "      Manager_Num_Products2  Manager_Num_Products  Manager_Business  \\\n",
       "0                        28                    28            335249   \n",
       "1                        28                    28            335249   \n",
       "2                        24                    24            357184   \n",
       "3                        22                    22            318356   \n",
       "4                        17                    17            230402   \n",
       "...                     ...                   ...               ...   \n",
       "5040                      9                     9            175273   \n",
       "5041                     10                    10            225710   \n",
       "5042                      0                     0                 0   \n",
       "5043                      8                     8            177204   \n",
       "5044                     18                    18            351995   \n",
       "\n",
       "      Manager_Business2  Manager_Num_Coded  Manager_Num_Application  \\\n",
       "0                335249                  1                        2   \n",
       "1                335249                  1                        2   \n",
       "2                357184                  0                        0   \n",
       "3                318356                  0                        0   \n",
       "4                230402                  1                        2   \n",
       "...                 ...                ...                      ...   \n",
       "5040             175273                  1                        1   \n",
       "5041             225710                  0                        1   \n",
       "5042                  0                  0                        3   \n",
       "5043             177204                  1                        1   \n",
       "5044             351995                  1                        5   \n",
       "\n",
       "      Manager_Grade  Manager_Status  Manager_Current_Designation  \\\n",
       "0                 3             1.0                          1.0   \n",
       "1                 3             1.0                          1.0   \n",
       "2                 2            -1.0                          0.0   \n",
       "3                 4            -1.0                          0.0   \n",
       "4                 2             0.0                          2.0   \n",
       "...             ...             ...                          ...   \n",
       "5040              4             1.0                          2.0   \n",
       "5041              3             1.0                          2.0   \n",
       "5042              3             1.0                          2.0   \n",
       "5043              2             1.0                          2.0   \n",
       "5044              3             1.0                          2.0   \n",
       "\n",
       "      Applicant_Occupation  ...  Applicant_BirthDate  Applicant_Qualification  \\\n",
       "0                      5.0  ...                   37                      2.0   \n",
       "1                      5.0  ...                   25                      2.0   \n",
       "2                      0.0  ...                   42                      2.0   \n",
       "3                      5.0  ...                   20                      2.0   \n",
       "4                      0.0  ...                   23                      5.0   \n",
       "...                    ...  ...                  ...                      ...   \n",
       "5040                   3.0  ...                   36                      2.0   \n",
       "5041                   3.0  ...                   37                      2.0   \n",
       "5042                   4.0  ...                   28                      1.0   \n",
       "5043                   0.0  ...                   30                      2.0   \n",
       "5044                   0.0  ...                   47                      2.0   \n",
       "\n",
       "      Manager_DOJ  Manager_Joining_Designation  Manager_Gender  Manager_DoB  \\\n",
       "0               3                          1.0             0.0           30   \n",
       "1               3                          1.0             1.0           30   \n",
       "2               2                          0.0            -1.0           39   \n",
       "3               5                          0.0            -1.0           30   \n",
       "4               2                          2.0             1.0           37   \n",
       "...           ...                          ...             ...          ...   \n",
       "5040            4                          2.0             1.0           41   \n",
       "5041            2                          2.0             1.0           29   \n",
       "5042            1                          2.0             1.0           32   \n",
       "5043            2                          2.0             1.0           41   \n",
       "5044            2                          2.0             1.0           41   \n",
       "\n",
       "      Applicant_Marital_Status_D  Applicant_Marital_Status_M  \\\n",
       "0                              0                           0   \n",
       "1                              0                           1   \n",
       "2                              0                           0   \n",
       "3                              0                           0   \n",
       "4                              0                           0   \n",
       "...                          ...                         ...   \n",
       "5040                           0                           1   \n",
       "5041                           0                           1   \n",
       "5042                           0                           1   \n",
       "5043                           0                           1   \n",
       "5044                           0                           1   \n",
       "\n",
       "      Applicant_Marital_Status_S  Applicant_Marital_Status_W  \n",
       "0                              1                           0  \n",
       "1                              0                           0  \n",
       "2                              1                           0  \n",
       "3                              1                           0  \n",
       "4                              1                           0  \n",
       "...                          ...                         ...  \n",
       "5040                           0                           0  \n",
       "5041                           0                           0  \n",
       "5042                           0                           0  \n",
       "5043                           0                           0  \n",
       "5044                           0                           0  \n",
       "\n",
       "[5045 rows x 22 columns]"
      ]
     },
     "execution_count": 120,
     "metadata": {},
     "output_type": "execute_result"
    }
   ],
   "source": [
    "xtest = pd.get_dummies(test_data[features])\n",
    "xtest"
   ]
  },
  {
   "cell_type": "code",
   "execution_count": 121,
   "id": "3547b030",
   "metadata": {},
   "outputs": [],
   "source": [
    "# machine learning\n",
    "from sklearn.linear_model import LogisticRegression\n",
    "from sklearn.svm import SVC, LinearSVC\n",
    "from sklearn.ensemble import RandomForestClassifier\n",
    "from sklearn.neighbors import KNeighborsClassifier\n",
    "from sklearn.naive_bayes import GaussianNB\n",
    "from sklearn.linear_model import Perceptron\n",
    "from sklearn.linear_model import SGDClassifier\n",
    "from sklearn.tree import DecisionTreeClassifier"
   ]
  },
  {
   "cell_type": "code",
   "execution_count": 122,
   "id": "4f454489",
   "metadata": {},
   "outputs": [
    {
     "data": {
      "text/plain": [
       "65.69"
      ]
     },
     "execution_count": 122,
     "metadata": {},
     "output_type": "execute_result"
    }
   ],
   "source": [
    "# Logistic Regression\n",
    "\n",
    "logreg = LogisticRegression()\n",
    "logreg.fit(x, y)\n",
    "Y_pred = logreg.predict(xtest)\n",
    "acc_log = round(logreg.score(x, y) * 100, 2)\n",
    "acc_log"
   ]
  },
  {
   "cell_type": "code",
   "execution_count": 123,
   "id": "b0bb6101",
   "metadata": {},
   "outputs": [
    {
     "data": {
      "text/plain": [
       "65.78"
      ]
     },
     "execution_count": 123,
     "metadata": {},
     "output_type": "execute_result"
    }
   ],
   "source": [
    "# Support Vector Machines\n",
    "\n",
    "svc = SVC()\n",
    "svc.fit(x, y)\n",
    "Y_pred = svc.predict(xtest)\n",
    "acc_svc = round(svc.score(x, y) * 100, 2)\n",
    "acc_svc"
   ]
  },
  {
   "cell_type": "code",
   "execution_count": 124,
   "id": "81be0c36",
   "metadata": {},
   "outputs": [
    {
     "data": {
      "text/plain": [
       "78.83"
      ]
     },
     "execution_count": 124,
     "metadata": {},
     "output_type": "execute_result"
    }
   ],
   "source": [
    "knn = KNeighborsClassifier(n_neighbors = 3)\n",
    "knn.fit(x, y)\n",
    "Y_pred = knn.predict(xtest)\n",
    "acc_knn = round(knn.score(x, y) * 100, 2)\n",
    "acc_knn"
   ]
  },
  {
   "cell_type": "code",
   "execution_count": 125,
   "id": "866bbd33",
   "metadata": {},
   "outputs": [
    {
     "data": {
      "text/plain": [
       "64.79"
      ]
     },
     "execution_count": 125,
     "metadata": {},
     "output_type": "execute_result"
    }
   ],
   "source": [
    "# Gaussian Naive Bayes\n",
    "\n",
    "gaussian = GaussianNB()\n",
    "gaussian.fit(x, y)\n",
    "Y_pred = gaussian.predict(xtest)\n",
    "acc_gaussian = round(gaussian.score(x, y) * 100, 2)\n",
    "acc_gaussian"
   ]
  },
  {
   "cell_type": "code",
   "execution_count": 126,
   "id": "eda1d559",
   "metadata": {},
   "outputs": [
    {
     "data": {
      "text/plain": [
       "58.78"
      ]
     },
     "execution_count": 126,
     "metadata": {},
     "output_type": "execute_result"
    }
   ],
   "source": [
    "# Perceptron\n",
    "\n",
    "perceptron = Perceptron()\n",
    "perceptron.fit(x, y)\n",
    "Y_pred = perceptron.predict(xtest)\n",
    "acc_perceptron = round(perceptron.score(x, y) * 100, 2)\n",
    "acc_perceptron"
   ]
  },
  {
   "cell_type": "code",
   "execution_count": 127,
   "id": "af5c40c7",
   "metadata": {},
   "outputs": [
    {
     "data": {
      "text/plain": [
       "65.72"
      ]
     },
     "execution_count": 127,
     "metadata": {},
     "output_type": "execute_result"
    }
   ],
   "source": [
    "# Linear SVC\n",
    "\n",
    "linear_svc = LinearSVC()\n",
    "linear_svc.fit(x, y)\n",
    "Y_pred = linear_svc.predict(xtest)\n",
    "acc_linear_svc = round(linear_svc.score(x, y) * 100, 2)\n",
    "acc_linear_svc"
   ]
  },
  {
   "cell_type": "code",
   "execution_count": 128,
   "id": "e69305ca",
   "metadata": {},
   "outputs": [
    {
     "data": {
      "text/plain": [
       "65.46"
      ]
     },
     "execution_count": 128,
     "metadata": {},
     "output_type": "execute_result"
    }
   ],
   "source": [
    "# Stochastic Gradient Descent\n",
    "\n",
    "sgd = SGDClassifier()\n",
    "sgd.fit(x, y)\n",
    "Y_pred = sgd.predict(xtest)\n",
    "acc_sgd = round(sgd.score(x, y) * 100, 2)\n",
    "acc_sgd"
   ]
  },
  {
   "cell_type": "code",
   "execution_count": 129,
   "id": "e57ebfc8",
   "metadata": {},
   "outputs": [
    {
     "data": {
      "text/plain": [
       "99.85"
      ]
     },
     "execution_count": 129,
     "metadata": {},
     "output_type": "execute_result"
    }
   ],
   "source": [
    "# Decision Tree\n",
    "\n",
    "decision_tree = DecisionTreeClassifier()\n",
    "decision_tree.fit(x, y)\n",
    "Y_pred = decision_tree.predict(xtest)\n",
    "acc_decision_tree = round(decision_tree.score(x, y) * 100, 2)\n",
    "acc_decision_tree"
   ]
  },
  {
   "cell_type": "code",
   "execution_count": 130,
   "id": "d9c91130",
   "metadata": {},
   "outputs": [
    {
     "data": {
      "text/plain": [
       "99.85"
      ]
     },
     "execution_count": 130,
     "metadata": {},
     "output_type": "execute_result"
    }
   ],
   "source": [
    "# Random Forest\n",
    "\n",
    "random_forest = RandomForestClassifier(n_estimators=1000)\n",
    "random_forest.fit(x, y)\n",
    "Y_pred = random_forest.predict(xtest)\n",
    "random_forest.score(x, y)\n",
    "acc_random_forest = round(random_forest.score(x, y) * 100, 2)\n",
    "acc_random_forest"
   ]
  },
  {
   "cell_type": "code",
   "execution_count": 131,
   "id": "405f62cd",
   "metadata": {},
   "outputs": [
    {
     "data": {
      "text/html": [
       "<div>\n",
       "<style scoped>\n",
       "    .dataframe tbody tr th:only-of-type {\n",
       "        vertical-align: middle;\n",
       "    }\n",
       "\n",
       "    .dataframe tbody tr th {\n",
       "        vertical-align: top;\n",
       "    }\n",
       "\n",
       "    .dataframe thead th {\n",
       "        text-align: right;\n",
       "    }\n",
       "</style>\n",
       "<table border=\"1\" class=\"dataframe\">\n",
       "  <thead>\n",
       "    <tr style=\"text-align: right;\">\n",
       "      <th></th>\n",
       "      <th>Model</th>\n",
       "      <th>Score</th>\n",
       "    </tr>\n",
       "  </thead>\n",
       "  <tbody>\n",
       "    <tr>\n",
       "      <th>3</th>\n",
       "      <td>Random Forest</td>\n",
       "      <td>99.85</td>\n",
       "    </tr>\n",
       "    <tr>\n",
       "      <th>8</th>\n",
       "      <td>Decision Tree</td>\n",
       "      <td>99.85</td>\n",
       "    </tr>\n",
       "    <tr>\n",
       "      <th>1</th>\n",
       "      <td>KNN</td>\n",
       "      <td>78.83</td>\n",
       "    </tr>\n",
       "    <tr>\n",
       "      <th>0</th>\n",
       "      <td>Support Vector Machines</td>\n",
       "      <td>65.78</td>\n",
       "    </tr>\n",
       "    <tr>\n",
       "      <th>7</th>\n",
       "      <td>Linear SVC</td>\n",
       "      <td>65.72</td>\n",
       "    </tr>\n",
       "    <tr>\n",
       "      <th>2</th>\n",
       "      <td>Logistic Regression</td>\n",
       "      <td>65.69</td>\n",
       "    </tr>\n",
       "    <tr>\n",
       "      <th>6</th>\n",
       "      <td>Stochastic Gradient Decent</td>\n",
       "      <td>65.46</td>\n",
       "    </tr>\n",
       "    <tr>\n",
       "      <th>4</th>\n",
       "      <td>Naive Bayes</td>\n",
       "      <td>64.79</td>\n",
       "    </tr>\n",
       "    <tr>\n",
       "      <th>5</th>\n",
       "      <td>Perceptron</td>\n",
       "      <td>58.78</td>\n",
       "    </tr>\n",
       "  </tbody>\n",
       "</table>\n",
       "</div>"
      ],
      "text/plain": [
       "                        Model  Score\n",
       "3               Random Forest  99.85\n",
       "8               Decision Tree  99.85\n",
       "1                         KNN  78.83\n",
       "0     Support Vector Machines  65.78\n",
       "7                  Linear SVC  65.72\n",
       "2         Logistic Regression  65.69\n",
       "6  Stochastic Gradient Decent  65.46\n",
       "4                 Naive Bayes  64.79\n",
       "5                  Perceptron  58.78"
      ]
     },
     "execution_count": 131,
     "metadata": {},
     "output_type": "execute_result"
    }
   ],
   "source": [
    "models = pd.DataFrame({\n",
    "    'Model': ['Support Vector Machines', 'KNN', 'Logistic Regression', \n",
    "              'Random Forest', 'Naive Bayes', 'Perceptron', \n",
    "              'Stochastic Gradient Decent', 'Linear SVC', \n",
    "              'Decision Tree'],\n",
    "    'Score': [acc_svc, acc_knn, acc_log, \n",
    "              acc_random_forest, acc_gaussian, acc_perceptron, \n",
    "              acc_sgd, acc_linear_svc, acc_decision_tree]})\n",
    "sorted_model=models.sort_values(by='Score', ascending=False)\n",
    "sorted_model"
   ]
  },
  {
   "cell_type": "code",
   "execution_count": 132,
   "id": "5725430f",
   "metadata": {},
   "outputs": [
    {
     "data": {
      "image/png": "[encoded data removed]",
      "text/plain": [
       "<Figure size 1440x720 with 1 Axes>"
      ]
     },
     "metadata": {
      "needs_background": "light"
     },
     "output_type": "display_data"
    }
   ],
   "source": [
    "plt.figure(figsize=(20,10))\n",
    "fig = plt.bar(sorted_model['Model'], sorted_model['Score'],color='blue')\n",
    "plt.grid()\n",
    "plt.show()"
   ]
  },
  {
   "cell_type": "code",
   "execution_count": 135,
   "id": "18e78525",
   "metadata": {},
   "outputs": [],
   "source": [
    "output = pd.DataFrame({'ID': test_data.ID, 'Business_Sourced': Y_pred.astype(int)})\n",
    "output.to_csv('submission6.csv', index=False)"
   ]
  },
  {
   "cell_type": "code",
   "execution_count": 136,
   "id": "d7a62545",
   "metadata": {},
   "outputs": [
    {
     "data": {
      "text/html": [
       "<div>\n",
       "<style scoped>\n",
       "    .dataframe tbody tr th:only-of-type {\n",
       "        vertical-align: middle;\n",
       "    }\n",
       "\n",
       "    .dataframe tbody tr th {\n",
       "        vertical-align: top;\n",
       "    }\n",
       "\n",
       "    .dataframe thead th {\n",
       "        text-align: right;\n",
       "    }\n",
       "</style>\n",
       "<table border=\"1\" class=\"dataframe\">\n",
       "  <thead>\n",
       "    <tr style=\"text-align: right;\">\n",
       "      <th></th>\n",
       "      <th>ID</th>\n",
       "      <th>Business_Sourced</th>\n",
       "    </tr>\n",
       "  </thead>\n",
       "  <tbody>\n",
       "    <tr>\n",
       "      <th>0</th>\n",
       "      <td>FIN1009528</td>\n",
       "      <td>0</td>\n",
       "    </tr>\n",
       "    <tr>\n",
       "      <th>1</th>\n",
       "      <td>FIN1009529</td>\n",
       "      <td>0</td>\n",
       "    </tr>\n",
       "    <tr>\n",
       "      <th>2</th>\n",
       "      <td>FIN1009530</td>\n",
       "      <td>0</td>\n",
       "    </tr>\n",
       "    <tr>\n",
       "      <th>3</th>\n",
       "      <td>FIN1009531</td>\n",
       "      <td>0</td>\n",
       "    </tr>\n",
       "    <tr>\n",
       "      <th>4</th>\n",
       "      <td>FIN1009532</td>\n",
       "      <td>0</td>\n",
       "    </tr>\n",
       "    <tr>\n",
       "      <th>...</th>\n",
       "      <td>...</td>\n",
       "      <td>...</td>\n",
       "    </tr>\n",
       "    <tr>\n",
       "      <th>95</th>\n",
       "      <td>FIN1009623</td>\n",
       "      <td>0</td>\n",
       "    </tr>\n",
       "    <tr>\n",
       "      <th>96</th>\n",
       "      <td>FIN1009624</td>\n",
       "      <td>0</td>\n",
       "    </tr>\n",
       "    <tr>\n",
       "      <th>97</th>\n",
       "      <td>FIN1009625</td>\n",
       "      <td>0</td>\n",
       "    </tr>\n",
       "    <tr>\n",
       "      <th>98</th>\n",
       "      <td>FIN1009626</td>\n",
       "      <td>0</td>\n",
       "    </tr>\n",
       "    <tr>\n",
       "      <th>99</th>\n",
       "      <td>FIN1009627</td>\n",
       "      <td>0</td>\n",
       "    </tr>\n",
       "  </tbody>\n",
       "</table>\n",
       "<p>100 rows × 2 columns</p>\n",
       "</div>"
      ],
      "text/plain": [
       "            ID  Business_Sourced\n",
       "0   FIN1009528                 0\n",
       "1   FIN1009529                 0\n",
       "2   FIN1009530                 0\n",
       "3   FIN1009531                 0\n",
       "4   FIN1009532                 0\n",
       "..         ...               ...\n",
       "95  FIN1009623                 0\n",
       "96  FIN1009624                 0\n",
       "97  FIN1009625                 0\n",
       "98  FIN1009626                 0\n",
       "99  FIN1009627                 0\n",
       "\n",
       "[100 rows x 2 columns]"
      ]
     },
     "execution_count": 136,
     "metadata": {},
     "output_type": "execute_result"
    }
   ],
   "source": [
    "output.head(100)"
   ]
  }
 ],
 "metadata": {
  "kernelspec": {
   "display_name": "Python 3",
   "language": "python",
   "name": "python3"
  },
  "language_info": {
   "codemirror_mode": {
    "name": "ipython",
    "version": 3
   },
   "file_extension": ".py",
   "mimetype": "text/x-python",
   "name": "python",
   "nbconvert_exporter": "python",
   "pygments_lexer": "ipython3",
   "version": "3.8.5"
  }
 },
 "nbformat": 4,
 "nbformat_minor": 5
}
